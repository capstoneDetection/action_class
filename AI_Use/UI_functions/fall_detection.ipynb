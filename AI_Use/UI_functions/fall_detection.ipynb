{
 "cells": [
  {
   "cell_type": "code",
   "execution_count": 3,
   "id": "ca947131",
   "metadata": {},
   "outputs": [
    {
     "name": "stderr",
     "output_type": "stream",
     "text": [
      "I0000 00:00:1746500568.334869 2233301 gl_context.cc:369] GL version: 2.1 (2.1 Metal - 88.1), renderer: Apple M1\n",
      "W0000 00:00:1746500568.419545 2233989 inference_feedback_manager.cc:114] Feedback manager requires a model with a single signature inference. Disabling support for feedback tensors.\n",
      "W0000 00:00:1746500568.436732 2233989 inference_feedback_manager.cc:114] Feedback manager requires a model with a single signature inference. Disabling support for feedback tensors.\n",
      "W0000 00:00:1746500570.499651 2233990 landmark_projection_calculator.cc:186] Using NORM_RECT without IMAGE_DIMENSIONS is only supported for the square ROI. Provide IMAGE_DIMENSIONS or use PROJECTION_MATRIX.\n"
     ]
    },
    {
     "ename": "NameError",
     "evalue": "name 'send_info_to_dataativeate' is not defined",
     "output_type": "error",
     "traceback": [
      "\u001b[0;31m---------------------------------------------------------------------------\u001b[0m",
      "\u001b[0;31mNameError\u001b[0m                                 Traceback (most recent call last)",
      "Cell \u001b[0;32mIn[3], line 19\u001b[0m\n\u001b[1;32m     17\u001b[0m fall_detected, prob \u001b[38;5;241m=\u001b[39m fall_detector\u001b[38;5;241m.\u001b[39mprocess_frame(frame)\n\u001b[1;32m     18\u001b[0m \u001b[38;5;28;01mif\u001b[39;00m fall_detected:\n\u001b[0;32m---> 19\u001b[0m     \u001b[43msend_info_to_dataativeate\u001b[49m(database\u001b[38;5;241m=\u001b[39m\u001b[38;5;241m1\u001b[39m)\n\u001b[1;32m     20\u001b[0m \u001b[38;5;66;03m#(Optionally show frame, handle key events, etc.)\u001b[39;00m\n\u001b[1;32m     21\u001b[0m cv2\u001b[38;5;241m.\u001b[39mimshow(\u001b[38;5;124m\"\u001b[39m\u001b[38;5;124mFrame\u001b[39m\u001b[38;5;124m\"\u001b[39m, frame)\n",
      "\u001b[0;31mNameError\u001b[0m: name 'send_info_to_dataativeate' is not defined"
     ]
    }
   ],
   "source": [
    "from fall_detection import FallDetector\n",
    "import cv2\n",
    "\n",
    "# Initialize once\n",
    "fall_detector = FallDetector(\n",
    "    model_path=\"../../AI_Train/Models/stgcn_fall_detection.pth\", \n",
    "    window_size=30, \n",
    "    threshold=0.8\n",
    "    )\n",
    "\n",
    "# Example with OpenCV camera\n",
    "cap = cv2.VideoCapture(0)\n",
    "while True:\n",
    "    ret, frame = cap.read()\n",
    "    if not ret:\n",
    "        break\n",
    "    fall_detected, prob = fall_detector.process_frame(frame)\n",
    "    if fall_detected:\n",
    "        send_info_to_dataativeate(database=1)\n",
    "    #(Optionally show frame, handle key events, etc.)\n",
    "    cv2.imshow(\"Frame\", frame)\n",
    "    if cv2.waitKey(1) & 0xFF == ord('q'):\n",
    "        break\n",
    "\n",
    "# Cleanup\n",
    "cap.release()\n",
    "fall_detector.close()"
   ]
  }
 ],
 "metadata": {
  "kernelspec": {
   "display_name": "fart",
   "language": "python",
   "name": "python3"
  },
  "language_info": {
   "codemirror_mode": {
    "name": "ipython",
    "version": 3
   },
   "file_extension": ".py",
   "mimetype": "text/x-python",
   "name": "python",
   "nbconvert_exporter": "python",
   "pygments_lexer": "ipython3",
   "version": "3.12.2"
  }
 },
 "nbformat": 4,
 "nbformat_minor": 5
}
