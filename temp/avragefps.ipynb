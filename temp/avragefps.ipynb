{
 "cells": [
  {
   "cell_type": "code",
   "execution_count": 1,
   "metadata": {},
   "outputs": [
    {
     "name": "stdout",
     "output_type": "stream",
     "text": [
      "1\n"
     ]
    }
   ],
   "source": [
    "print(1)"
   ]
  },
  {
   "cell_type": "code",
   "execution_count": 5,
   "metadata": {},
   "outputs": [
    {
     "name": "stdout",
     "output_type": "stream",
     "text": [
      "Error: Could not convert lines to numbers in file: /Volumes/Extreme SSD/FallDataset/Coffee_room_01/Annotation_files/video (26).txt\n",
      "Error: Could not convert lines to numbers in file: /Volumes/Extreme SSD/FallDataset/Coffee_room_02/Annotations_files/video (50).txt\n",
      "Error: Could not convert lines to numbers in file: /Volumes/Extreme SSD/FallDataset/Coffee_room_02/Annotations_files/video (52).txt\n",
      "\n",
      "Analysis Results:\n",
      "Average Difference: 17.2205\n",
      "Minimum Difference: 0.0000\n",
      "Maximum Difference: 45.0000\n"
     ]
    }
   ],
   "source": [
    "import os\n",
    "import statistics\n",
    "\n",
    "def analyze_video_txt_files(folder_path):\n",
    "    \"\"\"\n",
    "    Selects a folder, gets all the txt files name starting with \"video\",\n",
    "    reads the first two numbers from each file, and calculates the\n",
    "    average, minimum, and maximum of the absolute difference between these numbers.\n",
    "\n",
    "    Args:\n",
    "        folder_path (str): The path to the folder to analyze.\n",
    "\n",
    "    Returns:\n",
    "        dict: A dictionary containing the average, minimum, and maximum\n",
    "              of the differences, or None if no matching files are found\n",
    "              or if files don't contain the expected numbers.\n",
    "    \"\"\"\n",
    "    differences = []\n",
    "    found_files = False\n",
    "\n",
    "    for dirpath, dirnames, filenames in os.walk(folder_path):\n",
    "        for filename in filenames:\n",
    "            if filename.lower().startswith(\"video\") and filename.lower().endswith(\".txt\"):\n",
    "                found_files = True\n",
    "                filepath = os.path.join(dirpath, filename)\n",
    "                try:\n",
    "                    with open(filepath, 'r') as f:\n",
    "                        line1 = f.readline().strip()\n",
    "                        line2 = f.readline().strip()\n",
    "\n",
    "                        num1 = float(line1)\n",
    "                        num2 = float(line2)\n",
    "\n",
    "                        difference = abs(num1 - num2)\n",
    "                        differences.append(difference)\n",
    "\n",
    "                except FileNotFoundError:\n",
    "                    print(f\"Error: File not found: {filepath}\")\n",
    "                except ValueError:\n",
    "                    print(f\"Error: Could not convert lines to numbers in file: {filepath}\")\n",
    "                except Exception as e:\n",
    "                    print(f\"An error occurred while processing {filepath}: {e}\")\n",
    "\n",
    "    if differences:\n",
    "        return {\n",
    "            \"average_difference\": statistics.mean(differences),\n",
    "            \"min_difference\": min(differences),\n",
    "            \"max_difference\": max(differences)\n",
    "        }\n",
    "    else:\n",
    "        if found_files:\n",
    "            return {\"message\": \"Processed files, but could not extract valid numbers from all.\"}\n",
    "        else:\n",
    "            return {\"message\": \"No 'video' prefixed .txt files found in the specified folder.\"}\n",
    "\n",
    "if __name__ == \"__main__\":\n",
    "    folder_to_analyze = input(\"Enter the path to the folder to analyze: \")\n",
    "    results = analyze_video_txt_files(folder_to_analyze)\n",
    "\n",
    "    if results:\n",
    "        if \"average_difference\" in results:\n",
    "            print(\"\\nAnalysis Results:\")\n",
    "            print(f\"Average Difference: {results['average_difference']:.4f}\")\n",
    "            print(f\"Minimum Difference: {results['min_difference']:.4f}\")\n",
    "            print(f\"Maximum Difference: {results['max_difference']:.4f}\")\n",
    "        else:\n",
    "            print(f\"\\n{results['message']}\")\n",
    "    else:\n",
    "        print(\"No results to display.\")"
   ]
  }
 ],
 "metadata": {
  "kernelspec": {
   "display_name": "pose",
   "language": "python",
   "name": "python3"
  },
  "language_info": {
   "codemirror_mode": {
    "name": "ipython",
    "version": 3
   },
   "file_extension": ".py",
   "mimetype": "text/x-python",
   "name": "python",
   "nbconvert_exporter": "python",
   "pygments_lexer": "ipython3",
   "version": "3.8.18"
  }
 },
 "nbformat": 4,
 "nbformat_minor": 2
}
