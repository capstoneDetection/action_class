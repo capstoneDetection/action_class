{
 "cells": [
  {
   "cell_type": "code",
   "execution_count": null,
   "metadata": {},
   "outputs": [],
   "source": [
    "import os\n",
    "import cv2\n",
    "\n",
    "def validate_video(filepath):\n",
    "    \"\"\"\n",
    "    Validates if a video file can be opened using OpenCV.\n",
    "\n",
    "    Args:\n",
    "        filepath (str): The full path to the video file.\n",
    "\n",
    "    Returns:\n",
    "        bool: True if the video can be opened, False otherwise.\n",
    "    \"\"\"\n",
    "    try:\n",
    "        cap = cv2.VideoCapture(filepath)\n",
    "        if not cap.isOpened():\n",
    "            return False\n",
    "        # Optionally, you can read a frame to further check validity\n",
    "        ret, frame = cap.read()\n",
    "        cap.release()\n",
    "        return ret  # Returns True if a frame could be read, False otherwise\n",
    "    except Exception as e:\n",
    "        print(f\"Error opening video file '{filepath}': {e}\")\n",
    "        return False\n",
    "\n",
    "def validate_videos_in_folder(root_folder):\n",
    "    \"\"\"\n",
    "    Recursively validates all video files found within a folder and its subfolders.\n",
    "\n",
    "    Args:\n",
    "        root_folder (str): The path to the root folder to start the validation from.\n",
    "    \"\"\"\n",
    "    video_extensions = ['.mp4', '.avi', '.mov', '.mkv', '.wmv', '.flv']  # Add more if needed\n",
    "    for dirpath, dirnames, filenames in os.walk(root_folder):\n",
    "        for filename in filenames:\n",
    "            if any(filename.lower().endswith(ext) for ext in video_extensions):\n",
    "                filepath = os.path.join(dirpath, filename)\n",
    "                print(f\"Validating: {filepath}\")\n",
    "                if validate_video(filepath):\n",
    "                    print(f\"  - Valid\")\n",
    "                else:\n",
    "                    print(f\"  - Invalid or could not be opened\")\n",
    "\n",
    "if __name__ == \"__main__\":\n",
    "    folder_path = input(\"Enter the path to the folder containing the videos: \")\n",
    "    if os.path.isdir(folder_path):\n",
    "        validate_videos_in_folder(folder_path)\n",
    "    else:\n",
    "        print(f\"Error: Folder '{folder_path}' does not exist.\")"
   ]
  }
 ],
 "metadata": {
  "kernelspec": {
   "display_name": "fart",
   "language": "python",
   "name": "python3"
  },
  "language_info": {
   "name": "python",
   "version": "3.12.2"
  }
 },
 "nbformat": 4,
 "nbformat_minor": 2
}
