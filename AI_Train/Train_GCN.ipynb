{
 "cells": [
  {
   "cell_type": "code",
   "execution_count": null,
   "metadata": {},
   "outputs": [],
   "source": [
    "import torch\n",
    "import torch.nn as nn\n",
    "import torch.optim as optim\n",
    "from torch.utils.data import Dataset, DataLoader\n",
    "import numpy as np"
   ]
  },
  {
   "cell_type": "code",
   "execution_count": null,
   "metadata": {},
   "outputs": [],
   "source": [
    "\n",
    "# Define a dummy ST-GCN model (simplified version)\n",
    "class DummySTGCN(nn.Module):\n",
    "    def __init__(self, in_channels, num_classes):\n",
    "        super(DummySTGCN, self).__init__()\n",
    "        # A simple convolution simulating spatial-temporal processing\n",
    "        self.conv = nn.Conv2d(in_channels, 64, kernel_size=(9, 1), padding=(4, 0))\n",
    "        self.pool = nn.AdaptiveAvgPool2d((1, 1))\n",
    "        self.fc = nn.Linear(64, num_classes)\n",
    "    \n",
    "    def forward(self, x):\n",
    "        # x shape: (N, C, T, V, M). For simplicity, assume M=1.\n",
    "        N, C, T, V, M = x.size()\n",
    "        # Remove the M dimension as we assume a single person\n",
    "        x = x.view(N, C, T, V)\n",
    "        x = self.conv(x)\n",
    "        x = self.pool(x)\n",
    "        x = x.view(N, -1)\n",
    "        out = self.fc(x)\n",
    "        return out"
   ]
  },
  {
   "cell_type": "code",
   "execution_count": null,
   "metadata": {},
   "outputs": [],
   "source": [
    "\n",
    "# Create a synthetic dataset of videos with skeleton data\n",
    "class SkeletonVideoDataset(Dataset):\n",
    "    def __init__(self, num_videos, num_classes, T=30, V=25, C=2, M=1):\n",
    "        \"\"\"\n",
    "        Args:\n",
    "            num_videos: number of videos in the dataset.\n",
    "            num_classes: number of action classes.\n",
    "            T: number of frames per video.\n",
    "            V: number of joints per frame.\n",
    "            C: number of coordinate channels (e.g., x, y).\n",
    "            M: number of persons (typically 1 for single-person actions).\n",
    "        \"\"\"\n",
    "        self.num_videos = num_videos\n",
    "        self.num_classes = num_classes\n",
    "        self.T = T\n",
    "        self.V = V\n",
    "        self.C = C\n",
    "        self.M = M\n",
    "        \n",
    "    def __len__(self):\n",
    "        return self.num_videos\n",
    "    \n",
    "    def __getitem__(self, idx):\n",
    "        # Generate random skeleton data for a video: (C, T, V, M)\n",
    "        skeleton_data = torch.randn(self.C, self.T, self.V, self.M)\n",
    "        # Generate a random label between 0 and (num_classes - 1)\n",
    "        label = torch.randint(0, self.num_classes, (1,)).item()\n",
    "        return skeleton_data, label"
   ]
  },
  {
   "cell_type": "code",
   "execution_count": null,
   "metadata": {},
   "outputs": [],
   "source": [
    "# Hyperparameters\n",
    "num_videos = 100        # Total videos in the dataset\n",
    "num_classes = 10        # Number of action classes\n",
    "batch_size = 8\n",
    "learning_rate = 0.001\n",
    "num_epochs = 5"
   ]
  },
  {
   "cell_type": "code",
   "execution_count": null,
   "metadata": {},
   "outputs": [],
   "source": [
    "# Instantiate the dataset and dataloader\n",
    "dataset = SkeletonVideoDataset(num_videos=num_videos, num_classes=num_classes)\n",
    "dataloader = DataLoader(dataset, batch_size=batch_size, shuffle=True)"
   ]
  },
  {
   "cell_type": "code",
   "execution_count": null,
   "metadata": {},
   "outputs": [],
   "source": [
    "# Create the model instance\n",
    "model = DummySTGCN(in_channels=2, num_classes=num_classes)\n",
    "\n",
    "# Define loss function and optimizer\n",
    "criterion = nn.CrossEntropyLoss()\n",
    "optimizer = optim.Adam(model.parameters(), lr=learning_rate)"
   ]
  },
  {
   "cell_type": "code",
   "execution_count": null,
   "metadata": {},
   "outputs": [],
   "source": [
    "# Training loop\n",
    "model.train()\n",
    "for epoch in range(num_epochs):\n",
    "    running_loss = 0.0\n",
    "    for i, (inputs, labels) in enumerate(dataloader):\n",
    "        # inputs shape: (batch_size, C, T, V, M)\n",
    "        optimizer.zero_grad()  # Zero the parameter gradients\n",
    "        \n",
    "        # Forward pass\n",
    "        outputs = model(inputs)\n",
    "        loss = criterion(outputs, labels)\n",
    "        \n",
    "        # Backward pass and optimization\n",
    "        loss.backward()\n",
    "        optimizer.step()\n",
    "        \n",
    "        running_loss += loss.item()\n",
    "        if (i + 1) % 5 == 0:\n",
    "            print(f\"Epoch [{epoch+1}/{num_epochs}], Step [{i+1}/{len(dataloader)}], Loss: {running_loss/5:.4f}\")\n",
    "            running_loss = 0.0\n",
    "\n",
    "print(\"Training completed.\")\n"
   ]
  }
 ],
 "metadata": {
  "language_info": {
   "name": "python"
  }
 },
 "nbformat": 4,
 "nbformat_minor": 2
}
