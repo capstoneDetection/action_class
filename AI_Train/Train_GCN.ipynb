{
 "cells": [
  {
   "cell_type": "code",
   "execution_count": 2,
   "metadata": {},
   "outputs": [
    {
     "name": "stderr",
     "output_type": "stream",
     "text": [
      "                                                                             \r"
     ]
    },
    {
     "name": "stdout",
     "output_type": "stream",
     "text": [
      "Epoch 1/20, Average Loss: 0.4598\n"
     ]
    },
    {
     "name": "stderr",
     "output_type": "stream",
     "text": [
      "                                                                             \r"
     ]
    },
    {
     "name": "stdout",
     "output_type": "stream",
     "text": [
      "Epoch 2/20, Average Loss: 0.3316\n"
     ]
    },
    {
     "name": "stderr",
     "output_type": "stream",
     "text": [
      "                                                                             \r"
     ]
    },
    {
     "name": "stdout",
     "output_type": "stream",
     "text": [
      "Epoch 3/20, Average Loss: 0.2275\n"
     ]
    },
    {
     "name": "stderr",
     "output_type": "stream",
     "text": [
      "                                                                             \r"
     ]
    },
    {
     "name": "stdout",
     "output_type": "stream",
     "text": [
      "Epoch 4/20, Average Loss: 0.2047\n"
     ]
    },
    {
     "name": "stderr",
     "output_type": "stream",
     "text": [
      "                                                                             \r"
     ]
    },
    {
     "name": "stdout",
     "output_type": "stream",
     "text": [
      "Epoch 5/20, Average Loss: 0.2070\n"
     ]
    },
    {
     "name": "stderr",
     "output_type": "stream",
     "text": [
      "                                                                             \r"
     ]
    },
    {
     "name": "stdout",
     "output_type": "stream",
     "text": [
      "Epoch 6/20, Average Loss: 0.1930\n"
     ]
    },
    {
     "name": "stderr",
     "output_type": "stream",
     "text": [
      "                                                                             \r"
     ]
    },
    {
     "name": "stdout",
     "output_type": "stream",
     "text": [
      "Epoch 7/20, Average Loss: 0.1493\n"
     ]
    },
    {
     "name": "stderr",
     "output_type": "stream",
     "text": [
      "                                                                             \r"
     ]
    },
    {
     "name": "stdout",
     "output_type": "stream",
     "text": [
      "Epoch 8/20, Average Loss: 0.1771\n"
     ]
    },
    {
     "name": "stderr",
     "output_type": "stream",
     "text": [
      "                                                                             \r"
     ]
    },
    {
     "name": "stdout",
     "output_type": "stream",
     "text": [
      "Epoch 9/20, Average Loss: 0.1749\n"
     ]
    },
    {
     "name": "stderr",
     "output_type": "stream",
     "text": [
      "                                                                              \r"
     ]
    },
    {
     "name": "stdout",
     "output_type": "stream",
     "text": [
      "Epoch 10/20, Average Loss: 0.1546\n"
     ]
    },
    {
     "name": "stderr",
     "output_type": "stream",
     "text": [
      "                                                                              \r"
     ]
    },
    {
     "name": "stdout",
     "output_type": "stream",
     "text": [
      "Epoch 11/20, Average Loss: 0.1072\n"
     ]
    },
    {
     "name": "stderr",
     "output_type": "stream",
     "text": [
      "                                                                              \r"
     ]
    },
    {
     "name": "stdout",
     "output_type": "stream",
     "text": [
      "Epoch 12/20, Average Loss: 0.1062\n"
     ]
    },
    {
     "name": "stderr",
     "output_type": "stream",
     "text": [
      "                                                                              \r"
     ]
    },
    {
     "name": "stdout",
     "output_type": "stream",
     "text": [
      "Epoch 13/20, Average Loss: 0.0920\n"
     ]
    },
    {
     "name": "stderr",
     "output_type": "stream",
     "text": [
      "                                                                              \r"
     ]
    },
    {
     "name": "stdout",
     "output_type": "stream",
     "text": [
      "Epoch 14/20, Average Loss: 0.0786\n"
     ]
    },
    {
     "name": "stderr",
     "output_type": "stream",
     "text": [
      "                                                                              \r"
     ]
    },
    {
     "name": "stdout",
     "output_type": "stream",
     "text": [
      "Epoch 15/20, Average Loss: 0.0842\n"
     ]
    },
    {
     "name": "stderr",
     "output_type": "stream",
     "text": [
      "                                                                              \r"
     ]
    },
    {
     "name": "stdout",
     "output_type": "stream",
     "text": [
      "Epoch 16/20, Average Loss: 0.0895\n"
     ]
    },
    {
     "name": "stderr",
     "output_type": "stream",
     "text": [
      "                                                                              \r"
     ]
    },
    {
     "name": "stdout",
     "output_type": "stream",
     "text": [
      "Epoch 17/20, Average Loss: 0.0849\n"
     ]
    },
    {
     "name": "stderr",
     "output_type": "stream",
     "text": [
      "                                                                              \r"
     ]
    },
    {
     "name": "stdout",
     "output_type": "stream",
     "text": [
      "Epoch 18/20, Average Loss: 0.0612\n"
     ]
    },
    {
     "name": "stderr",
     "output_type": "stream",
     "text": [
      "                                                                              \r"
     ]
    },
    {
     "name": "stdout",
     "output_type": "stream",
     "text": [
      "Epoch 19/20, Average Loss: 0.0576\n"
     ]
    },
    {
     "name": "stderr",
     "output_type": "stream",
     "text": [
      "                                                                              \r"
     ]
    },
    {
     "name": "stdout",
     "output_type": "stream",
     "text": [
      "Epoch 20/20, Average Loss: 0.0461\n"
     ]
    },
    {
     "data": {
      "image/png": "[encoded data removed]",
      "text/plain": [
       "<Figure size 1000x500 with 1 Axes>"
      ]
     },
     "metadata": {},
     "output_type": "display_data"
    },
    {
     "name": "stdout",
     "output_type": "stream",
     "text": [
      "Test Accuracy: 97.37%\n"
     ]
    }
   ],
   "source": [
    "import os\n",
    "import pandas as pd\n",
    "import numpy as np\n",
    "import torch\n",
    "import torch.nn as nn\n",
    "import torch.optim as optim\n",
    "from torch.utils.data import Dataset, DataLoader\n",
    "from sklearn.model_selection import train_test_split\n",
    "from tqdm import tqdm\n",
    "import matplotlib.pyplot as plt\n",
    "\n",
    "# Set random seed and device\n",
    "torch.manual_seed(42)\n",
    "device = torch.device(\"cuda\" if torch.cuda.is_available() else \"cpu\")\n",
    "\n",
    "# Define the 18 landmarks in the order they appear in your CSV\n",
    "landmark_order = [\n",
    "    \"Nose\", \"Neck\", \"Right Shoulder\", \"Right Elbow\", \"Right Wrist\",\n",
    "    \"Left Shoulder\", \"Left Elbow\", \"Left Wrist\", \"Right Hip\", \"Right Knee\",\n",
    "    \"Right Ankle\", \"Left Hip\", \"Left Knee\", \"Left Ankle\", \"Right Eye\",\n",
    "    \"Left Eye\", \"Right Ear\", \"Left Ear\"\n",
    "]\n",
    "\n",
    "# Spatial graph edges for 18 joints (same as before, adjusted for index mapping)\n",
    "edges = [\n",
    "    (0, 1),   # Nose to Neck\n",
    "    (1, 2),   # Neck to Right Shoulder\n",
    "    (2, 3),   # Right Shoulder to Right Elbow\n",
    "    (3, 4),   # Right Elbow to Right Wrist\n",
    "    (1, 5),   # Neck to Left Shoulder\n",
    "    (5, 6),   # Left Shoulder to Left Elbow\n",
    "    (6, 7),   # Left Elbow to Left Wrist\n",
    "    (1, 8),   # Neck to Right Hip\n",
    "    (8, 9),   # Right Hip to Right Knee\n",
    "    (9, 10),  # Right Knee to Right Ankle\n",
    "    (1, 11),  # Neck to Left Hip\n",
    "    (11, 12), # Left Hip to Left Knee\n",
    "    (12, 13), # Left Knee to Left Ankle\n",
    "    (0, 14),  # Nose to Right Eye\n",
    "    (0, 15),  # Nose to Left Eye\n",
    "    (14, 16), # Right Eye to Right Ear\n",
    "    (15, 17)  # Left Eye to Left Ear\n",
    "]\n",
    "\n",
    "# Function to process a single CSV file into a skeleton sequence\n",
    "def process_csv_to_skeleton(csv_path):\n",
    "    # Read CSV\n",
    "    df = pd.read_csv(csv_path)\n",
    "    \n",
    "    # Ensure all 30 frames and 18 landmarks are present\n",
    "    skeleton_sequence = np.zeros((30, 18, 3))  # Shape: (frames, joints, coords)\n",
    "    \n",
    "    # Group by frame\n",
    "    for frame in range(30):\n",
    "        frame_data = df[df['frame'] == frame]\n",
    "        if frame_data.empty:\n",
    "            continue  # Leave as zeros if frame is missing\n",
    "        \n",
    "        # Map landmarks to the correct order\n",
    "        for i, landmark in enumerate(landmark_order):\n",
    "            landmark_data = frame_data[frame_data['landmark'] == landmark]\n",
    "            if not landmark_data.empty:\n",
    "                skeleton_sequence[frame, i] = landmark_data[['x', 'y', 'z']].values[0]\n",
    "            # If landmark is missing, it remains zero\n",
    "    \n",
    "    assert skeleton_sequence.shape == (30, 18, 3), f\"Unexpected shape: {skeleton_sequence.shape} for {csv_path}\"\n",
    "    return skeleton_sequence\n",
    "\n",
    "# Dataset Class\n",
    "class FallDataset(Dataset):\n",
    "    def __init__(self, fall_dir, no_fall_dir):\n",
    "        self.data = []\n",
    "        self.labels = []\n",
    "        \n",
    "        # Process FallDataset (label = 1)\n",
    "        for root, _, files in os.walk(fall_dir):\n",
    "            for csv_file in files:\n",
    "                if csv_file.endswith(\".csv\"):\n",
    "                    csv_path = os.path.join(root, csv_file)\n",
    "                    skeleton = process_csv_to_skeleton(csv_path)\n",
    "                    self.data.append(skeleton)\n",
    "                    self.labels.append(1)\n",
    "        \n",
    "        # Process NoFallDataset (label = 0)\n",
    "        for root, _, files in os.walk(no_fall_dir):\n",
    "            for csv_file in files:\n",
    "                if csv_file.endswith(\".csv\"):\n",
    "                    csv_path = os.path.join(root, csv_file)\n",
    "                    skeleton = process_csv_to_skeleton(csv_path)\n",
    "                    self.data.append(skeleton)\n",
    "                    self.labels.append(0)\n",
    "    \n",
    "    def __len__(self):\n",
    "        return len(self.data)\n",
    "    \n",
    "    def __getitem__(self, idx):\n",
    "        skeleton = torch.tensor(self.data[idx], dtype=torch.float32).permute(2, 0, 1)  # (C, T, V) = (3, 30, 18)\n",
    "        label = torch.tensor(self.labels[idx], dtype=torch.long)\n",
    "        return skeleton, label\n",
    "\n",
    "# ST-GCN Model (unchanged)\n",
    "class STGCN(nn.Module):\n",
    "    def __init__(self, in_channels=3, num_joints=18, num_classes=2, graph_edges=None):\n",
    "        super(STGCN, self).__init__()\n",
    "        self.graph_edges = graph_edges\n",
    "        self.num_joints = num_joints\n",
    "        \n",
    "        self.conv1 = nn.Conv2d(in_channels, 64, kernel_size=(1, 1))\n",
    "        self.conv2 = nn.Conv2d(64, 64, kernel_size=(3, 1), padding=(1, 0))\n",
    "        self.conv3 = nn.Conv2d(64, 128, kernel_size=(1, 1))\n",
    "        self.conv4 = nn.Conv2d(128, 128, kernel_size=(3, 1), padding=(1, 0))\n",
    "        \n",
    "        self.bn1 = nn.BatchNorm2d(64)\n",
    "        self.bn2 = nn.BatchNorm2d(64)\n",
    "        self.bn3 = nn.BatchNorm2d(128)\n",
    "        self.bn4 = nn.BatchNorm2d(128)\n",
    "        \n",
    "        self.relu = nn.ReLU(inplace=True)\n",
    "        self.pool = nn.AdaptiveAvgPool2d((1, num_joints))\n",
    "        self.fc = nn.Linear(128 * num_joints, num_classes)\n",
    "    \n",
    "    def forward(self, x):\n",
    "        x = self.relu(self.bn1(self.conv1(x)))\n",
    "        x = self.relu(self.bn2(self.conv2(x)))\n",
    "        x = self.relu(self.bn3(self.conv3(x)))\n",
    "        x = self.relu(self.bn4(self.conv4(x)))\n",
    "        x = self.pool(x)\n",
    "        x = x.view(x.size(0), -1)\n",
    "        x = self.fc(x)\n",
    "        return x\n",
    "\n",
    "def train_model(model, train_loader, criterion, optimizer, num_epochs=10):\n",
    "\n",
    "    model.train()\n",
    "    epoch_losses = []  # Store average loss per epoch\n",
    "\n",
    "    for epoch in range(num_epochs):\n",
    "        running_loss = 0.0\n",
    "        # Wrap train_loader with tqdm for progress bar\n",
    "        progress_bar = tqdm(train_loader, desc=f\"Epoch {epoch+1}/{num_epochs}\", leave=False)\n",
    "        for inputs, labels in progress_bar:\n",
    "            inputs, labels = inputs.to(device), labels.to(device)\n",
    "            optimizer.zero_grad()\n",
    "            outputs = model(inputs)\n",
    "            loss = criterion(outputs, labels)\n",
    "            loss.backward()\n",
    "            optimizer.step()\n",
    "            running_loss += loss.item()\n",
    "            # Update progress bar with current batch loss\n",
    "            progress_bar.set_postfix({'batch_loss': f'{loss.item():.4f}'})\n",
    "        \n",
    "        # Calculate and store average loss for the epoch\n",
    "        avg_loss = running_loss / len(train_loader)\n",
    "        epoch_losses.append(avg_loss)\n",
    "        print(f\"Epoch {epoch+1}/{num_epochs}, Average Loss: {avg_loss:.4f}\")\n",
    "\n",
    "    # Plot the loss graph\n",
    "    plt.figure(figsize=(10, 5))\n",
    "    plt.plot(range(1, num_epochs + 1), epoch_losses, marker='o', linestyle='-', color='b')\n",
    "    plt.title('Training Loss per Epoch')\n",
    "    plt.xlabel('Epoch')\n",
    "    plt.ylabel('Average Loss')\n",
    "    plt.grid(True)\n",
    "    plt.show()\n",
    "\n",
    "    return epoch_losses\n",
    "\n",
    "def evaluate_model(model, test_loader):\n",
    "    model.eval()\n",
    "    correct = 0\n",
    "    total = 0\n",
    "    with torch.no_grad():\n",
    "        for inputs, labels in test_loader:\n",
    "            inputs, labels = inputs.to(device), labels.to(device)\n",
    "            outputs = model(inputs)\n",
    "            _, predicted = torch.max(outputs.data, 1)\n",
    "            total += labels.size(0)\n",
    "            correct += (predicted == labels).sum().item()\n",
    "    accuracy = 100 * correct / total\n",
    "    print(f\"Test Accuracy: {accuracy:.2f}%\")\n",
    "\n",
    "# Main Execution\n",
    "if __name__ == \"__main__\":\n",
    "    # Update these paths to your actual CSV directories\n",
    "    fall_dir = \"processed/fall/csv\"\n",
    "    no_fall_dir = \"processed/nofall/csv\"\n",
    "    \n",
    "    # Create dataset and split\n",
    "    dataset = FallDataset(fall_dir, no_fall_dir)\n",
    "    train_idx, test_idx = train_test_split(range(len(dataset)), test_size=0.2, random_state=42)\n",
    "    train_dataset = torch.utils.data.Subset(dataset, train_idx)\n",
    "    test_dataset = torch.utils.data.Subset(dataset, test_idx)\n",
    "    \n",
    "    # Data loaders\n",
    "    train_loader = DataLoader(train_dataset, batch_size=16, shuffle=True)\n",
    "    test_loader = DataLoader(test_dataset, batch_size=16, shuffle=False)\n",
    "    \n",
    "    # Initialize model, loss, and optimizer\n",
    "    model = STGCN(in_channels=3, num_joints=18, num_classes=2, graph_edges=edges).to(device)\n",
    "    criterion = nn.CrossEntropyLoss()\n",
    "    optimizer = optim.Adam(model.parameters(), lr=0.001)\n",
    "    \n",
    "    # Train and evaluate\n",
    "    train_model(model, train_loader, criterion, optimizer, num_epochs=20)\n",
    "    evaluate_model(model, test_loader)\n",
    "    \n",
    "    # Save the model\n",
    "    torch.save(model.state_dict(), \"Models/stgcn_fall_detection.pth\")"
   ]
  }
 ],
 "metadata": {
  "kernelspec": {
   "display_name": "fart",
   "language": "python",
   "name": "python3"
  },
  "language_info": {
   "codemirror_mode": {
    "name": "ipython",
    "version": 3
   },
   "file_extension": ".py",
   "mimetype": "text/x-python",
   "name": "python",
   "nbconvert_exporter": "python",
   "pygments_lexer": "ipython3",
   "version": "3.12.2"
  }
 },
 "nbformat": 4,
 "nbformat_minor": 2
}
