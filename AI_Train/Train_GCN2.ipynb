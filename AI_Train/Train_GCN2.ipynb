{
 "cells": [
  {
   "cell_type": "code",
   "execution_count": 6,
   "id": "99ce9357",
   "metadata": {},
   "outputs": [
    {
     "name": "stderr",
     "output_type": "stream",
     "text": [
      "                                                                            \r"
     ]
    },
    {
     "name": "stdout",
     "output_type": "stream",
     "text": [
      "Epoch 1/20, Average Loss: 1.2052\n"
     ]
    },
    {
     "name": "stderr",
     "output_type": "stream",
     "text": [
      "                                                                            \r"
     ]
    },
    {
     "name": "stdout",
     "output_type": "stream",
     "text": [
      "Epoch 2/20, Average Loss: 0.8158\n"
     ]
    },
    {
     "name": "stderr",
     "output_type": "stream",
     "text": [
      "                                                                            \r"
     ]
    },
    {
     "name": "stdout",
     "output_type": "stream",
     "text": [
      "Epoch 3/20, Average Loss: 0.8435\n"
     ]
    },
    {
     "name": "stderr",
     "output_type": "stream",
     "text": [
      "                                                                            \r"
     ]
    },
    {
     "name": "stdout",
     "output_type": "stream",
     "text": [
      "Epoch 4/20, Average Loss: 0.5892\n"
     ]
    },
    {
     "name": "stderr",
     "output_type": "stream",
     "text": [
      "                                                                            \r"
     ]
    },
    {
     "name": "stdout",
     "output_type": "stream",
     "text": [
      "Epoch 5/20, Average Loss: 0.5584\n"
     ]
    },
    {
     "name": "stderr",
     "output_type": "stream",
     "text": [
      "                                                                            \r"
     ]
    },
    {
     "name": "stdout",
     "output_type": "stream",
     "text": [
      "Epoch 6/20, Average Loss: 0.4889\n"
     ]
    },
    {
     "name": "stderr",
     "output_type": "stream",
     "text": [
      "                                                                            \r"
     ]
    },
    {
     "name": "stdout",
     "output_type": "stream",
     "text": [
      "Epoch 7/20, Average Loss: 0.4778\n"
     ]
    },
    {
     "name": "stderr",
     "output_type": "stream",
     "text": [
      "                                                                            \r"
     ]
    },
    {
     "name": "stdout",
     "output_type": "stream",
     "text": [
      "Epoch 8/20, Average Loss: 0.4621\n"
     ]
    },
    {
     "name": "stderr",
     "output_type": "stream",
     "text": [
      "                                                                            \r"
     ]
    },
    {
     "name": "stdout",
     "output_type": "stream",
     "text": [
      "Epoch 9/20, Average Loss: 0.4208\n"
     ]
    },
    {
     "name": "stderr",
     "output_type": "stream",
     "text": [
      "                                                                             \r"
     ]
    },
    {
     "name": "stdout",
     "output_type": "stream",
     "text": [
      "Epoch 10/20, Average Loss: 0.5742\n"
     ]
    },
    {
     "name": "stderr",
     "output_type": "stream",
     "text": [
      "                                                                             \r"
     ]
    },
    {
     "name": "stdout",
     "output_type": "stream",
     "text": [
      "Epoch 11/20, Average Loss: 0.6280\n"
     ]
    },
    {
     "name": "stderr",
     "output_type": "stream",
     "text": [
      "                                                                             \r"
     ]
    },
    {
     "name": "stdout",
     "output_type": "stream",
     "text": [
      "Epoch 12/20, Average Loss: 0.6322\n"
     ]
    },
    {
     "name": "stderr",
     "output_type": "stream",
     "text": [
      "                                                                             \r"
     ]
    },
    {
     "name": "stdout",
     "output_type": "stream",
     "text": [
      "Epoch 13/20, Average Loss: 0.4821\n"
     ]
    },
    {
     "name": "stderr",
     "output_type": "stream",
     "text": [
      "                                                                             \r"
     ]
    },
    {
     "name": "stdout",
     "output_type": "stream",
     "text": [
      "Epoch 14/20, Average Loss: 0.4493\n"
     ]
    },
    {
     "name": "stderr",
     "output_type": "stream",
     "text": [
      "                                                                             \r"
     ]
    },
    {
     "name": "stdout",
     "output_type": "stream",
     "text": [
      "Epoch 15/20, Average Loss: 0.3624\n"
     ]
    },
    {
     "name": "stderr",
     "output_type": "stream",
     "text": [
      "                                                                             \r"
     ]
    },
    {
     "name": "stdout",
     "output_type": "stream",
     "text": [
      "Epoch 16/20, Average Loss: 0.3927\n"
     ]
    },
    {
     "name": "stderr",
     "output_type": "stream",
     "text": [
      "                                                                             \r"
     ]
    },
    {
     "name": "stdout",
     "output_type": "stream",
     "text": [
      "Epoch 17/20, Average Loss: 0.3537\n"
     ]
    },
    {
     "name": "stderr",
     "output_type": "stream",
     "text": [
      "                                                                             \r"
     ]
    },
    {
     "name": "stdout",
     "output_type": "stream",
     "text": [
      "Epoch 18/20, Average Loss: 0.3231\n"
     ]
    },
    {
     "name": "stderr",
     "output_type": "stream",
     "text": [
      "                                                                             \r"
     ]
    },
    {
     "name": "stdout",
     "output_type": "stream",
     "text": [
      "Epoch 19/20, Average Loss: 0.2849\n"
     ]
    },
    {
     "name": "stderr",
     "output_type": "stream",
     "text": [
      "                                                                             \r"
     ]
    },
    {
     "name": "stdout",
     "output_type": "stream",
     "text": [
      "Epoch 20/20, Average Loss: 0.2686\n"
     ]
    },
    {
     "data": {
      "image/png": "[encoded data removed]",
      "text/plain": [
       "<Figure size 1000x500 with 1 Axes>"
      ]
     },
     "metadata": {},
     "output_type": "display_data"
    },
    {
     "name": "stdout",
     "output_type": "stream",
     "text": [
      "Test Accuracy: 77.78%\n"
     ]
    }
   ],
   "source": [
    "import os\n",
    "import pandas as pd\n",
    "import numpy as np\n",
    "import torch\n",
    "import torch.nn as nn\n",
    "import torch.optim as optim\n",
    "from torch.utils.data import Dataset, DataLoader\n",
    "from sklearn.model_selection import train_test_split\n",
    "from tqdm import tqdm\n",
    "import matplotlib.pyplot as plt\n",
    "\n",
    "# Set random seed and device\n",
    "torch.manual_seed(42)\n",
    "device = torch.device(\"cuda\" if torch.cuda.is_available() else \"cpu\")\n",
    "\n",
    "# Define the 18 landmarks in the order they appear in your CSV\n",
    "landmark_order = [\n",
    "    \"Nose\", \"Neck\", \"Right Shoulder\", \"Right Elbow\", \"Right Wrist\",\n",
    "    \"Left Shoulder\", \"Left Elbow\", \"Left Wrist\", \"Right Hip\", \"Right Knee\",\n",
    "    \"Right Ankle\", \"Left Hip\", \"Left Knee\", \"Left Ankle\", \"Right Eye\",\n",
    "    \"Left Eye\", \"Right Ear\", \"Left Ear\"\n",
    "]\n",
    "\n",
    "# Spatial graph edges for 18 joints\n",
    "edges = [\n",
    "    (0, 1),   # Nose to Neck\n",
    "    (1, 2),   # Neck to Right Shoulder\n",
    "    (2, 3),   # Right Shoulder to Right Elbow\n",
    "    (3, 4),   # Right Elbow to Right Wrist\n",
    "    (1, 5),   # Neck to Left Shoulder\n",
    "    (5, 6),   # Left Shoulder to Left Elbow\n",
    "    (6, 7),   # Left Elbow to Left Wrist\n",
    "    (1, 8),   # Neck to Right Hip\n",
    "    (8, 9),   # Right Hip to Right Knee\n",
    "    (9, 10),  # Right Knee to Right Ankle\n",
    "    (1, 11),  # Neck to Left Hip\n",
    "    (11, 12), # Left Hip to Left Knee\n",
    "    (12, 13), # Left Knee to Left Ankle\n",
    "    (0, 14),  # Nose to Right Eye\n",
    "    (0, 15),  # Nose to Left Eye\n",
    "    (14, 16), # Right Eye to Right Ear\n",
    "    (15, 17)  # Left Eye to Left Ear\n",
    "]\n",
    "\n",
    "# Function to create adjacency matrix for graph convolution\n",
    "def create_adjacency_matrix(num_joints, edges):\n",
    "    A = np.zeros((num_joints, num_joints))\n",
    "    for edge in edges:\n",
    "        i, j = edge\n",
    "        A[i, j] = 1\n",
    "        A[j, i] = 1  # Undirected graph\n",
    "    A += np.eye(num_joints)\n",
    "    D = np.diag(np.sum(A, axis=1) ** -0.5)\n",
    "    A = D @ A @ D\n",
    "    return torch.tensor(A, dtype=torch.float32)\n",
    "\n",
    "# Graph Convolution Layer\n",
    "class GraphConv(nn.Module):\n",
    "    def __init__(self, in_channels, out_channels, A):\n",
    "        super(GraphConv, self).__init__()\n",
    "        self.A = A.to(device)\n",
    "        self.conv = nn.Conv2d(in_channels, out_channels, kernel_size=(1, 1))\n",
    "    \n",
    "    def forward(self, x):\n",
    "        batch, channels, time, vertices = x.size()\n",
    "        x = x.permute(0, 2, 3, 1)\n",
    "        x = torch.matmul(self.A, x)\n",
    "        x = x.permute(0, 3, 1, 2)\n",
    "        x = self.conv(x)\n",
    "        return x\n",
    "\n",
    "# ST-GCN Block\n",
    "class STGCNBlock(nn.Module):\n",
    "    def __init__(self, in_channels, out_channels, A, temporal_kernel_size=3, stride=1, residual=True):\n",
    "        super(STGCNBlock, self).__init__()\n",
    "        self.gcn = GraphConv(in_channels, out_channels, A)\n",
    "        self.tcn = nn.Conv2d(out_channels, out_channels, kernel_size=(temporal_kernel_size, 1), \n",
    "                             padding=(temporal_kernel_size//2, 0), stride=(stride, 1))\n",
    "        self.bn = nn.BatchNorm2d(out_channels)\n",
    "        self.relu = nn.ReLU(inplace=True)\n",
    "        self.dropout = nn.Dropout(0.5)\n",
    "        \n",
    "        self.residual = residual\n",
    "        if residual:\n",
    "            self.res_conv = nn.Conv2d(in_channels, out_channels, kernel_size=(1, 1), stride=(stride, 1))\n",
    "            self.res_bn = nn.BatchNorm2d(out_channels)\n",
    "\n",
    "    def forward(self, x):\n",
    "        x_gcn = self.gcn(x)\n",
    "        x_tcn = self.tcn(x_gcn)\n",
    "        x_tcn = self.bn(x_tcn)\n",
    "        if self.residual:\n",
    "            res = self.res_conv(x)\n",
    "            res = self.res_bn(res)\n",
    "            x_tcn = x_tcn + res\n",
    "        x_tcn = self.relu(x_tcn)\n",
    "        x_tcn = self.dropout(x_tcn)\n",
    "        return x_tcn\n",
    "\n",
    "# Enhanced ST-GCN Model\n",
    "class EnhancedSTGCN(nn.Module):\n",
    "    def __init__(self, in_channels=3, num_joints=18, num_classes=2, graph_edges=None):\n",
    "        super(EnhancedSTGCN, self).__init__()\n",
    "        self.num_joints = num_joints\n",
    "        self.A = create_adjacency_matrix(num_joints, graph_edges)\n",
    "        \n",
    "        self.block1 = STGCNBlock(in_channels, 64, self.A, temporal_kernel_size=3)\n",
    "        self.block2 = STGCNBlock(64, 64, self.A, temporal_kernel_size=3)\n",
    "        self.block3 = STGCNBlock(64, 128, self.A, temporal_kernel_size=3, stride=2)\n",
    "        self.block4 = STGCNBlock(128, 128, self.A, temporal_kernel_size=3)\n",
    "        self.block5 = STGCNBlock(128, 256, self.A, temporal_kernel_size=3, stride=2)\n",
    "        self.block6 = STGCNBlock(256, 256, self.A, temporal_kernel_size=3)\n",
    "        \n",
    "        self.pool = nn.AdaptiveAvgPool2d((1, num_joints))\n",
    "        self.fc = nn.Linear(256 * num_joints, num_classes)\n",
    "\n",
    "    def forward(self, x):\n",
    "        x = self.block1(x)\n",
    "        x = self.block2(x)\n",
    "        x = self.block3(x)\n",
    "        x = self.block4(x)\n",
    "        x = self.block5(x)\n",
    "        x = self.block6(x)\n",
    "        x = self.pool(x)\n",
    "        x = x.reshape(x.size(0), -1)  # Fixed: Assign reshaped tensor\n",
    "        x = self.fc(x)\n",
    "        return x\n",
    "\n",
    "# Function to process a single CSV file into a skeleton sequence\n",
    "def process_csv_to_skeleton(csv_path, expected_frames=30, landmarks=18):\n",
    "    df = pd.read_csv(csv_path)\n",
    "    # Calculate number of frames\n",
    "    num_frames = len(df) // landmarks\n",
    "    if len(df) % landmarks != 0:\n",
    "        print(f\"Warning: CSV {csv_path} has {len(df)} rows, not divisible by {landmarks} landmarks.\")\n",
    "        df = df.iloc[:num_frames * landmarks]\n",
    "    \n",
    "    skeleton_sequence = np.zeros((num_frames, landmarks, 3))\n",
    "    for frame in range(num_frames):\n",
    "        frame_data = df[df['frame'] == frame]\n",
    "        if frame_data.empty:\n",
    "            continue\n",
    "        for i, landmark in enumerate(landmark_order):\n",
    "            landmark_data = frame_data[frame_data['landmark'] == landmark]\n",
    "            if not landmark_data.empty:\n",
    "                skeleton_sequence[frame, i] = landmark_data[['x', 'y', 'z']].values[0]\n",
    "    \n",
    "    # Pad if fewer than expected frames\n",
    "    if num_frames < expected_frames:\n",
    "        padding = np.zeros((expected_frames - num_frames, landmarks, 3))\n",
    "        skeleton_sequence = np.vstack((skeleton_sequence, padding))\n",
    "    elif num_frames > expected_frames:\n",
    "        skeleton_sequence = skeleton_sequence[:expected_frames]\n",
    "    \n",
    "    assert skeleton_sequence.shape == (expected_frames, landmarks, 3), f\"Unexpected shape: {skeleton_sequence.shape} for {csv_path}\"\n",
    "    return skeleton_sequence\n",
    "\n",
    "# Dataset Class\n",
    "class FallDataset(Dataset):\n",
    "    def __init__(self, fall_dir, no_fall_dir, expected_frames=30, landmarks=18):\n",
    "        self.data = []\n",
    "        self.labels = []\n",
    "        self.expected_frames = expected_frames\n",
    "        self.landmarks = landmarks\n",
    "        \n",
    "        for root, _, files in os.walk(fall_dir):\n",
    "            for csv_file in files:\n",
    "                if csv_file.endswith(\".csv\"):\n",
    "                    csv_path = os.path.join(root, csv_file)\n",
    "                    skeleton = process_csv_to_skeleton(csv_path, expected_frames, landmarks)\n",
    "                    self.data.append(skeleton)\n",
    "                    self.labels.append(1)\n",
    "        \n",
    "        for root, _, files in os.walk(no_fall_dir):\n",
    "            for csv_file in files:\n",
    "                if csv_file.endswith(\".csv\"):\n",
    "                    csv_path = os.path.join(root, csv_file)\n",
    "                    skeleton = process_csv_to_skeleton(csv_path, expected_frames, landmarks)\n",
    "                    self.data.append(skeleton)\n",
    "                    self.labels.append(0)\n",
    "    \n",
    "    def __len__(self):\n",
    "        return len(self.data)\n",
    "    \n",
    "    def __getitem__(self, idx):\n",
    "        skeleton = torch.tensor(self.data[idx], dtype=torch.float32).permute(2, 0, 1)\n",
    "        label = torch.tensor(self.labels[idx], dtype=torch.long)\n",
    "        return skeleton, label\n",
    "\n",
    "def train_model(model, train_loader, criterion, optimizer, num_epochs=20):\n",
    "    model.train()\n",
    "    epoch_losses = []\n",
    "\n",
    "    for epoch in range(num_epochs):\n",
    "        running_loss = 0.0\n",
    "        progress_bar = tqdm(train_loader, desc=f\"Epoch {epoch+1}/{num_epochs}\", leave=False)\n",
    "        for inputs, labels in progress_bar:\n",
    "            inputs, labels = inputs.to(device), labels.to(device)\n",
    "            optimizer.zero_grad()\n",
    "            outputs = model(inputs)\n",
    "            loss = criterion(outputs, labels)\n",
    "            loss.backward()\n",
    "            optimizer.step()\n",
    "            running_loss += loss.item()\n",
    "            progress_bar.set_postfix({'batch_loss': f'{loss.item():.4f}'})\n",
    "        \n",
    "        avg_loss = running_loss / len(train_loader)\n",
    "        epoch_losses.append(avg_loss)\n",
    "        print(f\"Epoch {epoch+1}/{num_epochs}, Average Loss: {avg_loss:.4f}\")\n",
    "\n",
    "    plt.figure(figsize=(10, 5))\n",
    "    plt.plot(range(1, num_epochs + 1), epoch_losses, marker='o', linestyle='-', color='b')\n",
    "    plt.title('Training Loss per Epoch')\n",
    "    plt.xlabel('Epoch')\n",
    "    plt.ylabel('Average Loss')\n",
    "    plt.grid(True)\n",
    "    plt.show()\n",
    "\n",
    "def evaluate_model(model, test_loader):\n",
    "    model.eval()\n",
    "    correct = 0\n",
    "    total = 0\n",
    "    with torch.no_grad():\n",
    "        for inputs, labels in test_loader:\n",
    "            inputs, labels = inputs.to(device), labels.to(device)\n",
    "            outputs = model(inputs)\n",
    "            _, predicted = torch.max(outputs.data, 1)\n",
    "            total += labels.size(0)\n",
    "            correct += (predicted == labels).sum().item()\n",
    "    accuracy = 100 * correct / total\n",
    "    print(f\"Test Accuracy: {accuracy:.2f}%\")\n",
    "\n",
    "# Main Execution\n",
    "if __name__ == \"__main__\":\n",
    "    fall_dir = \"processed/fall/csv\"\n",
    "    no_fall_dir = \"processed/nofall/csv\"\n",
    "    \n",
    "    dataset = FallDataset(fall_dir, no_fall_dir, expected_frames=30, landmarks=18)\n",
    "    train_idx, test_idx = train_test_split(range(len(dataset)), test_size=0.2, random_state=42)\n",
    "    train_dataset = torch.utils.data.Subset(dataset, train_idx)\n",
    "    test_dataset = torch.utils.data.Subset(dataset, test_idx)\n",
    "    \n",
    "    train_loader = DataLoader(train_dataset, batch_size=16, shuffle=True)\n",
    "    test_loader = DataLoader(test_dataset, batch_size=16, shuffle=False)\n",
    "    \n",
    "    model = EnhancedSTGCN(in_channels=3, num_joints=18, num_classes=2, graph_edges=edges).to(device)\n",
    "    criterion = nn.CrossEntropyLoss()\n",
    "    optimizer = optim.Adam(model.parameters(), lr=0.001)\n",
    "    \n",
    "    train_model(model, train_loader, criterion, optimizer, num_epochs=20)\n",
    "    evaluate_model(model, test_loader)\n",
    "    \n",
    "    torch.save(model.state_dict(), \"Models/enhanced_stgcn_fall_detection.pth\")"
   ]
  }
 ],
 "metadata": {
  "kernelspec": {
   "display_name": "fart",
   "language": "python",
   "name": "python3"
  },
  "language_info": {
   "codemirror_mode": {
    "name": "ipython",
    "version": 3
   },
   "file_extension": ".py",
   "mimetype": "text/x-python",
   "name": "python",
   "nbconvert_exporter": "python",
   "pygments_lexer": "ipython3",
   "version": "3.12.2"
  }
 },
 "nbformat": 4,
 "nbformat_minor": 5
}
