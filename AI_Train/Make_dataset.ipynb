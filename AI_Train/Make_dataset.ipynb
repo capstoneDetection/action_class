{
 "cells": [
  {
   "cell_type": "code",
   "execution_count": 1,
   "metadata": {},
   "outputs": [],
   "source": [
    "from Skeleton_functions.validate_video import validate_videos_in_folder"
   ]
  },
  {
   "cell_type": "code",
   "execution_count": 2,
   "metadata": {},
   "outputs": [],
   "source": [
    "validate_videos_in_folder('/Dataset')"
   ]
  },
  {
   "cell_type": "code",
   "execution_count": 5,
   "metadata": {},
   "outputs": [],
   "source": [
    "from Skeleton_functions.no_fall import generate_nofall_clips"
   ]
  },
  {
   "cell_type": "code",
   "execution_count": 6,
   "metadata": {},
   "outputs": [
    {
     "name": "stdout",
     "output_type": "stream",
     "text": [
      "Error processing Office: [Errno 2] No such file or directory: 'FallDataset/Office/Videos'\n",
      "Skipping video (17).avi: Fall starts too early (frame 20)\n"
     ]
    },
    {
     "name": "stderr",
     "output_type": "stream",
     "text": [
      "[mp3float @ 0x107e7c190] Header missing\n",
      "[mp3float @ 0x105b6ce70] Header missing\n",
      "[mp3float @ 0x105b6c440] Header missing\n",
      "[mp3float @ 0x10756eb50] Header missing\n",
      "[mp3float @ 0x10756eb50] Header missing\n",
      "[mp3float @ 0x10756eb50] Header missing\n",
      "[mp3float @ 0x105b6ee80] Header missing\n",
      "[mp3float @ 0x105b6ee80] Header missing\n",
      "[mp3float @ 0x105b6ee80] Header missing\n",
      "[mp3float @ 0x10756c7e0] Header missing\n",
      "[mp3float @ 0x10756c7e0] Header missing\n",
      "[mp3float @ 0x105b6e800] Header missing\n",
      "[mp3float @ 0x105b6e800] Header missing\n",
      "[mp3float @ 0x105b6e800] Header missing\n",
      "[mp3float @ 0x10756eb50] Header missing\n",
      "[mp3float @ 0x105b6ee80] Header missing\n",
      "[mp3float @ 0x105b6ee80] Header missing\n",
      "[mp3float @ 0x105b6ee80] Header missing\n",
      "[mp3float @ 0x105b6ee80] Header missing\n",
      "[mp3float @ 0x10756cb20] Header missing\n",
      "[mp3float @ 0x105b6ee80] Header missing\n",
      "[mp3float @ 0x105b6ee80] Header missing\n",
      "[mp3float @ 0x105b6ee80] Header missing\n",
      "[mp3float @ 0x105b6ee80] Header missing\n",
      "[mp3float @ 0x105b6ee80] Header missing\n"
     ]
    },
    {
     "name": "stdout",
     "output_type": "stream",
     "text": [
      "Skipping video (26).avi: Invalid frame number in annotation\n"
     ]
    },
    {
     "name": "stderr",
     "output_type": "stream",
     "text": [
      "[mp3float @ 0x10756f2f0] Header missing\n",
      "[mp3float @ 0x10756f2f0] Header missing\n",
      "[mp3float @ 0x10756f2f0] Header missing\n",
      "[mp3float @ 0x105b6ce70] Header missing\n",
      "[mp3float @ 0x105b6ce70] Header missing\n",
      "[mp3float @ 0x105b6ce70] Header missing\n",
      "[mp3float @ 0x105b6ce70] Header missing\n",
      "[mp3float @ 0x105b6ce70] Header missing\n",
      "[mp3float @ 0x105b6ce70] Header missing\n",
      "[mp3float @ 0x105b6ce70] Header missing\n",
      "[mp3float @ 0x105b6ce70] Header missing\n",
      "[mp3float @ 0x105b6ce70] Header missing\n",
      "[mp3float @ 0x107e7c540] Header missing\n",
      "[mp3float @ 0x107e7c540] Header missing\n",
      "[mp3float @ 0x107e7c540] Header missing\n",
      "[mp3float @ 0x105b6ee80] Header missing\n",
      "[mp3float @ 0x1058a9ca0] Header missing\n",
      "[mp3float @ 0x105b6e790] Header missing\n",
      "[mp3float @ 0x1058aa440] Header missing\n",
      "[mp3float @ 0x105b6ee80] Header missing\n",
      "[mp3float @ 0x105b6ee80] Header missing\n",
      "[mp3float @ 0x105b6ee80] Header missing\n",
      "[mp3float @ 0x105b6ee80] Header missing\n",
      "[mp3float @ 0x1058a9ca0] Header missing\n",
      "[mp3float @ 0x1058a9ca0] Header missing\n",
      "[mp3float @ 0x105b6ee80] Header missing\n",
      "[mp3float @ 0x105b6ee80] Header missing\n",
      "[mp3float @ 0x10756cb20] Header missing\n",
      "[mp3float @ 0x105b6ee80] Header missing\n",
      "[mp3float @ 0x105b6ee80] Header missing\n",
      "[mp3float @ 0x105b6ee80] Header missing\n",
      "[mp3float @ 0x105b6ee80] Header missing\n"
     ]
    }
   ],
   "source": [
    "generate_nofall_clips(root_dir = 'FallDataset', output_dir = 'NoFallDataset', num_clips=1)"
   ]
  }
 ],
 "metadata": {
  "kernelspec": {
   "display_name": "pose",
   "language": "python",
   "name": "python3"
  },
  "language_info": {
   "codemirror_mode": {
    "name": "ipython",
    "version": 3
   },
   "file_extension": ".py",
   "mimetype": "text/x-python",
   "name": "python",
   "nbconvert_exporter": "python",
   "pygments_lexer": "ipython3",
   "version": "3.8.18"
  }
 },
 "nbformat": 4,
 "nbformat_minor": 2
}
