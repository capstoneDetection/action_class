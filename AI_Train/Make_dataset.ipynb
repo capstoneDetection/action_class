{
 "cells": [
  {
   "cell_type": "code",
   "execution_count": 2,
   "metadata": {},
   "outputs": [],
   "source": [
    "from Skeleton_functions.validate_video import validate_videos_in_folder"
   ]
  },
  {
   "cell_type": "code",
   "execution_count": 3,
   "metadata": {},
   "outputs": [],
   "source": [
    "validate_videos_in_folder('/archive')"
   ]
  },
  {
   "cell_type": "code",
   "execution_count": 4,
   "metadata": {},
   "outputs": [],
   "source": [
    "from Skeleton_functions.no_fall import generate_nofall_clips"
   ]
  },
  {
   "cell_type": "code",
   "execution_count": 5,
   "metadata": {},
   "outputs": [
    {
     "name": "stdout",
     "output_type": "stream",
     "text": [
      "Error processing Lecture_room: [Errno 2] No such file or directory: 'archive/Lecture_room/Videos'\n",
      "Error processing Home_01: [Errno 2] No such file or directory: 'archive/Home_01/Videos'\n",
      "Error processing Office: [Errno 2] No such file or directory: 'archive/Office/Videos'\n",
      "Error processing Coffee_room_01: [Errno 2] No such file or directory: 'archive/Coffee_room_01/Videos'\n",
      "Error processing Home_02: [Errno 2] No such file or directory: 'archive/Home_02/Videos'\n",
      "Error processing Coffee_room_02: [Errno 2] No such file or directory: 'archive/Coffee_room_02/Videos'\n"
     ]
    }
   ],
   "source": [
    "generate_nofall_clips(root_dir = 'archive', output_dir = 'processed/nofall/video', num_clips=1)"
   ]
  },
  {
   "cell_type": "code",
   "execution_count": null,
   "metadata": {},
   "outputs": [],
   "source": []
  }
 ],
 "metadata": {
  "kernelspec": {
   "display_name": "fart",
   "language": "python",
   "name": "python3"
  },
  "language_info": {
   "codemirror_mode": {
    "name": "ipython",
    "version": 3
   },
   "file_extension": ".py",
   "mimetype": "text/x-python",
   "name": "python",
   "nbconvert_exporter": "python",
   "pygments_lexer": "ipython3",
   "version": "3.12.2"
  }
 },
 "nbformat": 4,
 "nbformat_minor": 2
}
