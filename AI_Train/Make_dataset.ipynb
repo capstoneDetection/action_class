{
 "cells": [
  {
   "cell_type": "code",
   "execution_count": 15,
   "metadata": {},
   "outputs": [],
   "source": [
    "from Skeleton_functions.validate_video import validate_videos_in_folder\n",
    "from Skeleton_functions.no_fall import generate_nofall_clips\n",
    "from Skeleton_functions.make_fall_video import generate_fall_clips\n",
    "from Skeleton_functions.video_to_csv import skeleton_csv\n",
    "import os\n",
    "\n",
    "import absl.logging\n",
    "absl.logging.set_verbosity(absl.logging.ERROR)\n"
   ]
  },
  {
   "cell_type": "code",
   "execution_count": 16,
   "metadata": {},
   "outputs": [],
   "source": [
    "validate_videos_in_folder('/archive')"
   ]
  },
  {
   "cell_type": "code",
   "execution_count": 17,
   "metadata": {},
   "outputs": [],
   "source": [
    "from Skeleton_functions.no_fall import generate_nofall_clips"
   ]
  },
  {
   "cell_type": "code",
   "execution_count": null,
   "metadata": {},
   "outputs": [],
   "source": [
    "generate_nofall_clips(root_dir = 'archive', output_dir = 'processed/nofall/video', num_clips=1)"
   ]
  },
  {
   "cell_type": "code",
   "execution_count": null,
   "metadata": {},
   "outputs": [],
   "source": [
    "# No-fall \n",
    "generate_nofall_clips(\n",
    "    root_dir='archive',\n",
    "    output_dir='processed/nofall/video',\n",
    "    num_clips=1\n",
    ")"
   ]
  },
  {
   "cell_type": "code",
   "execution_count": null,
   "metadata": {},
   "outputs": [],
   "source": [
    "# Fall \n",
    "generate_fall_clips(\n",
    "    root_dir='archive',\n",
    "    output_dir='processed/fall/video',\n",
    "    num_clips_per_vid=1\n",
    ")"
   ]
  },
  {
   "cell_type": "code",
   "execution_count": null,
   "metadata": {},
   "outputs": [],
   "source": [
    "fall_input_dir = 'processed/fall/video'\n",
    "fall_csv_output_dir = 'processed/fall/csv'\n",
    "\n",
    "video_files = [f for f in os.listdir(fall_input_dir) if f.endswith('.mp4') or f.endswith('.avi')]\n",
    "\n",
    "for idx, video_file in enumerate(video_files, start=1):\n",
    "    video_path = os.path.join(fall_input_dir, video_file)\n",
    "    output_name = os.path.splitext(video_file)[0] + '.csv'\n",
    "\n",
    "    print(f\"[{idx}/{len(video_files)}] ⏳ Processing: {video_file}...\", end=' ', flush=True)\n",
    "    df = skeleton_csv(\n",
    "        video_path=video_path,\n",
    "        output_csv_path=fall_csv_output_dir,\n",
    "        output_csv_name=output_name\n",
    "    )\n",
    "    if df is not None:\n",
    "        print(\"✅ Done\")\n",
    "    else:\n",
    "        print(\"❌ Failed\")\n",
    "\n"
   ]
  },
  {
   "cell_type": "code",
   "execution_count": 22,
   "metadata": {},
   "outputs": [
    {
     "name": "stdout",
     "output_type": "stream",
     "text": [
      "⏳ Processing: Home_01_video_20_nofall_clip1.mp4... "
     ]
    },
    {
     "name": "stderr",
     "output_type": "stream",
     "text": [
      "I0000 00:00:1745547526.280255 3043472 gl_context.cc:369] GL version: 2.1 (2.1 ATI-6.1.13), renderer: AMD Radeon Pro 555X OpenGL Engine\n",
      "W0000 00:00:1745547526.591795 3111419 inference_feedback_manager.cc:114] Feedback manager requires a model with a single signature inference. Disabling support for feedback tensors.\n",
      "W0000 00:00:1745547526.643146 3111419 inference_feedback_manager.cc:114] Feedback manager requires a model with a single signature inference. Disabling support for feedback tensors.\n"
     ]
    },
    {
     "name": "stdout",
     "output_type": "stream",
     "text": [
      "모든 프레임 처리 완료, 총 프레임 수: 30\n",
      "CSV 파일 저장 완료: processed/nofall/csv/Home_01_video_20_nofall_clip1.csv\n",
      "✅ Done\n",
      "⏳ Processing: Coffee_room_01_video_33_nofall_clip1.mp4... "
     ]
    },
    {
     "name": "stderr",
     "output_type": "stream",
     "text": [
      "I0000 00:00:1745547527.645164 3043472 gl_context.cc:369] GL version: 2.1 (2.1 ATI-6.1.13), renderer: AMD Radeon Pro 555X OpenGL Engine\n",
      "W0000 00:00:1745547527.887326 3111676 inference_feedback_manager.cc:114] Feedback manager requires a model with a single signature inference. Disabling support for feedback tensors.\n",
      "W0000 00:00:1745547527.936099 3111676 inference_feedback_manager.cc:114] Feedback manager requires a model with a single signature inference. Disabling support for feedback tensors.\n"
     ]
    },
    {
     "name": "stdout",
     "output_type": "stream",
     "text": [
      "모든 프레임 처리 완료, 총 프레임 수: 30\n",
      "CSV 파일 저장 완료: processed/nofall/csv/Coffee_room_01_video_33_nofall_clip1.csv\n",
      "✅ Done\n",
      "⏳ Processing: Home_02_video_32_nofall_clip1.mp4... "
     ]
    },
    {
     "name": "stderr",
     "output_type": "stream",
     "text": [
      "I0000 00:00:1745547528.866360 3043472 gl_context.cc:369] GL version: 2.1 (2.1 ATI-6.1.13), renderer: AMD Radeon Pro 555X OpenGL Engine\n",
      "W0000 00:00:1745547529.100535 3111767 inference_feedback_manager.cc:114] Feedback manager requires a model with a single signature inference. Disabling support for feedback tensors.\n",
      "W0000 00:00:1745547529.151882 3111767 inference_feedback_manager.cc:114] Feedback manager requires a model with a single signature inference. Disabling support for feedback tensors.\n"
     ]
    },
    {
     "name": "stdout",
     "output_type": "stream",
     "text": [
      "모든 프레임 처리 완료, 총 프레임 수: 30\n",
      "CSV 파일 저장 완료: processed/nofall/csv/Home_02_video_32_nofall_clip1.csv\n",
      "✅ Done\n",
      "⏳ Processing: Coffee_room_01_video_12_nofall_clip1.mp4... "
     ]
    },
    {
     "name": "stderr",
     "output_type": "stream",
     "text": [
      "I0000 00:00:1745547530.103571 3043472 gl_context.cc:369] GL version: 2.1 (2.1 ATI-6.1.13), renderer: AMD Radeon Pro 555X OpenGL Engine\n",
      "W0000 00:00:1745547530.338731 3111830 inference_feedback_manager.cc:114] Feedback manager requires a model with a single signature inference. Disabling support for feedback tensors.\n",
      "W0000 00:00:1745547530.388997 3111830 inference_feedback_manager.cc:114] Feedback manager requires a model with a single signature inference. Disabling support for feedback tensors.\n"
     ]
    },
    {
     "name": "stdout",
     "output_type": "stream",
     "text": [
      "모든 프레임 처리 완료, 총 프레임 수: 30\n",
      "CSV 파일 저장 완료: processed/nofall/csv/Coffee_room_01_video_12_nofall_clip1.csv\n",
      "✅ Done\n",
      "⏳ Processing: Home_01_video_8_nofall_clip1.mp4... "
     ]
    },
    {
     "name": "stderr",
     "output_type": "stream",
     "text": [
      "I0000 00:00:1745547531.301428 3043472 gl_context.cc:369] GL version: 2.1 (2.1 ATI-6.1.13), renderer: AMD Radeon Pro 555X OpenGL Engine\n",
      "W0000 00:00:1745547531.536670 3111872 inference_feedback_manager.cc:114] Feedback manager requires a model with a single signature inference. Disabling support for feedback tensors.\n",
      "W0000 00:00:1745547531.584702 3111872 inference_feedback_manager.cc:114] Feedback manager requires a model with a single signature inference. Disabling support for feedback tensors.\n"
     ]
    },
    {
     "name": "stdout",
     "output_type": "stream",
     "text": [
      "모든 프레임 처리 완료, 총 프레임 수: 30\n",
      "CSV 파일 저장 완료: processed/nofall/csv/Home_01_video_8_nofall_clip1.csv\n",
      "✅ Done\n",
      "⏳ Processing: Coffee_room_01_video_38_nofall_clip1.mp4... "
     ]
    },
    {
     "name": "stderr",
     "output_type": "stream",
     "text": [
      "I0000 00:00:1745547532.258454 3043472 gl_context.cc:369] GL version: 2.1 (2.1 ATI-6.1.13), renderer: AMD Radeon Pro 555X OpenGL Engine\n",
      "W0000 00:00:1745547532.491207 3111916 inference_feedback_manager.cc:114] Feedback manager requires a model with a single signature inference. Disabling support for feedback tensors.\n",
      "W0000 00:00:1745547532.539974 3111916 inference_feedback_manager.cc:114] Feedback manager requires a model with a single signature inference. Disabling support for feedback tensors.\n"
     ]
    },
    {
     "name": "stdout",
     "output_type": "stream",
     "text": [
      "모든 프레임 처리 완료, 총 프레임 수: 30\n",
      "CSV 파일 저장 완료: processed/nofall/csv/Coffee_room_01_video_38_nofall_clip1.csv\n",
      "✅ Done\n",
      "⏳ Processing: Home_01_video_15_nofall_clip1.mp4... "
     ]
    },
    {
     "name": "stderr",
     "output_type": "stream",
     "text": [
      "I0000 00:00:1745547533.443096 3043472 gl_context.cc:369] GL version: 2.1 (2.1 ATI-6.1.13), renderer: AMD Radeon Pro 555X OpenGL Engine\n",
      "W0000 00:00:1745547533.668483 3111942 inference_feedback_manager.cc:114] Feedback manager requires a model with a single signature inference. Disabling support for feedback tensors.\n",
      "W0000 00:00:1745547533.716460 3111942 inference_feedback_manager.cc:114] Feedback manager requires a model with a single signature inference. Disabling support for feedback tensors.\n"
     ]
    },
    {
     "name": "stdout",
     "output_type": "stream",
     "text": [
      "모든 프레임 처리 완료, 총 프레임 수: 30\n",
      "CSV 파일 저장 완료: processed/nofall/csv/Home_01_video_15_nofall_clip1.csv\n",
      "✅ Done\n",
      "⏳ Processing: Coffee_room_01_video_42_nofall_clip1.mp4... "
     ]
    },
    {
     "name": "stderr",
     "output_type": "stream",
     "text": [
      "I0000 00:00:1745547534.439693 3043472 gl_context.cc:369] GL version: 2.1 (2.1 ATI-6.1.13), renderer: AMD Radeon Pro 555X OpenGL Engine\n",
      "W0000 00:00:1745547534.663947 3111975 inference_feedback_manager.cc:114] Feedback manager requires a model with a single signature inference. Disabling support for feedback tensors.\n",
      "W0000 00:00:1745547534.712723 3111975 inference_feedback_manager.cc:114] Feedback manager requires a model with a single signature inference. Disabling support for feedback tensors.\n"
     ]
    },
    {
     "name": "stdout",
     "output_type": "stream",
     "text": [
      "모든 프레임 처리 완료, 총 프레임 수: 30\n",
      "CSV 파일 저장 완료: processed/nofall/csv/Coffee_room_01_video_42_nofall_clip1.csv\n",
      "✅ Done\n",
      "⏳ Processing: Home_01_video_3_nofall_clip1.mp4... "
     ]
    },
    {
     "name": "stderr",
     "output_type": "stream",
     "text": [
      "I0000 00:00:1745547535.597380 3043472 gl_context.cc:369] GL version: 2.1 (2.1 ATI-6.1.13), renderer: AMD Radeon Pro 555X OpenGL Engine\n",
      "W0000 00:00:1745547535.828811 3112012 inference_feedback_manager.cc:114] Feedback manager requires a model with a single signature inference. Disabling support for feedback tensors.\n",
      "W0000 00:00:1745547535.876584 3112018 inference_feedback_manager.cc:114] Feedback manager requires a model with a single signature inference. Disabling support for feedback tensors.\n"
     ]
    },
    {
     "name": "stdout",
     "output_type": "stream",
     "text": [
      "모든 프레임 처리 완료, 총 프레임 수: 30\n",
      "CSV 파일 저장 완료: processed/nofall/csv/Home_01_video_3_nofall_clip1.csv\n",
      "✅ Done\n",
      "⏳ Processing: Coffee_room_01_video_27_nofall_clip1.mp4... "
     ]
    },
    {
     "name": "stderr",
     "output_type": "stream",
     "text": [
      "I0000 00:00:1745547536.726331 3043472 gl_context.cc:369] GL version: 2.1 (2.1 ATI-6.1.13), renderer: AMD Radeon Pro 555X OpenGL Engine\n",
      "W0000 00:00:1745547536.964621 3112044 inference_feedback_manager.cc:114] Feedback manager requires a model with a single signature inference. Disabling support for feedback tensors.\n",
      "W0000 00:00:1745547537.011782 3112044 inference_feedback_manager.cc:114] Feedback manager requires a model with a single signature inference. Disabling support for feedback tensors.\n"
     ]
    },
    {
     "name": "stdout",
     "output_type": "stream",
     "text": [
      "모든 프레임 처리 완료, 총 프레임 수: 30\n",
      "CSV 파일 저장 완료: processed/nofall/csv/Coffee_room_01_video_27_nofall_clip1.csv\n",
      "✅ Done\n",
      "⏳ Processing: Coffee_room_01_video_19_nofall_clip1.mp4... "
     ]
    },
    {
     "name": "stderr",
     "output_type": "stream",
     "text": [
      "I0000 00:00:1745547537.903284 3043472 gl_context.cc:369] GL version: 2.1 (2.1 ATI-6.1.13), renderer: AMD Radeon Pro 555X OpenGL Engine\n",
      "W0000 00:00:1745547538.129122 3112326 inference_feedback_manager.cc:114] Feedback manager requires a model with a single signature inference. Disabling support for feedback tensors.\n",
      "W0000 00:00:1745547538.178804 3112333 inference_feedback_manager.cc:114] Feedback manager requires a model with a single signature inference. Disabling support for feedback tensors.\n"
     ]
    },
    {
     "name": "stdout",
     "output_type": "stream",
     "text": [
      "모든 프레임 처리 완료, 총 프레임 수: 30\n",
      "CSV 파일 저장 완료: processed/nofall/csv/Coffee_room_01_video_19_nofall_clip1.csv\n",
      "✅ Done\n",
      "⏳ Processing: Home_01_video_30_nofall_clip1.mp4... "
     ]
    },
    {
     "name": "stderr",
     "output_type": "stream",
     "text": [
      "I0000 00:00:1745547539.077136 3043472 gl_context.cc:369] GL version: 2.1 (2.1 ATI-6.1.13), renderer: AMD Radeon Pro 555X OpenGL Engine\n",
      "W0000 00:00:1745547539.313460 3112383 inference_feedback_manager.cc:114] Feedback manager requires a model with a single signature inference. Disabling support for feedback tensors.\n",
      "W0000 00:00:1745547539.361116 3112383 inference_feedback_manager.cc:114] Feedback manager requires a model with a single signature inference. Disabling support for feedback tensors.\n"
     ]
    },
    {
     "name": "stdout",
     "output_type": "stream",
     "text": [
      "모든 프레임 처리 완료, 총 프레임 수: 30\n",
      "CSV 파일 저장 완료: processed/nofall/csv/Home_01_video_30_nofall_clip1.csv\n",
      "✅ Done\n",
      "⏳ Processing: Coffee_room_01_video_46_nofall_clip1.mp4... "
     ]
    },
    {
     "name": "stderr",
     "output_type": "stream",
     "text": [
      "I0000 00:00:1745547540.259529 3043472 gl_context.cc:369] GL version: 2.1 (2.1 ATI-6.1.13), renderer: AMD Radeon Pro 555X OpenGL Engine\n",
      "W0000 00:00:1745547540.537005 3112444 inference_feedback_manager.cc:114] Feedback manager requires a model with a single signature inference. Disabling support for feedback tensors.\n",
      "W0000 00:00:1745547540.592015 3112453 inference_feedback_manager.cc:114] Feedback manager requires a model with a single signature inference. Disabling support for feedback tensors.\n"
     ]
    },
    {
     "name": "stdout",
     "output_type": "stream",
     "text": [
      "모든 프레임 처리 완료, 총 프레임 수: 30\n",
      "CSV 파일 저장 완료: processed/nofall/csv/Coffee_room_01_video_46_nofall_clip1.csv\n",
      "✅ Done\n",
      "⏳ Processing: Home_01_video_7_nofall_clip1.mp4... "
     ]
    },
    {
     "name": "stderr",
     "output_type": "stream",
     "text": [
      "I0000 00:00:1745547541.479431 3043472 gl_context.cc:369] GL version: 2.1 (2.1 ATI-6.1.13), renderer: AMD Radeon Pro 555X OpenGL Engine\n",
      "W0000 00:00:1745547541.712961 3112479 inference_feedback_manager.cc:114] Feedback manager requires a model with a single signature inference. Disabling support for feedback tensors.\n",
      "W0000 00:00:1745547541.763165 3112478 inference_feedback_manager.cc:114] Feedback manager requires a model with a single signature inference. Disabling support for feedback tensors.\n"
     ]
    },
    {
     "name": "stdout",
     "output_type": "stream",
     "text": [
      "모든 프레임 처리 완료, 총 프레임 수: 30\n",
      "CSV 파일 저장 완료: processed/nofall/csv/Home_01_video_7_nofall_clip1.csv\n",
      "✅ Done\n",
      "⏳ Processing: Coffee_room_02_video_54_nofall_clip1.mp4... "
     ]
    },
    {
     "name": "stderr",
     "output_type": "stream",
     "text": [
      "I0000 00:00:1745547542.658449 3043472 gl_context.cc:369] GL version: 2.1 (2.1 ATI-6.1.13), renderer: AMD Radeon Pro 555X OpenGL Engine\n",
      "W0000 00:00:1745547542.888815 3112516 inference_feedback_manager.cc:114] Feedback manager requires a model with a single signature inference. Disabling support for feedback tensors.\n",
      "W0000 00:00:1745547542.935295 3112516 inference_feedback_manager.cc:114] Feedback manager requires a model with a single signature inference. Disabling support for feedback tensors.\n"
     ]
    },
    {
     "name": "stdout",
     "output_type": "stream",
     "text": [
      "모든 프레임 처리 완료, 총 프레임 수: 30\n",
      "CSV 파일 저장 완료: processed/nofall/csv/Coffee_room_02_video_54_nofall_clip1.csv\n",
      "✅ Done\n",
      "⏳ Processing: Coffee_room_01_video_23_nofall_clip1.mp4... "
     ]
    },
    {
     "name": "stderr",
     "output_type": "stream",
     "text": [
      "I0000 00:00:1745547543.634340 3043472 gl_context.cc:369] GL version: 2.1 (2.1 ATI-6.1.13), renderer: AMD Radeon Pro 555X OpenGL Engine\n",
      "W0000 00:00:1745547543.865396 3112563 inference_feedback_manager.cc:114] Feedback manager requires a model with a single signature inference. Disabling support for feedback tensors.\n",
      "W0000 00:00:1745547543.912515 3112572 inference_feedback_manager.cc:114] Feedback manager requires a model with a single signature inference. Disabling support for feedback tensors.\n"
     ]
    },
    {
     "name": "stdout",
     "output_type": "stream",
     "text": [
      "모든 프레임 처리 완료, 총 프레임 수: 30\n",
      "CSV 파일 저장 완료: processed/nofall/csv/Coffee_room_01_video_23_nofall_clip1.csv\n",
      "✅ Done\n",
      "⏳ Processing: Coffee_room_01_video_4_nofall_clip1.mp4... "
     ]
    },
    {
     "name": "stderr",
     "output_type": "stream",
     "text": [
      "I0000 00:00:1745547544.802022 3043472 gl_context.cc:369] GL version: 2.1 (2.1 ATI-6.1.13), renderer: AMD Radeon Pro 555X OpenGL Engine\n",
      "W0000 00:00:1745547545.029803 3112599 inference_feedback_manager.cc:114] Feedback manager requires a model with a single signature inference. Disabling support for feedback tensors.\n",
      "W0000 00:00:1745547545.077292 3112599 inference_feedback_manager.cc:114] Feedback manager requires a model with a single signature inference. Disabling support for feedback tensors.\n"
     ]
    },
    {
     "name": "stdout",
     "output_type": "stream",
     "text": [
      "모든 프레임 처리 완료, 총 프레임 수: 30\n",
      "CSV 파일 저장 완료: processed/nofall/csv/Coffee_room_01_video_4_nofall_clip1.csv\n",
      "✅ Done\n",
      "⏳ Processing: Home_01_video_11_nofall_clip1.mp4... "
     ]
    },
    {
     "name": "stderr",
     "output_type": "stream",
     "text": [
      "I0000 00:00:1745547545.956128 3043472 gl_context.cc:369] GL version: 2.1 (2.1 ATI-6.1.13), renderer: AMD Radeon Pro 555X OpenGL Engine\n",
      "W0000 00:00:1745547546.187616 3112623 inference_feedback_manager.cc:114] Feedback manager requires a model with a single signature inference. Disabling support for feedback tensors.\n",
      "W0000 00:00:1745547546.234686 3112629 inference_feedback_manager.cc:114] Feedback manager requires a model with a single signature inference. Disabling support for feedback tensors.\n"
     ]
    },
    {
     "name": "stdout",
     "output_type": "stream",
     "text": [
      "모든 프레임 처리 완료, 총 프레임 수: 30\n",
      "CSV 파일 저장 완료: processed/nofall/csv/Home_01_video_11_nofall_clip1.csv\n",
      "✅ Done\n",
      "⏳ Processing: Coffee_room_01_video_16_nofall_clip1.mp4... "
     ]
    },
    {
     "name": "stderr",
     "output_type": "stream",
     "text": [
      "I0000 00:00:1745547547.061512 3043472 gl_context.cc:369] GL version: 2.1 (2.1 ATI-6.1.13), renderer: AMD Radeon Pro 555X OpenGL Engine\n",
      "W0000 00:00:1745547547.295629 3112695 inference_feedback_manager.cc:114] Feedback manager requires a model with a single signature inference. Disabling support for feedback tensors.\n",
      "W0000 00:00:1745547547.342604 3112695 inference_feedback_manager.cc:114] Feedback manager requires a model with a single signature inference. Disabling support for feedback tensors.\n"
     ]
    },
    {
     "name": "stdout",
     "output_type": "stream",
     "text": [
      "모든 프레임 처리 완료, 총 프레임 수: 30\n",
      "CSV 파일 저장 완료: processed/nofall/csv/Coffee_room_01_video_16_nofall_clip1.csv\n",
      "✅ Done\n",
      "⏳ Processing: Coffee_room_01_video_28_nofall_clip1.mp4... "
     ]
    },
    {
     "name": "stderr",
     "output_type": "stream",
     "text": [
      "I0000 00:00:1745547548.217799 3043472 gl_context.cc:369] GL version: 2.1 (2.1 ATI-6.1.13), renderer: AMD Radeon Pro 555X OpenGL Engine\n",
      "W0000 00:00:1745547548.506074 3112848 inference_feedback_manager.cc:114] Feedback manager requires a model with a single signature inference. Disabling support for feedback tensors.\n",
      "W0000 00:00:1745547548.552334 3112848 inference_feedback_manager.cc:114] Feedback manager requires a model with a single signature inference. Disabling support for feedback tensors.\n"
     ]
    },
    {
     "name": "stdout",
     "output_type": "stream",
     "text": [
      "모든 프레임 처리 완료, 총 프레임 수: 30\n",
      "CSV 파일 저장 완료: processed/nofall/csv/Coffee_room_01_video_28_nofall_clip1.csv\n",
      "✅ Done\n",
      "⏳ Processing: Home_01_video_24_nofall_clip1.mp4... "
     ]
    },
    {
     "name": "stderr",
     "output_type": "stream",
     "text": [
      "I0000 00:00:1745547549.447481 3043472 gl_context.cc:369] GL version: 2.1 (2.1 ATI-6.1.13), renderer: AMD Radeon Pro 555X OpenGL Engine\n",
      "W0000 00:00:1745547549.677069 3112978 inference_feedback_manager.cc:114] Feedback manager requires a model with a single signature inference. Disabling support for feedback tensors.\n",
      "W0000 00:00:1745547549.728166 3112978 inference_feedback_manager.cc:114] Feedback manager requires a model with a single signature inference. Disabling support for feedback tensors.\n"
     ]
    },
    {
     "name": "stdout",
     "output_type": "stream",
     "text": [
      "모든 프레임 처리 완료, 총 프레임 수: 30\n",
      "CSV 파일 저장 완료: processed/nofall/csv/Home_01_video_24_nofall_clip1.csv\n",
      "✅ Done\n",
      "⏳ Processing: Home_02_video_36_nofall_clip1.mp4... "
     ]
    },
    {
     "name": "stderr",
     "output_type": "stream",
     "text": [
      "I0000 00:00:1745547550.395794 3043472 gl_context.cc:369] GL version: 2.1 (2.1 ATI-6.1.13), renderer: AMD Radeon Pro 555X OpenGL Engine\n",
      "W0000 00:00:1745547550.624438 3113033 inference_feedback_manager.cc:114] Feedback manager requires a model with a single signature inference. Disabling support for feedback tensors.\n",
      "W0000 00:00:1745547550.672736 3113043 inference_feedback_manager.cc:114] Feedback manager requires a model with a single signature inference. Disabling support for feedback tensors.\n"
     ]
    },
    {
     "name": "stdout",
     "output_type": "stream",
     "text": [
      "모든 프레임 처리 완료, 총 프레임 수: 30\n",
      "CSV 파일 저장 완료: processed/nofall/csv/Home_02_video_36_nofall_clip1.csv\n",
      "✅ Done\n",
      "⏳ Processing: Coffee_room_01_video_37_nofall_clip1.mp4... "
     ]
    },
    {
     "name": "stderr",
     "output_type": "stream",
     "text": [
      "I0000 00:00:1745547551.406783 3043472 gl_context.cc:369] GL version: 2.1 (2.1 ATI-6.1.13), renderer: AMD Radeon Pro 555X OpenGL Engine\n",
      "W0000 00:00:1745547551.636828 3113071 inference_feedback_manager.cc:114] Feedback manager requires a model with a single signature inference. Disabling support for feedback tensors.\n",
      "W0000 00:00:1745547551.685028 3113071 inference_feedback_manager.cc:114] Feedback manager requires a model with a single signature inference. Disabling support for feedback tensors.\n"
     ]
    },
    {
     "name": "stdout",
     "output_type": "stream",
     "text": [
      "모든 프레임 처리 완료, 총 프레임 수: 30\n",
      "CSV 파일 저장 완료: processed/nofall/csv/Coffee_room_01_video_37_nofall_clip1.csv\n",
      "✅ Done\n",
      "⏳ Processing: Coffee_room_01_video_48_nofall_clip1.mp4... "
     ]
    },
    {
     "name": "stderr",
     "output_type": "stream",
     "text": [
      "I0000 00:00:1745547552.589374 3043472 gl_context.cc:369] GL version: 2.1 (2.1 ATI-6.1.13), renderer: AMD Radeon Pro 555X OpenGL Engine\n",
      "W0000 00:00:1745547552.822024 3113100 inference_feedback_manager.cc:114] Feedback manager requires a model with a single signature inference. Disabling support for feedback tensors.\n",
      "W0000 00:00:1745547552.868943 3113100 inference_feedback_manager.cc:114] Feedback manager requires a model with a single signature inference. Disabling support for feedback tensors.\n"
     ]
    },
    {
     "name": "stdout",
     "output_type": "stream",
     "text": [
      "모든 프레임 처리 완료, 총 프레임 수: 30\n",
      "CSV 파일 저장 완료: processed/nofall/csv/Coffee_room_01_video_48_nofall_clip1.csv\n",
      "✅ Done\n",
      "⏳ Processing: Home_01_video_9_nofall_clip1.mp4... "
     ]
    },
    {
     "name": "stderr",
     "output_type": "stream",
     "text": [
      "I0000 00:00:1745547553.756032 3043472 gl_context.cc:369] GL version: 2.1 (2.1 ATI-6.1.13), renderer: AMD Radeon Pro 555X OpenGL Engine\n",
      "W0000 00:00:1745547553.978881 3113164 inference_feedback_manager.cc:114] Feedback manager requires a model with a single signature inference. Disabling support for feedback tensors.\n",
      "W0000 00:00:1745547554.026695 3113172 inference_feedback_manager.cc:114] Feedback manager requires a model with a single signature inference. Disabling support for feedback tensors.\n"
     ]
    },
    {
     "name": "stdout",
     "output_type": "stream",
     "text": [
      "모든 프레임 처리 완료, 총 프레임 수: 30\n",
      "CSV 파일 저장 완료: processed/nofall/csv/Home_01_video_9_nofall_clip1.csv\n",
      "✅ Done\n",
      "⏳ Processing: Coffee_room_02_video_64_nofall_clip1.mp4... "
     ]
    },
    {
     "name": "stderr",
     "output_type": "stream",
     "text": [
      "I0000 00:00:1745547554.876688 3043472 gl_context.cc:369] GL version: 2.1 (2.1 ATI-6.1.13), renderer: AMD Radeon Pro 555X OpenGL Engine\n",
      "W0000 00:00:1745547555.101506 3113200 inference_feedback_manager.cc:114] Feedback manager requires a model with a single signature inference. Disabling support for feedback tensors.\n",
      "W0000 00:00:1745547555.148967 3113200 inference_feedback_manager.cc:114] Feedback manager requires a model with a single signature inference. Disabling support for feedback tensors.\n"
     ]
    },
    {
     "name": "stdout",
     "output_type": "stream",
     "text": [
      "모든 프레임 처리 완료, 총 프레임 수: 30\n",
      "CSV 파일 저장 완료: processed/nofall/csv/Coffee_room_02_video_64_nofall_clip1.csv\n",
      "✅ Done\n",
      "⏳ Processing: Coffee_room_01_video_13_nofall_clip1.mp4... "
     ]
    },
    {
     "name": "stderr",
     "output_type": "stream",
     "text": [
      "I0000 00:00:1745547556.041605 3043472 gl_context.cc:369] GL version: 2.1 (2.1 ATI-6.1.13), renderer: AMD Radeon Pro 555X OpenGL Engine\n",
      "W0000 00:00:1745547556.264267 3113229 inference_feedback_manager.cc:114] Feedback manager requires a model with a single signature inference. Disabling support for feedback tensors.\n",
      "W0000 00:00:1745547556.312280 3113229 inference_feedback_manager.cc:114] Feedback manager requires a model with a single signature inference. Disabling support for feedback tensors.\n"
     ]
    },
    {
     "name": "stdout",
     "output_type": "stream",
     "text": [
      "모든 프레임 처리 완료, 총 프레임 수: 30\n",
      "CSV 파일 저장 완료: processed/nofall/csv/Coffee_room_01_video_13_nofall_clip1.csv\n",
      "✅ Done\n",
      "⏳ Processing: Home_02_video_33_nofall_clip1.mp4... "
     ]
    },
    {
     "name": "stderr",
     "output_type": "stream",
     "text": [
      "I0000 00:00:1745547557.201233 3043472 gl_context.cc:369] GL version: 2.1 (2.1 ATI-6.1.13), renderer: AMD Radeon Pro 555X OpenGL Engine\n",
      "W0000 00:00:1745547557.433533 3113295 inference_feedback_manager.cc:114] Feedback manager requires a model with a single signature inference. Disabling support for feedback tensors.\n",
      "W0000 00:00:1745547557.480534 3113295 inference_feedback_manager.cc:114] Feedback manager requires a model with a single signature inference. Disabling support for feedback tensors.\n"
     ]
    },
    {
     "name": "stdout",
     "output_type": "stream",
     "text": [
      "모든 프레임 처리 완료, 총 프레임 수: 30\n",
      "CSV 파일 저장 완료: processed/nofall/csv/Home_02_video_33_nofall_clip1.csv\n",
      "✅ Done\n",
      "⏳ Processing: Coffee_room_01_video_32_nofall_clip1.mp4... "
     ]
    },
    {
     "name": "stderr",
     "output_type": "stream",
     "text": [
      "I0000 00:00:1745547558.241628 3043472 gl_context.cc:369] GL version: 2.1 (2.1 ATI-6.1.13), renderer: AMD Radeon Pro 555X OpenGL Engine\n",
      "W0000 00:00:1745547558.466241 3113332 inference_feedback_manager.cc:114] Feedback manager requires a model with a single signature inference. Disabling support for feedback tensors.\n",
      "W0000 00:00:1745547558.513799 3113332 inference_feedback_manager.cc:114] Feedback manager requires a model with a single signature inference. Disabling support for feedback tensors.\n"
     ]
    },
    {
     "name": "stdout",
     "output_type": "stream",
     "text": [
      "모든 프레임 처리 완료, 총 프레임 수: 30\n",
      "CSV 파일 저장 완료: processed/nofall/csv/Coffee_room_01_video_32_nofall_clip1.csv\n",
      "✅ Done\n",
      "⏳ Processing: Home_01_video_21_nofall_clip1.mp4... "
     ]
    },
    {
     "name": "stderr",
     "output_type": "stream",
     "text": [
      "I0000 00:00:1745547559.422331 3043472 gl_context.cc:369] GL version: 2.1 (2.1 ATI-6.1.13), renderer: AMD Radeon Pro 555X OpenGL Engine\n",
      "W0000 00:00:1745547559.660107 3113561 inference_feedback_manager.cc:114] Feedback manager requires a model with a single signature inference. Disabling support for feedback tensors.\n",
      "W0000 00:00:1745547559.711283 3113561 inference_feedback_manager.cc:114] Feedback manager requires a model with a single signature inference. Disabling support for feedback tensors.\n"
     ]
    },
    {
     "name": "stdout",
     "output_type": "stream",
     "text": [
      "모든 프레임 처리 완료, 총 프레임 수: 30\n",
      "CSV 파일 저장 완료: processed/nofall/csv/Home_01_video_21_nofall_clip1.csv\n",
      "✅ Done\n",
      "⏳ Processing: Coffee_room_02_video_51_nofall_clip1.mp4... "
     ]
    },
    {
     "name": "stderr",
     "output_type": "stream",
     "text": [
      "I0000 00:00:1745547560.805248 3043472 gl_context.cc:369] GL version: 2.1 (2.1 ATI-6.1.13), renderer: AMD Radeon Pro 555X OpenGL Engine\n",
      "W0000 00:00:1745547561.078217 3113639 inference_feedback_manager.cc:114] Feedback manager requires a model with a single signature inference. Disabling support for feedback tensors.\n",
      "W0000 00:00:1745547561.135381 3113639 inference_feedback_manager.cc:114] Feedback manager requires a model with a single signature inference. Disabling support for feedback tensors.\n"
     ]
    },
    {
     "name": "stdout",
     "output_type": "stream",
     "text": [
      "모든 프레임 처리 완료, 총 프레임 수: 30\n",
      "CSV 파일 저장 완료: processed/nofall/csv/Coffee_room_02_video_51_nofall_clip1.csv\n",
      "✅ Done\n",
      "⏳ Processing: Coffee_room_01_video_18_nofall_clip1.mp4... "
     ]
    },
    {
     "name": "stderr",
     "output_type": "stream",
     "text": [
      "I0000 00:00:1745547561.894639 3043472 gl_context.cc:369] GL version: 2.1 (2.1 ATI-6.1.13), renderer: AMD Radeon Pro 555X OpenGL Engine\n",
      "W0000 00:00:1745547562.116208 3113675 inference_feedback_manager.cc:114] Feedback manager requires a model with a single signature inference. Disabling support for feedback tensors.\n",
      "W0000 00:00:1745547562.165107 3113676 inference_feedback_manager.cc:114] Feedback manager requires a model with a single signature inference. Disabling support for feedback tensors.\n"
     ]
    },
    {
     "name": "stdout",
     "output_type": "stream",
     "text": [
      "모든 프레임 처리 완료, 총 프레임 수: 30\n",
      "CSV 파일 저장 완료: processed/nofall/csv/Coffee_room_01_video_18_nofall_clip1.csv\n",
      "✅ Done\n",
      "⏳ Processing: Home_01_video_2_nofall_clip1.mp4... "
     ]
    },
    {
     "name": "stderr",
     "output_type": "stream",
     "text": [
      "I0000 00:00:1745547563.059091 3043472 gl_context.cc:369] GL version: 2.1 (2.1 ATI-6.1.13), renderer: AMD Radeon Pro 555X OpenGL Engine\n",
      "W0000 00:00:1745547563.297601 3113720 inference_feedback_manager.cc:114] Feedback manager requires a model with a single signature inference. Disabling support for feedback tensors.\n",
      "W0000 00:00:1745547563.344019 3113729 inference_feedback_manager.cc:114] Feedback manager requires a model with a single signature inference. Disabling support for feedback tensors.\n"
     ]
    },
    {
     "name": "stdout",
     "output_type": "stream",
     "text": [
      "모든 프레임 처리 완료, 총 프레임 수: 30\n",
      "CSV 파일 저장 완료: processed/nofall/csv/Home_01_video_2_nofall_clip1.csv\n",
      "✅ Done\n",
      "⏳ Processing: Coffee_room_01_video_43_nofall_clip1.mp4... "
     ]
    },
    {
     "name": "stderr",
     "output_type": "stream",
     "text": [
      "I0000 00:00:1745547563.997829 3043472 gl_context.cc:369] GL version: 2.1 (2.1 ATI-6.1.13), renderer: AMD Radeon Pro 555X OpenGL Engine\n",
      "W0000 00:00:1745547564.220770 3113760 inference_feedback_manager.cc:114] Feedback manager requires a model with a single signature inference. Disabling support for feedback tensors.\n",
      "W0000 00:00:1745547564.268221 3113763 inference_feedback_manager.cc:114] Feedback manager requires a model with a single signature inference. Disabling support for feedback tensors.\n"
     ]
    },
    {
     "name": "stdout",
     "output_type": "stream",
     "text": [
      "모든 프레임 처리 완료, 총 프레임 수: 30\n",
      "CSV 파일 저장 완료: processed/nofall/csv/Coffee_room_01_video_43_nofall_clip1.csv\n",
      "✅ Done\n",
      "⏳ Processing: Coffee_room_01_video_1_nofall_clip1.mp4... "
     ]
    },
    {
     "name": "stderr",
     "output_type": "stream",
     "text": [
      "I0000 00:00:1745547565.159258 3043472 gl_context.cc:369] GL version: 2.1 (2.1 ATI-6.1.13), renderer: AMD Radeon Pro 555X OpenGL Engine\n",
      "W0000 00:00:1745547565.383308 3113796 inference_feedback_manager.cc:114] Feedback manager requires a model with a single signature inference. Disabling support for feedback tensors.\n",
      "W0000 00:00:1745547565.431104 3113804 inference_feedback_manager.cc:114] Feedback manager requires a model with a single signature inference. Disabling support for feedback tensors.\n"
     ]
    },
    {
     "name": "stdout",
     "output_type": "stream",
     "text": [
      "모든 프레임 처리 완료, 총 프레임 수: 30\n",
      "CSV 파일 저장 완료: processed/nofall/csv/Coffee_room_01_video_1_nofall_clip1.csv\n",
      "✅ Done\n",
      "⏳ Processing: Home_01_video_14_nofall_clip1.mp4... "
     ]
    },
    {
     "name": "stderr",
     "output_type": "stream",
     "text": [
      "I0000 00:00:1745547566.317037 3043472 gl_context.cc:369] GL version: 2.1 (2.1 ATI-6.1.13), renderer: AMD Radeon Pro 555X OpenGL Engine\n",
      "W0000 00:00:1745547566.548327 3113821 inference_feedback_manager.cc:114] Feedback manager requires a model with a single signature inference. Disabling support for feedback tensors.\n",
      "W0000 00:00:1745547566.595367 3113821 inference_feedback_manager.cc:114] Feedback manager requires a model with a single signature inference. Disabling support for feedback tensors.\n"
     ]
    },
    {
     "name": "stdout",
     "output_type": "stream",
     "text": [
      "모든 프레임 처리 완료, 총 프레임 수: 30\n",
      "CSV 파일 저장 완료: processed/nofall/csv/Home_01_video_14_nofall_clip1.csv\n",
      "✅ Done\n",
      "⏳ Processing: Coffee_room_01_video_39_nofall_clip1.mp4... "
     ]
    },
    {
     "name": "stderr",
     "output_type": "stream",
     "text": [
      "I0000 00:00:1745547567.251492 3043472 gl_context.cc:369] GL version: 2.1 (2.1 ATI-6.1.13), renderer: AMD Radeon Pro 555X OpenGL Engine\n",
      "W0000 00:00:1745547567.475712 3113899 inference_feedback_manager.cc:114] Feedback manager requires a model with a single signature inference. Disabling support for feedback tensors.\n",
      "W0000 00:00:1745547567.523555 3113899 inference_feedback_manager.cc:114] Feedback manager requires a model with a single signature inference. Disabling support for feedback tensors.\n"
     ]
    },
    {
     "name": "stdout",
     "output_type": "stream",
     "text": [
      "모든 프레임 처리 완료, 총 프레임 수: 30\n",
      "CSV 파일 저장 완료: processed/nofall/csv/Coffee_room_01_video_39_nofall_clip1.csv\n",
      "✅ Done\n",
      "⏳ Processing: Home_01_video_10_nofall_clip1.mp4... "
     ]
    },
    {
     "name": "stderr",
     "output_type": "stream",
     "text": [
      "I0000 00:00:1745547568.414845 3043472 gl_context.cc:369] GL version: 2.1 (2.1 ATI-6.1.13), renderer: AMD Radeon Pro 555X OpenGL Engine\n",
      "W0000 00:00:1745547568.694591 3113936 inference_feedback_manager.cc:114] Feedback manager requires a model with a single signature inference. Disabling support for feedback tensors.\n",
      "W0000 00:00:1745547568.740932 3113936 inference_feedback_manager.cc:114] Feedback manager requires a model with a single signature inference. Disabling support for feedback tensors.\n"
     ]
    },
    {
     "name": "stdout",
     "output_type": "stream",
     "text": [
      "모든 프레임 처리 완료, 총 프레임 수: 30\n",
      "CSV 파일 저장 완료: processed/nofall/csv/Home_01_video_10_nofall_clip1.csv\n",
      "✅ Done\n",
      "⏳ Processing: Coffee_room_01_video_5_nofall_clip1.mp4... "
     ]
    },
    {
     "name": "stderr",
     "output_type": "stream",
     "text": [
      "I0000 00:00:1745547569.397953 3043472 gl_context.cc:369] GL version: 2.1 (2.1 ATI-6.1.13), renderer: AMD Radeon Pro 555X OpenGL Engine\n",
      "W0000 00:00:1745547569.624418 3114032 inference_feedback_manager.cc:114] Feedback manager requires a model with a single signature inference. Disabling support for feedback tensors.\n",
      "W0000 00:00:1745547569.673145 3114032 inference_feedback_manager.cc:114] Feedback manager requires a model with a single signature inference. Disabling support for feedback tensors.\n"
     ]
    },
    {
     "name": "stdout",
     "output_type": "stream",
     "text": [
      "모든 프레임 처리 완료, 총 프레임 수: 30\n",
      "CSV 파일 저장 완료: processed/nofall/csv/Coffee_room_01_video_5_nofall_clip1.csv\n",
      "✅ Done\n",
      "⏳ Processing: Coffee_room_02_video_55_nofall_clip1.mp4... "
     ]
    },
    {
     "name": "stderr",
     "output_type": "stream",
     "text": [
      "I0000 00:00:1745547570.573692 3043472 gl_context.cc:369] GL version: 2.1 (2.1 ATI-6.1.13), renderer: AMD Radeon Pro 555X OpenGL Engine\n",
      "W0000 00:00:1745547570.796046 3114196 inference_feedback_manager.cc:114] Feedback manager requires a model with a single signature inference. Disabling support for feedback tensors.\n",
      "W0000 00:00:1745547570.845112 3114196 inference_feedback_manager.cc:114] Feedback manager requires a model with a single signature inference. Disabling support for feedback tensors.\n"
     ]
    },
    {
     "name": "stdout",
     "output_type": "stream",
     "text": [
      "모든 프레임 처리 완료, 총 프레임 수: 30\n",
      "CSV 파일 저장 완료: processed/nofall/csv/Coffee_room_02_video_55_nofall_clip1.csv\n",
      "✅ Done\n",
      "⏳ Processing: Coffee_room_01_video_22_nofall_clip1.mp4... "
     ]
    },
    {
     "name": "stderr",
     "output_type": "stream",
     "text": [
      "I0000 00:00:1745547571.745331 3043472 gl_context.cc:369] GL version: 2.1 (2.1 ATI-6.1.13), renderer: AMD Radeon Pro 555X OpenGL Engine\n",
      "W0000 00:00:1745547571.974000 3114261 inference_feedback_manager.cc:114] Feedback manager requires a model with a single signature inference. Disabling support for feedback tensors.\n",
      "W0000 00:00:1745547572.023485 3114261 inference_feedback_manager.cc:114] Feedback manager requires a model with a single signature inference. Disabling support for feedback tensors.\n"
     ]
    },
    {
     "name": "stdout",
     "output_type": "stream",
     "text": [
      "모든 프레임 처리 완료, 총 프레임 수: 30\n",
      "CSV 파일 저장 완료: processed/nofall/csv/Coffee_room_01_video_22_nofall_clip1.csv\n",
      "✅ Done\n",
      "⏳ Processing: Home_01_video_6_nofall_clip1.mp4... "
     ]
    },
    {
     "name": "stderr",
     "output_type": "stream",
     "text": [
      "I0000 00:00:1745547572.916888 3043472 gl_context.cc:369] GL version: 2.1 (2.1 ATI-6.1.13), renderer: AMD Radeon Pro 555X OpenGL Engine\n",
      "W0000 00:00:1745547573.145140 3114311 inference_feedback_manager.cc:114] Feedback manager requires a model with a single signature inference. Disabling support for feedback tensors.\n",
      "W0000 00:00:1745547573.193590 3114311 inference_feedback_manager.cc:114] Feedback manager requires a model with a single signature inference. Disabling support for feedback tensors.\n"
     ]
    },
    {
     "name": "stdout",
     "output_type": "stream",
     "text": [
      "모든 프레임 처리 완료, 총 프레임 수: 30\n",
      "CSV 파일 저장 완료: processed/nofall/csv/Home_01_video_6_nofall_clip1.csv\n",
      "✅ Done\n",
      "⏳ Processing: Coffee_room_01_video_47_nofall_clip1.mp4... "
     ]
    },
    {
     "name": "stderr",
     "output_type": "stream",
     "text": [
      "I0000 00:00:1745547573.993456 3043472 gl_context.cc:369] GL version: 2.1 (2.1 ATI-6.1.13), renderer: AMD Radeon Pro 555X OpenGL Engine\n",
      "W0000 00:00:1745547574.226528 3114354 inference_feedback_manager.cc:114] Feedback manager requires a model with a single signature inference. Disabling support for feedback tensors.\n",
      "W0000 00:00:1745547574.288618 3114358 inference_feedback_manager.cc:114] Feedback manager requires a model with a single signature inference. Disabling support for feedback tensors.\n"
     ]
    },
    {
     "name": "stdout",
     "output_type": "stream",
     "text": [
      "모든 프레임 처리 완료, 총 프레임 수: 30\n",
      "CSV 파일 저장 완료: processed/nofall/csv/Coffee_room_01_video_47_nofall_clip1.csv\n",
      "✅ Done\n",
      "⏳ Processing: Coffee_room_01_video_36_nofall_clip1.mp4... "
     ]
    },
    {
     "name": "stderr",
     "output_type": "stream",
     "text": [
      "I0000 00:00:1745547575.149022 3043472 gl_context.cc:369] GL version: 2.1 (2.1 ATI-6.1.13), renderer: AMD Radeon Pro 555X OpenGL Engine\n",
      "W0000 00:00:1745547575.379533 3114421 inference_feedback_manager.cc:114] Feedback manager requires a model with a single signature inference. Disabling support for feedback tensors.\n",
      "W0000 00:00:1745547575.427275 3114421 inference_feedback_manager.cc:114] Feedback manager requires a model with a single signature inference. Disabling support for feedback tensors.\n"
     ]
    },
    {
     "name": "stdout",
     "output_type": "stream",
     "text": [
      "모든 프레임 처리 완료, 총 프레임 수: 30\n",
      "CSV 파일 저장 완료: processed/nofall/csv/Coffee_room_01_video_36_nofall_clip1.csv\n",
      "✅ Done\n",
      "⏳ Processing: Home_02_video_37_nofall_clip1.mp4... "
     ]
    },
    {
     "name": "stderr",
     "output_type": "stream",
     "text": [
      "I0000 00:00:1745547576.317694 3043472 gl_context.cc:369] GL version: 2.1 (2.1 ATI-6.1.13), renderer: AMD Radeon Pro 555X OpenGL Engine\n",
      "W0000 00:00:1745547576.543298 3114450 inference_feedback_manager.cc:114] Feedback manager requires a model with a single signature inference. Disabling support for feedback tensors.\n",
      "W0000 00:00:1745547576.590974 3114450 inference_feedback_manager.cc:114] Feedback manager requires a model with a single signature inference. Disabling support for feedback tensors.\n"
     ]
    },
    {
     "name": "stdout",
     "output_type": "stream",
     "text": [
      "모든 프레임 처리 완료, 총 프레임 수: 30\n",
      "CSV 파일 저장 완료: processed/nofall/csv/Home_02_video_37_nofall_clip1.csv\n",
      "✅ Done\n",
      "⏳ Processing: Home_01_video_25_nofall_clip1.mp4... "
     ]
    },
    {
     "name": "stderr",
     "output_type": "stream",
     "text": [
      "I0000 00:00:1745547577.472258 3043472 gl_context.cc:369] GL version: 2.1 (2.1 ATI-6.1.13), renderer: AMD Radeon Pro 555X OpenGL Engine\n",
      "W0000 00:00:1745547577.695414 3114517 inference_feedback_manager.cc:114] Feedback manager requires a model with a single signature inference. Disabling support for feedback tensors.\n",
      "W0000 00:00:1745547577.742999 3114517 inference_feedback_manager.cc:114] Feedback manager requires a model with a single signature inference. Disabling support for feedback tensors.\n"
     ]
    },
    {
     "name": "stdout",
     "output_type": "stream",
     "text": [
      "모든 프레임 처리 완료, 총 프레임 수: 30\n",
      "CSV 파일 저장 완료: processed/nofall/csv/Home_01_video_25_nofall_clip1.csv\n",
      "✅ Done\n",
      "⏳ Processing: Coffee_room_02_video_60_nofall_clip1.mp4... "
     ]
    },
    {
     "name": "stderr",
     "output_type": "stream",
     "text": [
      "I0000 00:00:1745547578.612917 3043472 gl_context.cc:369] GL version: 2.1 (2.1 ATI-6.1.13), renderer: AMD Radeon Pro 555X OpenGL Engine\n",
      "W0000 00:00:1745547578.842247 3114551 inference_feedback_manager.cc:114] Feedback manager requires a model with a single signature inference. Disabling support for feedback tensors.\n",
      "W0000 00:00:1745547578.890143 3114551 inference_feedback_manager.cc:114] Feedback manager requires a model with a single signature inference. Disabling support for feedback tensors.\n"
     ]
    },
    {
     "name": "stdout",
     "output_type": "stream",
     "text": [
      "모든 프레임 처리 완료, 총 프레임 수: 30\n",
      "CSV 파일 저장 완료: processed/nofall/csv/Coffee_room_02_video_60_nofall_clip1.csv\n",
      "✅ Done\n",
      "⏳ Processing: Coffee_room_01_video_29_nofall_clip1.mp4... "
     ]
    },
    {
     "name": "stderr",
     "output_type": "stream",
     "text": [
      "I0000 00:00:1745547579.782725 3043472 gl_context.cc:369] GL version: 2.1 (2.1 ATI-6.1.13), renderer: AMD Radeon Pro 555X OpenGL Engine\n",
      "W0000 00:00:1745547580.011510 3114583 inference_feedback_manager.cc:114] Feedback manager requires a model with a single signature inference. Disabling support for feedback tensors.\n",
      "W0000 00:00:1745547580.060475 3114592 inference_feedback_manager.cc:114] Feedback manager requires a model with a single signature inference. Disabling support for feedback tensors.\n"
     ]
    },
    {
     "name": "stdout",
     "output_type": "stream",
     "text": [
      "모든 프레임 처리 완료, 총 프레임 수: 30\n",
      "CSV 파일 저장 완료: processed/nofall/csv/Coffee_room_01_video_29_nofall_clip1.csv\n",
      "✅ Done\n",
      "⏳ Processing: Coffee_room_01_video_25_nofall_clip1.mp4... "
     ]
    },
    {
     "name": "stderr",
     "output_type": "stream",
     "text": [
      "I0000 00:00:1745547581.013963 3043472 gl_context.cc:369] GL version: 2.1 (2.1 ATI-6.1.13), renderer: AMD Radeon Pro 555X OpenGL Engine\n",
      "W0000 00:00:1745547581.240228 3114820 inference_feedback_manager.cc:114] Feedback manager requires a model with a single signature inference. Disabling support for feedback tensors.\n",
      "W0000 00:00:1745547581.288982 3114821 inference_feedback_manager.cc:114] Feedback manager requires a model with a single signature inference. Disabling support for feedback tensors.\n"
     ]
    },
    {
     "name": "stdout",
     "output_type": "stream",
     "text": [
      "모든 프레임 처리 완료, 총 프레임 수: 30\n",
      "CSV 파일 저장 완료: processed/nofall/csv/Coffee_room_01_video_25_nofall_clip1.csv\n",
      "✅ Done\n",
      "⏳ Processing: Coffee_room_01_video_40_nofall_clip1.mp4... "
     ]
    },
    {
     "name": "stderr",
     "output_type": "stream",
     "text": [
      "I0000 00:00:1745547582.192468 3043472 gl_context.cc:369] GL version: 2.1 (2.1 ATI-6.1.13), renderer: AMD Radeon Pro 555X OpenGL Engine\n",
      "W0000 00:00:1745547582.417599 3114896 inference_feedback_manager.cc:114] Feedback manager requires a model with a single signature inference. Disabling support for feedback tensors.\n",
      "W0000 00:00:1745547582.466001 3114899 inference_feedback_manager.cc:114] Feedback manager requires a model with a single signature inference. Disabling support for feedback tensors.\n"
     ]
    },
    {
     "name": "stdout",
     "output_type": "stream",
     "text": [
      "모든 프레임 처리 완료, 총 프레임 수: 30\n",
      "CSV 파일 저장 완료: processed/nofall/csv/Coffee_room_01_video_40_nofall_clip1.csv\n",
      "✅ Done\n",
      "⏳ Processing: Home_01_video_1_nofall_clip1.mp4... "
     ]
    },
    {
     "name": "stderr",
     "output_type": "stream",
     "text": [
      "I0000 00:00:1745547583.293926 3043472 gl_context.cc:369] GL version: 2.1 (2.1 ATI-6.1.13), renderer: AMD Radeon Pro 555X OpenGL Engine\n",
      "W0000 00:00:1745547583.516528 3114953 inference_feedback_manager.cc:114] Feedback manager requires a model with a single signature inference. Disabling support for feedback tensors.\n",
      "W0000 00:00:1745547583.565087 3114958 inference_feedback_manager.cc:114] Feedback manager requires a model with a single signature inference. Disabling support for feedback tensors.\n"
     ]
    },
    {
     "name": "stdout",
     "output_type": "stream",
     "text": [
      "모든 프레임 처리 완료, 총 프레임 수: 30\n",
      "CSV 파일 저장 완료: processed/nofall/csv/Home_01_video_1_nofall_clip1.csv\n",
      "✅ Done\n",
      "⏳ Processing: Home_01_video_29_nofall_clip1.mp4... "
     ]
    },
    {
     "name": "stderr",
     "output_type": "stream",
     "text": [
      "I0000 00:00:1745547584.456392 3043472 gl_context.cc:369] GL version: 2.1 (2.1 ATI-6.1.13), renderer: AMD Radeon Pro 555X OpenGL Engine\n",
      "W0000 00:00:1745547584.679917 3114978 inference_feedback_manager.cc:114] Feedback manager requires a model with a single signature inference. Disabling support for feedback tensors.\n",
      "W0000 00:00:1745547584.728459 3114979 inference_feedback_manager.cc:114] Feedback manager requires a model with a single signature inference. Disabling support for feedback tensors.\n"
     ]
    },
    {
     "name": "stdout",
     "output_type": "stream",
     "text": [
      "모든 프레임 처리 완료, 총 프레임 수: 30\n",
      "CSV 파일 저장 완료: processed/nofall/csv/Home_01_video_29_nofall_clip1.csv\n",
      "✅ Done\n",
      "⏳ Processing: Home_01_video_17_nofall_clip1.mp4... "
     ]
    },
    {
     "name": "stderr",
     "output_type": "stream",
     "text": [
      "I0000 00:00:1745547585.614469 3043472 gl_context.cc:369] GL version: 2.1 (2.1 ATI-6.1.13), renderer: AMD Radeon Pro 555X OpenGL Engine\n",
      "W0000 00:00:1745547585.846423 3115025 inference_feedback_manager.cc:114] Feedback manager requires a model with a single signature inference. Disabling support for feedback tensors.\n",
      "W0000 00:00:1745547585.893300 3115029 inference_feedback_manager.cc:114] Feedback manager requires a model with a single signature inference. Disabling support for feedback tensors.\n"
     ]
    },
    {
     "name": "stdout",
     "output_type": "stream",
     "text": [
      "모든 프레임 처리 완료, 총 프레임 수: 30\n",
      "CSV 파일 저장 완료: processed/nofall/csv/Home_01_video_17_nofall_clip1.csv\n",
      "✅ Done\n",
      "⏳ Processing: Coffee_room_01_video_2_nofall_clip1.mp4... "
     ]
    },
    {
     "name": "stderr",
     "output_type": "stream",
     "text": [
      "I0000 00:00:1745547586.779786 3043472 gl_context.cc:369] GL version: 2.1 (2.1 ATI-6.1.13), renderer: AMD Radeon Pro 555X OpenGL Engine\n",
      "W0000 00:00:1745547587.001088 3115051 inference_feedback_manager.cc:114] Feedback manager requires a model with a single signature inference. Disabling support for feedback tensors.\n",
      "W0000 00:00:1745547587.048183 3115054 inference_feedback_manager.cc:114] Feedback manager requires a model with a single signature inference. Disabling support for feedback tensors.\n"
     ]
    },
    {
     "name": "stdout",
     "output_type": "stream",
     "text": [
      "모든 프레임 처리 완료, 총 프레임 수: 30\n",
      "CSV 파일 저장 완료: processed/nofall/csv/Coffee_room_01_video_2_nofall_clip1.csv\n",
      "✅ Done\n",
      "⏳ Processing: Coffee_room_02_video_59_nofall_clip1.mp4... "
     ]
    },
    {
     "name": "stderr",
     "output_type": "stream",
     "text": [
      "I0000 00:00:1745547588.001103 3043472 gl_context.cc:369] GL version: 2.1 (2.1 ATI-6.1.13), renderer: AMD Radeon Pro 555X OpenGL Engine\n",
      "W0000 00:00:1745547588.251280 3115134 inference_feedback_manager.cc:114] Feedback manager requires a model with a single signature inference. Disabling support for feedback tensors.\n",
      "W0000 00:00:1745547588.298019 3115138 inference_feedback_manager.cc:114] Feedback manager requires a model with a single signature inference. Disabling support for feedback tensors.\n"
     ]
    },
    {
     "name": "stdout",
     "output_type": "stream",
     "text": [
      "모든 프레임 처리 완료, 총 프레임 수: 30\n",
      "CSV 파일 저장 완료: processed/nofall/csv/Coffee_room_02_video_59_nofall_clip1.csv\n",
      "✅ Done\n",
      "⏳ Processing: Coffee_room_01_video_10_nofall_clip1.mp4... "
     ]
    },
    {
     "name": "stderr",
     "output_type": "stream",
     "text": [
      "I0000 00:00:1745547589.187585 3043472 gl_context.cc:369] GL version: 2.1 (2.1 ATI-6.1.13), renderer: AMD Radeon Pro 555X OpenGL Engine\n",
      "W0000 00:00:1745547589.408147 3115169 inference_feedback_manager.cc:114] Feedback manager requires a model with a single signature inference. Disabling support for feedback tensors.\n",
      "W0000 00:00:1745547589.456705 3115169 inference_feedback_manager.cc:114] Feedback manager requires a model with a single signature inference. Disabling support for feedback tensors.\n"
     ]
    },
    {
     "name": "stdout",
     "output_type": "stream",
     "text": [
      "모든 프레임 처리 완료, 총 프레임 수: 30\n",
      "CSV 파일 저장 완료: processed/nofall/csv/Coffee_room_01_video_10_nofall_clip1.csv\n",
      "✅ Done\n",
      "⏳ Processing: Coffee_room_01_video_31_nofall_clip1.mp4... "
     ]
    },
    {
     "name": "stderr",
     "output_type": "stream",
     "text": [
      "I0000 00:00:1745547590.342267 3043472 gl_context.cc:369] GL version: 2.1 (2.1 ATI-6.1.13), renderer: AMD Radeon Pro 555X OpenGL Engine\n",
      "W0000 00:00:1745547590.567484 3115211 inference_feedback_manager.cc:114] Feedback manager requires a model with a single signature inference. Disabling support for feedback tensors.\n",
      "W0000 00:00:1745547590.615904 3115211 inference_feedback_manager.cc:114] Feedback manager requires a model with a single signature inference. Disabling support for feedback tensors.\n"
     ]
    },
    {
     "name": "stdout",
     "output_type": "stream",
     "text": [
      "모든 프레임 처리 완료, 총 프레임 수: 30\n",
      "CSV 파일 저장 완료: processed/nofall/csv/Coffee_room_01_video_31_nofall_clip1.csv\n",
      "✅ Done\n",
      "⏳ Processing: Home_01_video_22_nofall_clip1.mp4... "
     ]
    },
    {
     "name": "stderr",
     "output_type": "stream",
     "text": [
      "I0000 00:00:1745547591.509151 3043472 gl_context.cc:369] GL version: 2.1 (2.1 ATI-6.1.13), renderer: AMD Radeon Pro 555X OpenGL Engine\n",
      "W0000 00:00:1745547591.740575 3115434 inference_feedback_manager.cc:114] Feedback manager requires a model with a single signature inference. Disabling support for feedback tensors.\n",
      "W0000 00:00:1745547591.789931 3115438 inference_feedback_manager.cc:114] Feedback manager requires a model with a single signature inference. Disabling support for feedback tensors.\n"
     ]
    },
    {
     "name": "stdout",
     "output_type": "stream",
     "text": [
      "모든 프레임 처리 완료, 총 프레임 수: 30\n",
      "CSV 파일 저장 완료: processed/nofall/csv/Home_01_video_22_nofall_clip1.csv\n",
      "✅ Done\n",
      "⏳ Processing: Coffee_room_01_video_9_nofall_clip1.mp4... "
     ]
    },
    {
     "name": "stderr",
     "output_type": "stream",
     "text": [
      "I0000 00:00:1745547592.689070 3043472 gl_context.cc:369] GL version: 2.1 (2.1 ATI-6.1.13), renderer: AMD Radeon Pro 555X OpenGL Engine\n",
      "W0000 00:00:1745547592.918761 3115493 inference_feedback_manager.cc:114] Feedback manager requires a model with a single signature inference. Disabling support for feedback tensors.\n",
      "W0000 00:00:1745547592.967167 3115504 inference_feedback_manager.cc:114] Feedback manager requires a model with a single signature inference. Disabling support for feedback tensors.\n"
     ]
    },
    {
     "name": "stdout",
     "output_type": "stream",
     "text": [
      "모든 프레임 처리 완료, 총 프레임 수: 30\n",
      "CSV 파일 저장 완료: processed/nofall/csv/Coffee_room_01_video_9_nofall_clip1.csv\n",
      "✅ Done\n",
      "⏳ Processing: Home_02_video_34_nofall_clip1.mp4... "
     ]
    },
    {
     "name": "stderr",
     "output_type": "stream",
     "text": [
      "I0000 00:00:1745547593.863774 3043472 gl_context.cc:369] GL version: 2.1 (2.1 ATI-6.1.13), renderer: AMD Radeon Pro 555X OpenGL Engine\n",
      "W0000 00:00:1745547594.097749 3115537 inference_feedback_manager.cc:114] Feedback manager requires a model with a single signature inference. Disabling support for feedback tensors.\n",
      "W0000 00:00:1745547594.146065 3115543 inference_feedback_manager.cc:114] Feedback manager requires a model with a single signature inference. Disabling support for feedback tensors.\n"
     ]
    },
    {
     "name": "stdout",
     "output_type": "stream",
     "text": [
      "모든 프레임 처리 완료, 총 프레임 수: 30\n",
      "CSV 파일 저장 완료: processed/nofall/csv/Home_02_video_34_nofall_clip1.csv\n",
      "✅ Done\n",
      "⏳ Processing: Coffee_room_01_video_35_nofall_clip1.mp4... "
     ]
    },
    {
     "name": "stderr",
     "output_type": "stream",
     "text": [
      "I0000 00:00:1745547594.889253 3043472 gl_context.cc:369] GL version: 2.1 (2.1 ATI-6.1.13), renderer: AMD Radeon Pro 555X OpenGL Engine\n",
      "W0000 00:00:1745547595.116004 3115567 inference_feedback_manager.cc:114] Feedback manager requires a model with a single signature inference. Disabling support for feedback tensors.\n",
      "W0000 00:00:1745547595.165084 3115567 inference_feedback_manager.cc:114] Feedback manager requires a model with a single signature inference. Disabling support for feedback tensors.\n"
     ]
    },
    {
     "name": "stdout",
     "output_type": "stream",
     "text": [
      "모든 프레임 처리 완료, 총 프레임 수: 30\n",
      "CSV 파일 저장 완료: processed/nofall/csv/Coffee_room_01_video_35_nofall_clip1.csv\n",
      "✅ Done\n",
      "⏳ Processing: Home_01_video_18_nofall_clip1.mp4... "
     ]
    },
    {
     "name": "stderr",
     "output_type": "stream",
     "text": [
      "I0000 00:00:1745547596.060739 3043472 gl_context.cc:369] GL version: 2.1 (2.1 ATI-6.1.13), renderer: AMD Radeon Pro 555X OpenGL Engine\n",
      "W0000 00:00:1745547596.292790 3115611 inference_feedback_manager.cc:114] Feedback manager requires a model with a single signature inference. Disabling support for feedback tensors.\n",
      "W0000 00:00:1745547596.340010 3115619 inference_feedback_manager.cc:114] Feedback manager requires a model with a single signature inference. Disabling support for feedback tensors.\n"
     ]
    },
    {
     "name": "stdout",
     "output_type": "stream",
     "text": [
      "모든 프레임 처리 완료, 총 프레임 수: 30\n",
      "CSV 파일 저장 완료: processed/nofall/csv/Home_01_video_18_nofall_clip1.csv\n",
      "✅ Done\n",
      "⏳ Processing: Home_01_video_26_nofall_clip1.mp4... "
     ]
    },
    {
     "name": "stderr",
     "output_type": "stream",
     "text": [
      "I0000 00:00:1745547597.797300 3043472 gl_context.cc:369] GL version: 2.1 (2.1 ATI-6.1.13), renderer: AMD Radeon Pro 555X OpenGL Engine\n",
      "W0000 00:00:1745547598.026896 3115710 inference_feedback_manager.cc:114] Feedback manager requires a model with a single signature inference. Disabling support for feedback tensors.\n",
      "W0000 00:00:1745547598.074824 3115715 inference_feedback_manager.cc:114] Feedback manager requires a model with a single signature inference. Disabling support for feedback tensors.\n"
     ]
    },
    {
     "name": "stdout",
     "output_type": "stream",
     "text": [
      "모든 프레임 처리 완료, 총 프레임 수: 30\n",
      "CSV 파일 저장 완료: processed/nofall/csv/Home_01_video_26_nofall_clip1.csv\n",
      "✅ Done\n",
      "⏳ Processing: Coffee_room_01_video_14_nofall_clip1.mp4... "
     ]
    },
    {
     "name": "stderr",
     "output_type": "stream",
     "text": [
      "I0000 00:00:1745547598.982659 3043472 gl_context.cc:369] GL version: 2.1 (2.1 ATI-6.1.13), renderer: AMD Radeon Pro 555X OpenGL Engine\n",
      "W0000 00:00:1745547599.216658 3115745 inference_feedback_manager.cc:114] Feedback manager requires a model with a single signature inference. Disabling support for feedback tensors.\n",
      "W0000 00:00:1745547599.264711 3115751 inference_feedback_manager.cc:114] Feedback manager requires a model with a single signature inference. Disabling support for feedback tensors.\n"
     ]
    },
    {
     "name": "stdout",
     "output_type": "stream",
     "text": [
      "모든 프레임 처리 완료, 총 프레임 수: 30\n",
      "CSV 파일 저장 완료: processed/nofall/csv/Coffee_room_01_video_14_nofall_clip1.csv\n",
      "✅ Done\n",
      "⏳ Processing: Coffee_room_01_video_6_nofall_clip1.mp4... "
     ]
    },
    {
     "name": "stderr",
     "output_type": "stream",
     "text": [
      "I0000 00:00:1745547600.163199 3043472 gl_context.cc:369] GL version: 2.1 (2.1 ATI-6.1.13), renderer: AMD Radeon Pro 555X OpenGL Engine\n",
      "W0000 00:00:1745547600.404826 3115786 inference_feedback_manager.cc:114] Feedback manager requires a model with a single signature inference. Disabling support for feedback tensors.\n",
      "W0000 00:00:1745547600.451262 3115786 inference_feedback_manager.cc:114] Feedback manager requires a model with a single signature inference. Disabling support for feedback tensors.\n"
     ]
    },
    {
     "name": "stdout",
     "output_type": "stream",
     "text": [
      "모든 프레임 처리 완료, 총 프레임 수: 30\n",
      "CSV 파일 저장 완료: processed/nofall/csv/Coffee_room_01_video_6_nofall_clip1.csv\n",
      "✅ Done\n",
      "⏳ Processing: Home_01_video_13_nofall_clip1.mp4... "
     ]
    },
    {
     "name": "stderr",
     "output_type": "stream",
     "text": [
      "I0000 00:00:1745547601.342338 3043472 gl_context.cc:369] GL version: 2.1 (2.1 ATI-6.1.13), renderer: AMD Radeon Pro 555X OpenGL Engine\n",
      "W0000 00:00:1745547601.622234 3115869 inference_feedback_manager.cc:114] Feedback manager requires a model with a single signature inference. Disabling support for feedback tensors.\n",
      "W0000 00:00:1745547601.670200 3115869 inference_feedback_manager.cc:114] Feedback manager requires a model with a single signature inference. Disabling support for feedback tensors.\n"
     ]
    },
    {
     "name": "stdout",
     "output_type": "stream",
     "text": [
      "모든 프레임 처리 완료, 총 프레임 수: 30\n",
      "CSV 파일 저장 완료: processed/nofall/csv/Home_01_video_13_nofall_clip1.csv\n",
      "✅ Done\n",
      "⏳ Processing: Coffee_room_02_video_49_nofall_clip1.mp4... "
     ]
    },
    {
     "name": "stderr",
     "output_type": "stream",
     "text": [
      "I0000 00:00:1745547602.393671 3043472 gl_context.cc:369] GL version: 2.1 (2.1 ATI-6.1.13), renderer: AMD Radeon Pro 555X OpenGL Engine\n",
      "W0000 00:00:1745547602.619036 3116052 inference_feedback_manager.cc:114] Feedback manager requires a model with a single signature inference. Disabling support for feedback tensors.\n",
      "W0000 00:00:1745547602.666992 3116051 inference_feedback_manager.cc:114] Feedback manager requires a model with a single signature inference. Disabling support for feedback tensors.\n"
     ]
    },
    {
     "name": "stdout",
     "output_type": "stream",
     "text": [
      "모든 프레임 처리 완료, 총 프레임 수: 30\n",
      "CSV 파일 저장 완료: processed/nofall/csv/Coffee_room_02_video_49_nofall_clip1.csv\n",
      "✅ Done\n",
      "⏳ Processing: Coffee_room_01_video_21_nofall_clip1.mp4... "
     ]
    },
    {
     "name": "stderr",
     "output_type": "stream",
     "text": [
      "I0000 00:00:1745547603.572391 3043472 gl_context.cc:369] GL version: 2.1 (2.1 ATI-6.1.13), renderer: AMD Radeon Pro 555X OpenGL Engine\n",
      "W0000 00:00:1745547603.811301 3116205 inference_feedback_manager.cc:114] Feedback manager requires a model with a single signature inference. Disabling support for feedback tensors.\n",
      "W0000 00:00:1745547603.859495 3116205 inference_feedback_manager.cc:114] Feedback manager requires a model with a single signature inference. Disabling support for feedback tensors.\n"
     ]
    },
    {
     "name": "stdout",
     "output_type": "stream",
     "text": [
      "모든 프레임 처리 완료, 총 프레임 수: 30\n",
      "CSV 파일 저장 완료: processed/nofall/csv/Coffee_room_01_video_21_nofall_clip1.csv\n",
      "✅ Done\n",
      "⏳ Processing: Coffee_room_02_video_56_nofall_clip1.mp4... "
     ]
    },
    {
     "name": "stderr",
     "output_type": "stream",
     "text": [
      "I0000 00:00:1745547604.688851 3043472 gl_context.cc:369] GL version: 2.1 (2.1 ATI-6.1.13), renderer: AMD Radeon Pro 555X OpenGL Engine\n",
      "W0000 00:00:1745547604.917516 3116238 inference_feedback_manager.cc:114] Feedback manager requires a model with a single signature inference. Disabling support for feedback tensors.\n",
      "W0000 00:00:1745547604.966218 3116240 inference_feedback_manager.cc:114] Feedback manager requires a model with a single signature inference. Disabling support for feedback tensors.\n"
     ]
    },
    {
     "name": "stdout",
     "output_type": "stream",
     "text": [
      "모든 프레임 처리 완료, 총 프레임 수: 30\n",
      "CSV 파일 저장 완료: processed/nofall/csv/Coffee_room_02_video_56_nofall_clip1.csv\n",
      "✅ Done\n",
      "⏳ Processing: Coffee_room_01_video_44_nofall_clip1.mp4... "
     ]
    },
    {
     "name": "stderr",
     "output_type": "stream",
     "text": [
      "I0000 00:00:1745547605.897411 3043472 gl_context.cc:369] GL version: 2.1 (2.1 ATI-6.1.13), renderer: AMD Radeon Pro 555X OpenGL Engine\n",
      "W0000 00:00:1745547606.134862 3116305 inference_feedback_manager.cc:114] Feedback manager requires a model with a single signature inference. Disabling support for feedback tensors.\n",
      "W0000 00:00:1745547606.182043 3116316 inference_feedback_manager.cc:114] Feedback manager requires a model with a single signature inference. Disabling support for feedback tensors.\n"
     ]
    },
    {
     "name": "stdout",
     "output_type": "stream",
     "text": [
      "모든 프레임 처리 완료, 총 프레임 수: 30\n",
      "CSV 파일 저장 완료: processed/nofall/csv/Coffee_room_01_video_44_nofall_clip1.csv\n",
      "✅ Done\n",
      "⏳ Processing: Home_01_video_5_nofall_clip1.mp4... "
     ]
    },
    {
     "name": "stderr",
     "output_type": "stream",
     "text": [
      "I0000 00:00:1745547607.070300 3043472 gl_context.cc:369] GL version: 2.1 (2.1 ATI-6.1.13), renderer: AMD Radeon Pro 555X OpenGL Engine\n",
      "W0000 00:00:1745547607.297306 3116354 inference_feedback_manager.cc:114] Feedback manager requires a model with a single signature inference. Disabling support for feedback tensors.\n",
      "W0000 00:00:1745547607.344727 3116358 inference_feedback_manager.cc:114] Feedback manager requires a model with a single signature inference. Disabling support for feedback tensors.\n"
     ]
    },
    {
     "name": "stdout",
     "output_type": "stream",
     "text": [
      "모든 프레임 처리 완료, 총 프레임 수: 30\n",
      "CSV 파일 저장 완료: processed/nofall/csv/Home_01_video_5_nofall_clip1.csv\n",
      "✅ Done\n",
      "⏳ Processing: Coffee_room_01_video_3_nofall_clip1.mp4... "
     ]
    },
    {
     "name": "stderr",
     "output_type": "stream",
     "text": [
      "I0000 00:00:1745547608.186715 3043472 gl_context.cc:369] GL version: 2.1 (2.1 ATI-6.1.13), renderer: AMD Radeon Pro 555X OpenGL Engine\n",
      "W0000 00:00:1745547608.471040 3116428 inference_feedback_manager.cc:114] Feedback manager requires a model with a single signature inference. Disabling support for feedback tensors.\n",
      "W0000 00:00:1745547608.517613 3116431 inference_feedback_manager.cc:114] Feedback manager requires a model with a single signature inference. Disabling support for feedback tensors.\n"
     ]
    },
    {
     "name": "stdout",
     "output_type": "stream",
     "text": [
      "모든 프레임 처리 완료, 총 프레임 수: 30\n",
      "CSV 파일 저장 완료: processed/nofall/csv/Coffee_room_01_video_3_nofall_clip1.csv\n",
      "✅ Done\n",
      "⏳ Processing: Home_01_video_28_nofall_clip1.mp4... "
     ]
    },
    {
     "name": "stderr",
     "output_type": "stream",
     "text": [
      "I0000 00:00:1745547609.403782 3043472 gl_context.cc:369] GL version: 2.1 (2.1 ATI-6.1.13), renderer: AMD Radeon Pro 555X OpenGL Engine\n",
      "W0000 00:00:1745547609.628202 3116459 inference_feedback_manager.cc:114] Feedback manager requires a model with a single signature inference. Disabling support for feedback tensors.\n",
      "W0000 00:00:1745547609.676399 3116459 inference_feedback_manager.cc:114] Feedback manager requires a model with a single signature inference. Disabling support for feedback tensors.\n"
     ]
    },
    {
     "name": "stdout",
     "output_type": "stream",
     "text": [
      "모든 프레임 처리 완료, 총 프레임 수: 30\n",
      "CSV 파일 저장 완료: processed/nofall/csv/Home_01_video_28_nofall_clip1.csv\n",
      "✅ Done\n",
      "⏳ Processing: Home_01_video_16_nofall_clip1.mp4... "
     ]
    },
    {
     "name": "stderr",
     "output_type": "stream",
     "text": [
      "I0000 00:00:1745547610.576714 3043472 gl_context.cc:369] GL version: 2.1 (2.1 ATI-6.1.13), renderer: AMD Radeon Pro 555X OpenGL Engine\n",
      "W0000 00:00:1745547610.804786 3116497 inference_feedback_manager.cc:114] Feedback manager requires a model with a single signature inference. Disabling support for feedback tensors.\n",
      "W0000 00:00:1745547610.854271 3116492 inference_feedback_manager.cc:114] Feedback manager requires a model with a single signature inference. Disabling support for feedback tensors.\n"
     ]
    },
    {
     "name": "stdout",
     "output_type": "stream",
     "text": [
      "모든 프레임 처리 완료, 총 프레임 수: 30\n",
      "CSV 파일 저장 완료: processed/nofall/csv/Home_01_video_16_nofall_clip1.csv\n",
      "✅ Done\n",
      "⏳ Processing: Coffee_room_01_video_41_nofall_clip1.mp4... "
     ]
    },
    {
     "name": "stderr",
     "output_type": "stream",
     "text": [
      "I0000 00:00:1745547611.753587 3043472 gl_context.cc:369] GL version: 2.1 (2.1 ATI-6.1.13), renderer: AMD Radeon Pro 555X OpenGL Engine\n",
      "W0000 00:00:1745547611.975906 3116525 inference_feedback_manager.cc:114] Feedback manager requires a model with a single signature inference. Disabling support for feedback tensors.\n",
      "W0000 00:00:1745547612.024691 3116523 inference_feedback_manager.cc:114] Feedback manager requires a model with a single signature inference. Disabling support for feedback tensors.\n"
     ]
    },
    {
     "name": "stdout",
     "output_type": "stream",
     "text": [
      "모든 프레임 처리 완료, 총 프레임 수: 30\n",
      "CSV 파일 저장 완료: processed/nofall/csv/Coffee_room_01_video_41_nofall_clip1.csv\n",
      "✅ Done\n",
      "⏳ Processing: Coffee_room_01_video_24_nofall_clip1.mp4... "
     ]
    },
    {
     "name": "stderr",
     "output_type": "stream",
     "text": [
      "I0000 00:00:1745547612.922001 3043472 gl_context.cc:369] GL version: 2.1 (2.1 ATI-6.1.13), renderer: AMD Radeon Pro 555X OpenGL Engine\n",
      "W0000 00:00:1745547613.146124 3116769 inference_feedback_manager.cc:114] Feedback manager requires a model with a single signature inference. Disabling support for feedback tensors.\n",
      "W0000 00:00:1745547613.195477 3116768 inference_feedback_manager.cc:114] Feedback manager requires a model with a single signature inference. Disabling support for feedback tensors.\n"
     ]
    },
    {
     "name": "stdout",
     "output_type": "stream",
     "text": [
      "모든 프레임 처리 완료, 총 프레임 수: 30\n",
      "CSV 파일 저장 완료: processed/nofall/csv/Coffee_room_01_video_24_nofall_clip1.csv\n",
      "✅ Done\n",
      "⏳ Processing: Coffee_room_02_video_53_nofall_clip1.mp4... "
     ]
    },
    {
     "name": "stderr",
     "output_type": "stream",
     "text": [
      "I0000 00:00:1745547614.099136 3043472 gl_context.cc:369] GL version: 2.1 (2.1 ATI-6.1.13), renderer: AMD Radeon Pro 555X OpenGL Engine\n",
      "W0000 00:00:1745547614.324686 3116838 inference_feedback_manager.cc:114] Feedback manager requires a model with a single signature inference. Disabling support for feedback tensors.\n",
      "W0000 00:00:1745547614.373184 3116838 inference_feedback_manager.cc:114] Feedback manager requires a model with a single signature inference. Disabling support for feedback tensors.\n"
     ]
    },
    {
     "name": "stdout",
     "output_type": "stream",
     "text": [
      "모든 프레임 처리 완료, 총 프레임 수: 30\n",
      "CSV 파일 저장 완료: processed/nofall/csv/Coffee_room_02_video_53_nofall_clip1.csv\n",
      "✅ Done\n",
      "⏳ Processing: Coffee_room_01_video_8_nofall_clip1.mp4... "
     ]
    },
    {
     "name": "stderr",
     "output_type": "stream",
     "text": [
      "I0000 00:00:1745547615.271309 3043472 gl_context.cc:369] GL version: 2.1 (2.1 ATI-6.1.13), renderer: AMD Radeon Pro 555X OpenGL Engine\n",
      "W0000 00:00:1745547615.556007 3116886 inference_feedback_manager.cc:114] Feedback manager requires a model with a single signature inference. Disabling support for feedback tensors.\n",
      "W0000 00:00:1745547615.603675 3116886 inference_feedback_manager.cc:114] Feedback manager requires a model with a single signature inference. Disabling support for feedback tensors.\n"
     ]
    },
    {
     "name": "stdout",
     "output_type": "stream",
     "text": [
      "모든 프레임 처리 완료, 총 프레임 수: 30\n",
      "CSV 파일 저장 완료: processed/nofall/csv/Coffee_room_01_video_8_nofall_clip1.csv\n",
      "✅ Done\n",
      "⏳ Processing: Home_01_video_23_nofall_clip1.mp4... "
     ]
    },
    {
     "name": "stderr",
     "output_type": "stream",
     "text": [
      "I0000 00:00:1745547616.504149 3043472 gl_context.cc:369] GL version: 2.1 (2.1 ATI-6.1.13), renderer: AMD Radeon Pro 555X OpenGL Engine\n",
      "W0000 00:00:1745547616.734931 3116926 inference_feedback_manager.cc:114] Feedback manager requires a model with a single signature inference. Disabling support for feedback tensors.\n",
      "W0000 00:00:1745547616.781727 3116926 inference_feedback_manager.cc:114] Feedback manager requires a model with a single signature inference. Disabling support for feedback tensors.\n"
     ]
    },
    {
     "name": "stdout",
     "output_type": "stream",
     "text": [
      "모든 프레임 처리 완료, 총 프레임 수: 30\n",
      "CSV 파일 저장 완료: processed/nofall/csv/Home_01_video_23_nofall_clip1.csv\n",
      "✅ Done\n",
      "⏳ Processing: Home_02_video_31_nofall_clip1.mp4... "
     ]
    },
    {
     "name": "stderr",
     "output_type": "stream",
     "text": [
      "I0000 00:00:1745547617.664309 3043472 gl_context.cc:369] GL version: 2.1 (2.1 ATI-6.1.13), renderer: AMD Radeon Pro 555X OpenGL Engine\n",
      "W0000 00:00:1745547617.895787 3116961 inference_feedback_manager.cc:114] Feedback manager requires a model with a single signature inference. Disabling support for feedback tensors.\n",
      "W0000 00:00:1745547617.943281 3116963 inference_feedback_manager.cc:114] Feedback manager requires a model with a single signature inference. Disabling support for feedback tensors.\n"
     ]
    },
    {
     "name": "stdout",
     "output_type": "stream",
     "text": [
      "모든 프레임 처리 완료, 총 프레임 수: 30\n",
      "CSV 파일 저장 완료: processed/nofall/csv/Home_02_video_31_nofall_clip1.csv\n",
      "✅ Done\n",
      "⏳ Processing: Coffee_room_01_video_30_nofall_clip1.mp4... "
     ]
    },
    {
     "name": "stderr",
     "output_type": "stream",
     "text": [
      "I0000 00:00:1745547619.008236 3043472 gl_context.cc:369] GL version: 2.1 (2.1 ATI-6.1.13), renderer: AMD Radeon Pro 555X OpenGL Engine\n",
      "W0000 00:00:1745547619.236656 3117041 inference_feedback_manager.cc:114] Feedback manager requires a model with a single signature inference. Disabling support for feedback tensors.\n",
      "W0000 00:00:1745547619.283564 3117041 inference_feedback_manager.cc:114] Feedback manager requires a model with a single signature inference. Disabling support for feedback tensors.\n"
     ]
    },
    {
     "name": "stdout",
     "output_type": "stream",
     "text": [
      "모든 프레임 처리 완료, 총 프레임 수: 30\n",
      "CSV 파일 저장 완료: processed/nofall/csv/Coffee_room_01_video_30_nofall_clip1.csv\n",
      "✅ Done\n",
      "⏳ Processing: Coffee_room_02_video_58_nofall_clip1.mp4... "
     ]
    },
    {
     "name": "stderr",
     "output_type": "stream",
     "text": [
      "I0000 00:00:1745547620.196330 3043472 gl_context.cc:369] GL version: 2.1 (2.1 ATI-6.1.13), renderer: AMD Radeon Pro 555X OpenGL Engine\n",
      "W0000 00:00:1745547620.466233 3117074 inference_feedback_manager.cc:114] Feedback manager requires a model with a single signature inference. Disabling support for feedback tensors.\n",
      "W0000 00:00:1745547620.513223 3117074 inference_feedback_manager.cc:114] Feedback manager requires a model with a single signature inference. Disabling support for feedback tensors.\n"
     ]
    },
    {
     "name": "stdout",
     "output_type": "stream",
     "text": [
      "모든 프레임 처리 완료, 총 프레임 수: 30\n",
      "CSV 파일 저장 완료: processed/nofall/csv/Coffee_room_02_video_58_nofall_clip1.csv\n",
      "✅ Done\n",
      "⏳ Processing: Coffee_room_01_video_11_nofall_clip1.mp4... "
     ]
    },
    {
     "name": "stderr",
     "output_type": "stream",
     "text": [
      "I0000 00:00:1745547621.411136 3043472 gl_context.cc:369] GL version: 2.1 (2.1 ATI-6.1.13), renderer: AMD Radeon Pro 555X OpenGL Engine\n",
      "W0000 00:00:1745547621.635724 3117115 inference_feedback_manager.cc:114] Feedback manager requires a model with a single signature inference. Disabling support for feedback tensors.\n",
      "W0000 00:00:1745547621.683993 3117118 inference_feedback_manager.cc:114] Feedback manager requires a model with a single signature inference. Disabling support for feedback tensors.\n"
     ]
    },
    {
     "name": "stdout",
     "output_type": "stream",
     "text": [
      "모든 프레임 처리 완료, 총 프레임 수: 30\n",
      "CSV 파일 저장 완료: processed/nofall/csv/Coffee_room_01_video_11_nofall_clip1.csv\n",
      "✅ Done\n",
      "⏳ Processing: Coffee_room_01_video_15_nofall_clip1.mp4... "
     ]
    },
    {
     "name": "stderr",
     "output_type": "stream",
     "text": [
      "I0000 00:00:1745547622.579875 3043472 gl_context.cc:369] GL version: 2.1 (2.1 ATI-6.1.13), renderer: AMD Radeon Pro 555X OpenGL Engine\n",
      "W0000 00:00:1745547622.812531 3117142 inference_feedback_manager.cc:114] Feedback manager requires a model with a single signature inference. Disabling support for feedback tensors.\n",
      "W0000 00:00:1745547622.860763 3117147 inference_feedback_manager.cc:114] Feedback manager requires a model with a single signature inference. Disabling support for feedback tensors.\n"
     ]
    },
    {
     "name": "stdout",
     "output_type": "stream",
     "text": [
      "모든 프레임 처리 완료, 총 프레임 수: 30\n",
      "CSV 파일 저장 완료: processed/nofall/csv/Coffee_room_01_video_15_nofall_clip1.csv\n",
      "✅ Done\n",
      "⏳ Processing: Coffee_room_02_video_62_nofall_clip1.mp4... "
     ]
    },
    {
     "name": "stderr",
     "output_type": "stream",
     "text": [
      "I0000 00:00:1745547623.771191 3043472 gl_context.cc:369] GL version: 2.1 (2.1 ATI-6.1.13), renderer: AMD Radeon Pro 555X OpenGL Engine\n",
      "W0000 00:00:1745547623.996014 3117392 inference_feedback_manager.cc:114] Feedback manager requires a model with a single signature inference. Disabling support for feedback tensors.\n",
      "W0000 00:00:1745547624.045355 3117395 inference_feedback_manager.cc:114] Feedback manager requires a model with a single signature inference. Disabling support for feedback tensors.\n"
     ]
    },
    {
     "name": "stdout",
     "output_type": "stream",
     "text": [
      "모든 프레임 처리 완료, 총 프레임 수: 30\n",
      "CSV 파일 저장 완료: processed/nofall/csv/Coffee_room_02_video_62_nofall_clip1.csv\n",
      "✅ Done\n",
      "⏳ Processing: Home_01_video_19_nofall_clip1.mp4... "
     ]
    },
    {
     "name": "stderr",
     "output_type": "stream",
     "text": [
      "I0000 00:00:1745547624.953831 3043472 gl_context.cc:369] GL version: 2.1 (2.1 ATI-6.1.13), renderer: AMD Radeon Pro 555X OpenGL Engine\n",
      "W0000 00:00:1745547625.176623 3117459 inference_feedback_manager.cc:114] Feedback manager requires a model with a single signature inference. Disabling support for feedback tensors.\n",
      "W0000 00:00:1745547625.225470 3117459 inference_feedback_manager.cc:114] Feedback manager requires a model with a single signature inference. Disabling support for feedback tensors.\n"
     ]
    },
    {
     "name": "stdout",
     "output_type": "stream",
     "text": [
      "모든 프레임 처리 완료, 총 프레임 수: 30\n",
      "CSV 파일 저장 완료: processed/nofall/csv/Home_01_video_19_nofall_clip1.csv\n",
      "✅ Done\n",
      "⏳ Processing: Home_01_video_27_nofall_clip1.mp4... "
     ]
    },
    {
     "name": "stderr",
     "output_type": "stream",
     "text": [
      "I0000 00:00:1745547626.107380 3043472 gl_context.cc:369] GL version: 2.1 (2.1 ATI-6.1.13), renderer: AMD Radeon Pro 555X OpenGL Engine\n",
      "W0000 00:00:1745547626.337516 3117495 inference_feedback_manager.cc:114] Feedback manager requires a model with a single signature inference. Disabling support for feedback tensors.\n",
      "W0000 00:00:1745547626.385637 3117495 inference_feedback_manager.cc:114] Feedback manager requires a model with a single signature inference. Disabling support for feedback tensors.\n"
     ]
    },
    {
     "name": "stdout",
     "output_type": "stream",
     "text": [
      "모든 프레임 처리 완료, 총 프레임 수: 30\n",
      "CSV 파일 저장 완료: processed/nofall/csv/Home_01_video_27_nofall_clip1.csv\n",
      "✅ Done\n",
      "⏳ Processing: Coffee_room_01_video_34_nofall_clip1.mp4... "
     ]
    },
    {
     "name": "stderr",
     "output_type": "stream",
     "text": [
      "I0000 00:00:1745547627.339784 3043472 gl_context.cc:369] GL version: 2.1 (2.1 ATI-6.1.13), renderer: AMD Radeon Pro 555X OpenGL Engine\n",
      "W0000 00:00:1745547627.630019 3117539 inference_feedback_manager.cc:114] Feedback manager requires a model with a single signature inference. Disabling support for feedback tensors.\n",
      "W0000 00:00:1745547627.676670 3117539 inference_feedback_manager.cc:114] Feedback manager requires a model with a single signature inference. Disabling support for feedback tensors.\n"
     ]
    },
    {
     "name": "stdout",
     "output_type": "stream",
     "text": [
      "모든 프레임 처리 완료, 총 프레임 수: 30\n",
      "CSV 파일 저장 완료: processed/nofall/csv/Coffee_room_01_video_34_nofall_clip1.csv\n",
      "✅ Done\n",
      "⏳ Processing: Home_02_video_35_nofall_clip1.mp4... "
     ]
    },
    {
     "name": "stderr",
     "output_type": "stream",
     "text": [
      "I0000 00:00:1745547628.571842 3043472 gl_context.cc:369] GL version: 2.1 (2.1 ATI-6.1.13), renderer: AMD Radeon Pro 555X OpenGL Engine\n",
      "W0000 00:00:1745547628.803837 3117623 inference_feedback_manager.cc:114] Feedback manager requires a model with a single signature inference. Disabling support for feedback tensors.\n",
      "W0000 00:00:1745547628.861857 3117630 inference_feedback_manager.cc:114] Feedback manager requires a model with a single signature inference. Disabling support for feedback tensors.\n"
     ]
    },
    {
     "name": "stdout",
     "output_type": "stream",
     "text": [
      "모든 프레임 처리 완료, 총 프레임 수: 30\n",
      "CSV 파일 저장 완료: processed/nofall/csv/Home_02_video_35_nofall_clip1.csv\n",
      "✅ Done\n",
      "⏳ Processing: Home_01_video_4_nofall_clip1.mp4... "
     ]
    },
    {
     "name": "stderr",
     "output_type": "stream",
     "text": [
      "I0000 00:00:1745547629.669158 3043472 gl_context.cc:369] GL version: 2.1 (2.1 ATI-6.1.13), renderer: AMD Radeon Pro 555X OpenGL Engine\n",
      "W0000 00:00:1745547629.896526 3117651 inference_feedback_manager.cc:114] Feedback manager requires a model with a single signature inference. Disabling support for feedback tensors.\n",
      "W0000 00:00:1745547629.944379 3117655 inference_feedback_manager.cc:114] Feedback manager requires a model with a single signature inference. Disabling support for feedback tensors.\n"
     ]
    },
    {
     "name": "stdout",
     "output_type": "stream",
     "text": [
      "모든 프레임 처리 완료, 총 프레임 수: 30\n",
      "CSV 파일 저장 완료: processed/nofall/csv/Home_01_video_4_nofall_clip1.csv\n",
      "✅ Done\n",
      "⏳ Processing: Coffee_room_01_video_45_nofall_clip1.mp4... "
     ]
    },
    {
     "name": "stderr",
     "output_type": "stream",
     "text": [
      "I0000 00:00:1745547630.831649 3043472 gl_context.cc:369] GL version: 2.1 (2.1 ATI-6.1.13), renderer: AMD Radeon Pro 555X OpenGL Engine\n",
      "W0000 00:00:1745547631.055507 3117685 inference_feedback_manager.cc:114] Feedback manager requires a model with a single signature inference. Disabling support for feedback tensors.\n",
      "W0000 00:00:1745547631.103835 3117696 inference_feedback_manager.cc:114] Feedback manager requires a model with a single signature inference. Disabling support for feedback tensors.\n"
     ]
    },
    {
     "name": "stdout",
     "output_type": "stream",
     "text": [
      "모든 프레임 처리 완료, 총 프레임 수: 30\n",
      "CSV 파일 저장 완료: processed/nofall/csv/Coffee_room_01_video_45_nofall_clip1.csv\n",
      "✅ Done\n",
      "⏳ Processing: Coffee_room_01_video_20_nofall_clip1.mp4... "
     ]
    },
    {
     "name": "stderr",
     "output_type": "stream",
     "text": [
      "I0000 00:00:1745547632.003382 3043472 gl_context.cc:369] GL version: 2.1 (2.1 ATI-6.1.13), renderer: AMD Radeon Pro 555X OpenGL Engine\n",
      "W0000 00:00:1745547632.228016 3117717 inference_feedback_manager.cc:114] Feedback manager requires a model with a single signature inference. Disabling support for feedback tensors.\n",
      "W0000 00:00:1745547632.275875 3117717 inference_feedback_manager.cc:114] Feedback manager requires a model with a single signature inference. Disabling support for feedback tensors.\n"
     ]
    },
    {
     "name": "stdout",
     "output_type": "stream",
     "text": [
      "모든 프레임 처리 완료, 총 프레임 수: 30\n",
      "CSV 파일 저장 완료: processed/nofall/csv/Coffee_room_01_video_20_nofall_clip1.csv\n",
      "✅ Done\n",
      "⏳ Processing: Coffee_room_02_video_57_nofall_clip1.mp4... "
     ]
    },
    {
     "name": "stderr",
     "output_type": "stream",
     "text": [
      "I0000 00:00:1745547633.164262 3043472 gl_context.cc:369] GL version: 2.1 (2.1 ATI-6.1.13), renderer: AMD Radeon Pro 555X OpenGL Engine\n",
      "W0000 00:00:1745547633.396636 3117765 inference_feedback_manager.cc:114] Feedback manager requires a model with a single signature inference. Disabling support for feedback tensors.\n",
      "W0000 00:00:1745547633.445737 3117770 inference_feedback_manager.cc:114] Feedback manager requires a model with a single signature inference. Disabling support for feedback tensors.\n"
     ]
    },
    {
     "name": "stdout",
     "output_type": "stream",
     "text": [
      "모든 프레임 처리 완료, 총 프레임 수: 30\n",
      "CSV 파일 저장 완료: processed/nofall/csv/Coffee_room_02_video_57_nofall_clip1.csv\n",
      "✅ Done\n",
      "⏳ Processing: Home_01_video_12_nofall_clip1.mp4... "
     ]
    },
    {
     "name": "stderr",
     "output_type": "stream",
     "text": [
      "I0000 00:00:1745547634.375476 3043472 gl_context.cc:369] GL version: 2.1 (2.1 ATI-6.1.13), renderer: AMD Radeon Pro 555X OpenGL Engine\n",
      "W0000 00:00:1745547634.657105 3118039 inference_feedback_manager.cc:114] Feedback manager requires a model with a single signature inference. Disabling support for feedback tensors.\n",
      "W0000 00:00:1745547634.705184 3118039 inference_feedback_manager.cc:114] Feedback manager requires a model with a single signature inference. Disabling support for feedback tensors.\n"
     ]
    },
    {
     "name": "stdout",
     "output_type": "stream",
     "text": [
      "모든 프레임 처리 완료, 총 프레임 수: 30\n",
      "CSV 파일 저장 완료: processed/nofall/csv/Home_01_video_12_nofall_clip1.csv\n",
      "✅ Done\n",
      "⏳ Processing: Coffee_room_01_video_7_nofall_clip1.mp4... "
     ]
    },
    {
     "name": "stderr",
     "output_type": "stream",
     "text": [
      "I0000 00:00:1745547635.605414 3043472 gl_context.cc:369] GL version: 2.1 (2.1 ATI-6.1.13), renderer: AMD Radeon Pro 555X OpenGL Engine\n",
      "W0000 00:00:1745547635.837825 3118118 inference_feedback_manager.cc:114] Feedback manager requires a model with a single signature inference. Disabling support for feedback tensors.\n",
      "W0000 00:00:1745547635.886255 3118117 inference_feedback_manager.cc:114] Feedback manager requires a model with a single signature inference. Disabling support for feedback tensors.\n"
     ]
    },
    {
     "name": "stdout",
     "output_type": "stream",
     "text": [
      "모든 프레임 처리 완료, 총 프레임 수: 30\n",
      "CSV 파일 저장 완료: processed/nofall/csv/Coffee_room_01_video_7_nofall_clip1.csv\n",
      "✅ Done\n"
     ]
    }
   ],
   "source": [
    "nofall_input_dir = 'processed/nofall/video'\n",
    "nofall_csv_output_dir = 'processed/nofall/csv'\n",
    "\n",
    "for video_file in os.listdir(nofall_input_dir):\n",
    "    if video_file.endswith('.mp4') or video_file.endswith('.avi'):\n",
    "        video_path = os.path.join(nofall_input_dir, video_file)\n",
    "        output_name = os.path.splitext(video_file)[0] + '.csv'\n",
    "\n",
    "        print(f\"⏳ Processing: {video_file}...\", end=' ', flush=True)\n",
    "        df = skeleton_csv(\n",
    "            video_path=video_path,\n",
    "            output_csv_path=nofall_csv_output_dir,\n",
    "            output_csv_name=output_name\n",
    "        )\n",
    "        if df is not None:\n",
    "            print(\"✅ Done\")\n",
    "        else:\n",
    "            print(\"❌ Failed\")\n"
   ]
  }
 ],
 "metadata": {
  "kernelspec": {
   "display_name": "myenv311",
   "language": "python",
   "name": "python3"
  },
  "language_info": {
   "codemirror_mode": {
    "name": "ipython",
    "version": 3
   },
   "file_extension": ".py",
   "mimetype": "text/x-python",
   "name": "python",
   "nbconvert_exporter": "python",
   "pygments_lexer": "ipython3",
   "version": "3.11.3"
  }
 },
 "nbformat": 4,
 "nbformat_minor": 2
}
