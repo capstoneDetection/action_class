{
 "cells": [
  {
   "cell_type": "code",
   "execution_count": 1,
   "metadata": {},
   "outputs": [],
   "source": [
    "from Skeleton_functions.video_to_csv import skeleton_csv\n",
    "import os\n",
    "from tqdm import tqdm"
   ]
  },
  {
   "cell_type": "markdown",
   "metadata": {},
   "source": [
    "# Fall"
   ]
  },
  {
   "cell_type": "code",
   "execution_count": 2,
   "metadata": {},
   "outputs": [
    {
     "name": "stderr",
     "output_type": "stream",
     "text": [
      "0it [00:00, ?it/s]WARNING: All log messages before absl::InitializeLog() is called are written to STDERR\n",
      "I0000 00:00:1742532409.913034       1 gl_context.cc:344] GL version: 2.1 (2.1 Metal - 88.1), renderer: Apple M1\n",
      "INFO: Created TensorFlow Lite XNNPACK delegate for CPU.\n"
     ]
    },
    {
     "name": "stdout",
     "output_type": "stream",
     "text": [
      "모든 프레임 처리 완료, 총 프레임 수: 30\n",
      "CSV 파일 저장 완료: Dataset_csv/Fall/Home_01/video (3).csv\n"
     ]
    },
    {
     "name": "stderr",
     "output_type": "stream",
     "text": [
      "I0000 00:00:1742532411.077159       1 gl_context.cc:344] GL version: 2.1 (2.1 Metal - 88.1), renderer: Apple M1\n"
     ]
    },
    {
     "name": "stdout",
     "output_type": "stream",
     "text": [
      "모든 프레임 처리 완료, 총 프레임 수: 30\n",
      "CSV 파일 저장 완료: Dataset_csv/Fall/Home_01/video (13).csv\n"
     ]
    },
    {
     "name": "stderr",
     "output_type": "stream",
     "text": [
      "I0000 00:00:1742532412.135946       1 gl_context.cc:344] GL version: 2.1 (2.1 Metal - 88.1), renderer: Apple M1\n"
     ]
    },
    {
     "name": "stdout",
     "output_type": "stream",
     "text": [
      "모든 프레임 처리 완료, 총 프레임 수: 30\n",
      "CSV 파일 저장 완료: Dataset_csv/Fall/Home_01/video (29).csv\n"
     ]
    },
    {
     "name": "stderr",
     "output_type": "stream",
     "text": [
      "I0000 00:00:1742532413.108956       1 gl_context.cc:344] GL version: 2.1 (2.1 Metal - 88.1), renderer: Apple M1\n"
     ]
    },
    {
     "name": "stdout",
     "output_type": "stream",
     "text": [
      "모든 프레임 처리 완료, 총 프레임 수: 30\n",
      "CSV 파일 저장 완료: Dataset_csv/Fall/Home_01/video (25).csv\n"
     ]
    },
    {
     "name": "stderr",
     "output_type": "stream",
     "text": [
      "I0000 00:00:1742532414.094597       1 gl_context.cc:344] GL version: 2.1 (2.1 Metal - 88.1), renderer: Apple M1\n"
     ]
    },
    {
     "name": "stdout",
     "output_type": "stream",
     "text": [
      "모든 프레임 처리 완료, 총 프레임 수: 30\n",
      "CSV 파일 저장 완료: Dataset_csv/Fall/Home_01/video (24).csv\n"
     ]
    },
    {
     "name": "stderr",
     "output_type": "stream",
     "text": [
      "I0000 00:00:1742532415.174802       1 gl_context.cc:344] GL version: 2.1 (2.1 Metal - 88.1), renderer: Apple M1\n"
     ]
    },
    {
     "name": "stdout",
     "output_type": "stream",
     "text": [
      "모든 프레임 처리 완료, 총 프레임 수: 30\n",
      "CSV 파일 저장 완료: Dataset_csv/Fall/Home_01/video (28).csv\n"
     ]
    },
    {
     "name": "stderr",
     "output_type": "stream",
     "text": [
      "I0000 00:00:1742532416.143521       1 gl_context.cc:344] GL version: 2.1 (2.1 Metal - 88.1), renderer: Apple M1\n"
     ]
    },
    {
     "name": "stdout",
     "output_type": "stream",
     "text": [
      "모든 프레임 처리 완료, 총 프레임 수: 30\n",
      "CSV 파일 저장 완료: Dataset_csv/Fall/Home_01/video (12).csv\n"
     ]
    },
    {
     "name": "stderr",
     "output_type": "stream",
     "text": [
      "I0000 00:00:1742532417.144556       1 gl_context.cc:344] GL version: 2.1 (2.1 Metal - 88.1), renderer: Apple M1\n"
     ]
    },
    {
     "name": "stdout",
     "output_type": "stream",
     "text": [
      "모든 프레임 처리 완료, 총 프레임 수: 30\n",
      "CSV 파일 저장 완료: Dataset_csv/Fall/Home_01/video (2).csv\n"
     ]
    },
    {
     "name": "stderr",
     "output_type": "stream",
     "text": [
      "I0000 00:00:1742532418.286802       1 gl_context.cc:344] GL version: 2.1 (2.1 Metal - 88.1), renderer: Apple M1\n"
     ]
    },
    {
     "name": "stdout",
     "output_type": "stream",
     "text": [
      "모든 프레임 처리 완료, 총 프레임 수: 30\n",
      "CSV 파일 저장 완료: Dataset_csv/Fall/Home_01/video (9).csv\n"
     ]
    },
    {
     "name": "stderr",
     "output_type": "stream",
     "text": [
      "I0000 00:00:1742532419.420014       1 gl_context.cc:344] GL version: 2.1 (2.1 Metal - 88.1), renderer: Apple M1\n"
     ]
    },
    {
     "name": "stdout",
     "output_type": "stream",
     "text": [
      "모든 프레임 처리 완료, 총 프레임 수: 30\n",
      "CSV 파일 저장 완료: Dataset_csv/Fall/Home_01/video (19).csv\n"
     ]
    },
    {
     "name": "stderr",
     "output_type": "stream",
     "text": [
      "I0000 00:00:1742532420.546013       1 gl_context.cc:344] GL version: 2.1 (2.1 Metal - 88.1), renderer: Apple M1\n"
     ]
    },
    {
     "name": "stdout",
     "output_type": "stream",
     "text": [
      "모든 프레임 처리 완료, 총 프레임 수: 30\n",
      "CSV 파일 저장 완료: Dataset_csv/Fall/Home_01/video (23).csv\n"
     ]
    },
    {
     "name": "stderr",
     "output_type": "stream",
     "text": [
      "I0000 00:00:1742532421.542373       1 gl_context.cc:344] GL version: 2.1 (2.1 Metal - 88.1), renderer: Apple M1\n"
     ]
    },
    {
     "name": "stdout",
     "output_type": "stream",
     "text": [
      "모든 프레임 처리 완료, 총 프레임 수: 30\n",
      "CSV 파일 저장 완료: Dataset_csv/Fall/Home_01/video (5).csv\n"
     ]
    },
    {
     "name": "stderr",
     "output_type": "stream",
     "text": [
      "I0000 00:00:1742532422.359746       1 gl_context.cc:344] GL version: 2.1 (2.1 Metal - 88.1), renderer: Apple M1\n"
     ]
    },
    {
     "name": "stdout",
     "output_type": "stream",
     "text": [
      "모든 프레임 처리 완료, 총 프레임 수: 30\n",
      "CSV 파일 저장 완료: Dataset_csv/Fall/Home_01/video (15).csv\n"
     ]
    },
    {
     "name": "stderr",
     "output_type": "stream",
     "text": [
      "I0000 00:00:1742532423.346303       1 gl_context.cc:344] GL version: 2.1 (2.1 Metal - 88.1), renderer: Apple M1\n"
     ]
    },
    {
     "name": "stdout",
     "output_type": "stream",
     "text": [
      "모든 프레임 처리 완료, 총 프레임 수: 30\n",
      "CSV 파일 저장 완료: Dataset_csv/Fall/Home_01/video (14).csv\n"
     ]
    },
    {
     "name": "stderr",
     "output_type": "stream",
     "text": [
      "I0000 00:00:1742532424.349025       1 gl_context.cc:344] GL version: 2.1 (2.1 Metal - 88.1), renderer: Apple M1\n"
     ]
    },
    {
     "name": "stdout",
     "output_type": "stream",
     "text": [
      "모든 프레임 처리 완료, 총 프레임 수: 30\n",
      "CSV 파일 저장 완료: Dataset_csv/Fall/Home_01/video (4).csv\n"
     ]
    },
    {
     "name": "stderr",
     "output_type": "stream",
     "text": [
      "I0000 00:00:1742532425.444621       1 gl_context.cc:344] GL version: 2.1 (2.1 Metal - 88.1), renderer: Apple M1\n"
     ]
    },
    {
     "name": "stdout",
     "output_type": "stream",
     "text": [
      "모든 프레임 처리 완료, 총 프레임 수: 30\n",
      "CSV 파일 저장 완료: Dataset_csv/Fall/Home_01/video (22).csv\n"
     ]
    },
    {
     "name": "stderr",
     "output_type": "stream",
     "text": [
      "I0000 00:00:1742532426.543420       1 gl_context.cc:344] GL version: 2.1 (2.1 Metal - 88.1), renderer: Apple M1\n"
     ]
    },
    {
     "name": "stdout",
     "output_type": "stream",
     "text": [
      "모든 프레임 처리 완료, 총 프레임 수: 30\n",
      "CSV 파일 저장 완료: Dataset_csv/Fall/Home_01/video (18).csv\n"
     ]
    },
    {
     "name": "stderr",
     "output_type": "stream",
     "text": [
      "I0000 00:00:1742532427.558847       1 gl_context.cc:344] GL version: 2.1 (2.1 Metal - 88.1), renderer: Apple M1\n"
     ]
    },
    {
     "name": "stdout",
     "output_type": "stream",
     "text": [
      "모든 프레임 처리 완료, 총 프레임 수: 30\n",
      "CSV 파일 저장 완료: Dataset_csv/Fall/Home_01/video (8).csv\n"
     ]
    },
    {
     "name": "stderr",
     "output_type": "stream",
     "text": [
      "I0000 00:00:1742532428.568266       1 gl_context.cc:344] GL version: 2.1 (2.1 Metal - 88.1), renderer: Apple M1\n"
     ]
    },
    {
     "name": "stdout",
     "output_type": "stream",
     "text": [
      "모든 프레임 처리 완료, 총 프레임 수: 30\n",
      "CSV 파일 저장 완료: Dataset_csv/Fall/Home_01/video (21).csv\n"
     ]
    },
    {
     "name": "stderr",
     "output_type": "stream",
     "text": [
      "I0000 00:00:1742532429.749599       1 gl_context.cc:344] GL version: 2.1 (2.1 Metal - 88.1), renderer: Apple M1\n"
     ]
    },
    {
     "name": "stdout",
     "output_type": "stream",
     "text": [
      "모든 프레임 처리 완료, 총 프레임 수: 30\n",
      "CSV 파일 저장 완료: Dataset_csv/Fall/Home_01/video (17).csv\n"
     ]
    },
    {
     "name": "stderr",
     "output_type": "stream",
     "text": [
      "I0000 00:00:1742532431.020274       1 gl_context.cc:344] GL version: 2.1 (2.1 Metal - 88.1), renderer: Apple M1\n"
     ]
    },
    {
     "name": "stdout",
     "output_type": "stream",
     "text": [
      "모든 프레임 처리 완료, 총 프레임 수: 30\n",
      "CSV 파일 저장 완료: Dataset_csv/Fall/Home_01/video (7).csv\n"
     ]
    },
    {
     "name": "stderr",
     "output_type": "stream",
     "text": [
      "I0000 00:00:1742532432.305405       1 gl_context.cc:344] GL version: 2.1 (2.1 Metal - 88.1), renderer: Apple M1\n"
     ]
    },
    {
     "name": "stdout",
     "output_type": "stream",
     "text": [
      "모든 프레임 처리 완료, 총 프레임 수: 30\n",
      "CSV 파일 저장 완료: Dataset_csv/Fall/Home_01/video (6).csv\n"
     ]
    },
    {
     "name": "stderr",
     "output_type": "stream",
     "text": [
      "I0000 00:00:1742532433.247630       1 gl_context.cc:344] GL version: 2.1 (2.1 Metal - 88.1), renderer: Apple M1\n"
     ]
    },
    {
     "name": "stdout",
     "output_type": "stream",
     "text": [
      "모든 프레임 처리 완료, 총 프레임 수: 30\n",
      "CSV 파일 저장 완료: Dataset_csv/Fall/Home_01/video (16).csv\n"
     ]
    },
    {
     "name": "stderr",
     "output_type": "stream",
     "text": [
      "I0000 00:00:1742532434.218906       1 gl_context.cc:344] GL version: 2.1 (2.1 Metal - 88.1), renderer: Apple M1\n"
     ]
    },
    {
     "name": "stdout",
     "output_type": "stream",
     "text": [
      "모든 프레임 처리 완료, 총 프레임 수: 30\n",
      "CSV 파일 저장 완료: Dataset_csv/Fall/Home_01/video (20).csv\n"
     ]
    },
    {
     "name": "stderr",
     "output_type": "stream",
     "text": [
      "I0000 00:00:1742532435.449041       1 gl_context.cc:344] GL version: 2.1 (2.1 Metal - 88.1), renderer: Apple M1\n"
     ]
    },
    {
     "name": "stdout",
     "output_type": "stream",
     "text": [
      "모든 프레임 처리 완료, 총 프레임 수: 30\n",
      "CSV 파일 저장 완료: Dataset_csv/Fall/Home_01/video (11).csv\n"
     ]
    },
    {
     "name": "stderr",
     "output_type": "stream",
     "text": [
      "I0000 00:00:1742532436.428641       1 gl_context.cc:344] GL version: 2.1 (2.1 Metal - 88.1), renderer: Apple M1\n"
     ]
    },
    {
     "name": "stdout",
     "output_type": "stream",
     "text": [
      "모든 프레임 처리 완료, 총 프레임 수: 30\n",
      "CSV 파일 저장 완료: Dataset_csv/Fall/Home_01/video (1).csv\n"
     ]
    },
    {
     "name": "stderr",
     "output_type": "stream",
     "text": [
      "I0000 00:00:1742532437.402291       1 gl_context.cc:344] GL version: 2.1 (2.1 Metal - 88.1), renderer: Apple M1\n"
     ]
    },
    {
     "name": "stdout",
     "output_type": "stream",
     "text": [
      "모든 프레임 처리 완료, 총 프레임 수: 30\n",
      "CSV 파일 저장 완료: Dataset_csv/Fall/Home_01/video (27).csv\n"
     ]
    },
    {
     "name": "stderr",
     "output_type": "stream",
     "text": [
      "I0000 00:00:1742532438.376213       1 gl_context.cc:344] GL version: 2.1 (2.1 Metal - 88.1), renderer: Apple M1\n"
     ]
    },
    {
     "name": "stdout",
     "output_type": "stream",
     "text": [
      "모든 프레임 처리 완료, 총 프레임 수: 30\n",
      "CSV 파일 저장 완료: Dataset_csv/Fall/Home_01/video (30).csv\n"
     ]
    },
    {
     "name": "stderr",
     "output_type": "stream",
     "text": [
      "I0000 00:00:1742532439.682628       1 gl_context.cc:344] GL version: 2.1 (2.1 Metal - 88.1), renderer: Apple M1\n"
     ]
    },
    {
     "name": "stdout",
     "output_type": "stream",
     "text": [
      "모든 프레임 처리 완료, 총 프레임 수: 30\n",
      "CSV 파일 저장 완료: Dataset_csv/Fall/Home_01/video (26).csv\n"
     ]
    },
    {
     "name": "stderr",
     "output_type": "stream",
     "text": [
      "I0000 00:00:1742532440.674366       1 gl_context.cc:344] GL version: 2.1 (2.1 Metal - 88.1), renderer: Apple M1\n",
      "2it [00:32, 16.01s/it]"
     ]
    },
    {
     "name": "stdout",
     "output_type": "stream",
     "text": [
      "모든 프레임 처리 완료, 총 프레임 수: 30\n",
      "CSV 파일 저장 완료: Dataset_csv/Fall/Home_01/video (10).csv\n"
     ]
    },
    {
     "name": "stderr",
     "output_type": "stream",
     "text": [
      "I0000 00:00:1742532441.793429       1 gl_context.cc:344] GL version: 2.1 (2.1 Metal - 88.1), renderer: Apple M1\n"
     ]
    },
    {
     "name": "stdout",
     "output_type": "stream",
     "text": [
      "모든 프레임 처리 완료, 총 프레임 수: 30\n",
      "CSV 파일 저장 완료: Dataset_csv/Fall/Coffee_room_01/video (3).csv\n"
     ]
    },
    {
     "name": "stderr",
     "output_type": "stream",
     "text": [
      "I0000 00:00:1742532443.061930       1 gl_context.cc:344] GL version: 2.1 (2.1 Metal - 88.1), renderer: Apple M1\n"
     ]
    },
    {
     "name": "stdout",
     "output_type": "stream",
     "text": [
      "모든 프레임 처리 완료, 총 프레임 수: 30\n",
      "CSV 파일 저장 완료: Dataset_csv/Fall/Coffee_room_01/video (13).csv\n"
     ]
    },
    {
     "name": "stderr",
     "output_type": "stream",
     "text": [
      "I0000 00:00:1742532444.085525       1 gl_context.cc:344] GL version: 2.1 (2.1 Metal - 88.1), renderer: Apple M1\n"
     ]
    },
    {
     "name": "stdout",
     "output_type": "stream",
     "text": [
      "모든 프레임 처리 완료, 총 프레임 수: 30\n",
      "CSV 파일 저장 완료: Dataset_csv/Fall/Coffee_room_01/video (44).csv\n"
     ]
    },
    {
     "name": "stderr",
     "output_type": "stream",
     "text": [
      "I0000 00:00:1742532445.147148       1 gl_context.cc:344] GL version: 2.1 (2.1 Metal - 88.1), renderer: Apple M1\n"
     ]
    },
    {
     "name": "stdout",
     "output_type": "stream",
     "text": [
      "모든 프레임 처리 완료, 총 프레임 수: 30\n",
      "CSV 파일 저장 완료: Dataset_csv/Fall/Coffee_room_01/video (29).csv\n"
     ]
    },
    {
     "name": "stderr",
     "output_type": "stream",
     "text": [
      "I0000 00:00:1742532446.130137       1 gl_context.cc:344] GL version: 2.1 (2.1 Metal - 88.1), renderer: Apple M1\n"
     ]
    },
    {
     "name": "stdout",
     "output_type": "stream",
     "text": [
      "모든 프레임 처리 완료, 총 프레임 수: 30\n",
      "CSV 파일 저장 완료: Dataset_csv/Fall/Coffee_room_01/video (48).csv\n"
     ]
    },
    {
     "name": "stderr",
     "output_type": "stream",
     "text": [
      "I0000 00:00:1742532447.232188       1 gl_context.cc:344] GL version: 2.1 (2.1 Metal - 88.1), renderer: Apple M1\n"
     ]
    },
    {
     "name": "stdout",
     "output_type": "stream",
     "text": [
      "모든 프레임 처리 완료, 총 프레임 수: 30\n",
      "CSV 파일 저장 완료: Dataset_csv/Fall/Coffee_room_01/video (33).csv\n"
     ]
    },
    {
     "name": "stderr",
     "output_type": "stream",
     "text": [
      "I0000 00:00:1742532448.234139       1 gl_context.cc:344] GL version: 2.1 (2.1 Metal - 88.1), renderer: Apple M1\n"
     ]
    },
    {
     "name": "stdout",
     "output_type": "stream",
     "text": [
      "모든 프레임 처리 완료, 총 프레임 수: 30\n",
      "CSV 파일 저장 완료: Dataset_csv/Fall/Coffee_room_01/video (25).csv\n"
     ]
    },
    {
     "name": "stderr",
     "output_type": "stream",
     "text": [
      "I0000 00:00:1742532449.244609       1 gl_context.cc:344] GL version: 2.1 (2.1 Metal - 88.1), renderer: Apple M1\n"
     ]
    },
    {
     "name": "stdout",
     "output_type": "stream",
     "text": [
      "모든 프레임 처리 완료, 총 프레임 수: 30\n",
      "CSV 파일 저장 완료: Dataset_csv/Fall/Coffee_room_01/video (24).csv\n"
     ]
    },
    {
     "name": "stderr",
     "output_type": "stream",
     "text": [
      "I0000 00:00:1742532450.325508       1 gl_context.cc:344] GL version: 2.1 (2.1 Metal - 88.1), renderer: Apple M1\n"
     ]
    },
    {
     "name": "stdout",
     "output_type": "stream",
     "text": [
      "모든 프레임 처리 완료, 총 프레임 수: 30\n",
      "CSV 파일 저장 완료: Dataset_csv/Fall/Coffee_room_01/video (32).csv\n"
     ]
    },
    {
     "name": "stderr",
     "output_type": "stream",
     "text": [
      "I0000 00:00:1742532451.431858       1 gl_context.cc:344] GL version: 2.1 (2.1 Metal - 88.1), renderer: Apple M1\n"
     ]
    },
    {
     "name": "stdout",
     "output_type": "stream",
     "text": [
      "모든 프레임 처리 완료, 총 프레임 수: 30\n",
      "CSV 파일 저장 완료: Dataset_csv/Fall/Coffee_room_01/video (28).csv\n"
     ]
    },
    {
     "name": "stderr",
     "output_type": "stream",
     "text": [
      "I0000 00:00:1742532452.986051       1 gl_context.cc:344] GL version: 2.1 (2.1 Metal - 88.1), renderer: Apple M1\n"
     ]
    },
    {
     "name": "stdout",
     "output_type": "stream",
     "text": [
      "모든 프레임 처리 완료, 총 프레임 수: 30\n",
      "CSV 파일 저장 완료: Dataset_csv/Fall/Coffee_room_01/video (45).csv\n"
     ]
    },
    {
     "name": "stderr",
     "output_type": "stream",
     "text": [
      "I0000 00:00:1742532453.984910       1 gl_context.cc:344] GL version: 2.1 (2.1 Metal - 88.1), renderer: Apple M1\n"
     ]
    },
    {
     "name": "stdout",
     "output_type": "stream",
     "text": [
      "모든 프레임 처리 완료, 총 프레임 수: 30\n",
      "CSV 파일 저장 완료: Dataset_csv/Fall/Coffee_room_01/video (12).csv\n"
     ]
    },
    {
     "name": "stderr",
     "output_type": "stream",
     "text": [
      "I0000 00:00:1742532456.120105       1 gl_context.cc:344] GL version: 2.1 (2.1 Metal - 88.1), renderer: Apple M1\n"
     ]
    },
    {
     "name": "stdout",
     "output_type": "stream",
     "text": [
      "모든 프레임 처리 완료, 총 프레임 수: 30\n",
      "CSV 파일 저장 완료: Dataset_csv/Fall/Coffee_room_01/video (2).csv\n"
     ]
    },
    {
     "name": "stderr",
     "output_type": "stream",
     "text": [
      "I0000 00:00:1742532457.776527       1 gl_context.cc:344] GL version: 2.1 (2.1 Metal - 88.1), renderer: Apple M1\n"
     ]
    },
    {
     "name": "stdout",
     "output_type": "stream",
     "text": [
      "모든 프레임 처리 완료, 총 프레임 수: 30\n",
      "CSV 파일 저장 완료: Dataset_csv/Fall/Coffee_room_01/video (9).csv\n"
     ]
    },
    {
     "name": "stderr",
     "output_type": "stream",
     "text": [
      "I0000 00:00:1742532458.805222       1 gl_context.cc:344] GL version: 2.1 (2.1 Metal - 88.1), renderer: Apple M1\n"
     ]
    },
    {
     "name": "stdout",
     "output_type": "stream",
     "text": [
      "모든 프레임 처리 완료, 총 프레임 수: 30\n",
      "CSV 파일 저장 완료: Dataset_csv/Fall/Coffee_room_01/video (19).csv\n"
     ]
    },
    {
     "name": "stderr",
     "output_type": "stream",
     "text": [
      "I0000 00:00:1742532460.408938       1 gl_context.cc:344] GL version: 2.1 (2.1 Metal - 88.1), renderer: Apple M1\n"
     ]
    },
    {
     "name": "stdout",
     "output_type": "stream",
     "text": [
      "모든 프레임 처리 완료, 총 프레임 수: 30\n",
      "CSV 파일 저장 완료: Dataset_csv/Fall/Coffee_room_01/video (35).csv\n"
     ]
    },
    {
     "name": "stderr",
     "output_type": "stream",
     "text": [
      "I0000 00:00:1742532461.412388       1 gl_context.cc:344] GL version: 2.1 (2.1 Metal - 88.1), renderer: Apple M1\n"
     ]
    },
    {
     "name": "stdout",
     "output_type": "stream",
     "text": [
      "모든 프레임 처리 완료, 총 프레임 수: 30\n",
      "CSV 파일 저장 완료: Dataset_csv/Fall/Coffee_room_01/video (23).csv\n"
     ]
    },
    {
     "name": "stderr",
     "output_type": "stream",
     "text": [
      "I0000 00:00:1742532462.485006       1 gl_context.cc:344] GL version: 2.1 (2.1 Metal - 88.1), renderer: Apple M1\n"
     ]
    },
    {
     "name": "stdout",
     "output_type": "stream",
     "text": [
      "모든 프레임 처리 완료, 총 프레임 수: 30\n",
      "CSV 파일 저장 완료: Dataset_csv/Fall/Coffee_room_01/video (5).csv\n"
     ]
    },
    {
     "name": "stderr",
     "output_type": "stream",
     "text": [
      "I0000 00:00:1742532463.479336       1 gl_context.cc:344] GL version: 2.1 (2.1 Metal - 88.1), renderer: Apple M1\n"
     ]
    },
    {
     "name": "stdout",
     "output_type": "stream",
     "text": [
      "모든 프레임 처리 완료, 총 프레임 수: 30\n",
      "CSV 파일 저장 완료: Dataset_csv/Fall/Coffee_room_01/video (15).csv\n"
     ]
    },
    {
     "name": "stderr",
     "output_type": "stream",
     "text": [
      "I0000 00:00:1742532464.559954       1 gl_context.cc:344] GL version: 2.1 (2.1 Metal - 88.1), renderer: Apple M1\n"
     ]
    },
    {
     "name": "stdout",
     "output_type": "stream",
     "text": [
      "모든 프레임 처리 완료, 총 프레임 수: 30\n",
      "CSV 파일 저장 완료: Dataset_csv/Fall/Coffee_room_01/video (42).csv\n"
     ]
    },
    {
     "name": "stderr",
     "output_type": "stream",
     "text": [
      "I0000 00:00:1742532465.559330       1 gl_context.cc:344] GL version: 2.1 (2.1 Metal - 88.1), renderer: Apple M1\n"
     ]
    },
    {
     "name": "stdout",
     "output_type": "stream",
     "text": [
      "모든 프레임 처리 완료, 총 프레임 수: 30\n",
      "CSV 파일 저장 완료: Dataset_csv/Fall/Coffee_room_01/video (39).csv\n"
     ]
    },
    {
     "name": "stderr",
     "output_type": "stream",
     "text": [
      "I0000 00:00:1742532466.597325       1 gl_context.cc:344] GL version: 2.1 (2.1 Metal - 88.1), renderer: Apple M1\n"
     ]
    },
    {
     "name": "stdout",
     "output_type": "stream",
     "text": [
      "모든 프레임 처리 완료, 총 프레임 수: 30\n",
      "CSV 파일 저장 완료: Dataset_csv/Fall/Coffee_room_01/video (38).csv\n"
     ]
    },
    {
     "name": "stderr",
     "output_type": "stream",
     "text": [
      "I0000 00:00:1742532467.624782       1 gl_context.cc:344] GL version: 2.1 (2.1 Metal - 88.1), renderer: Apple M1\n"
     ]
    },
    {
     "name": "stdout",
     "output_type": "stream",
     "text": [
      "모든 프레임 처리 완료, 총 프레임 수: 30\n",
      "CSV 파일 저장 완료: Dataset_csv/Fall/Coffee_room_01/video (43).csv\n"
     ]
    },
    {
     "name": "stderr",
     "output_type": "stream",
     "text": [
      "I0000 00:00:1742532468.590729       1 gl_context.cc:344] GL version: 2.1 (2.1 Metal - 88.1), renderer: Apple M1\n"
     ]
    },
    {
     "name": "stdout",
     "output_type": "stream",
     "text": [
      "모든 프레임 처리 완료, 총 프레임 수: 30\n",
      "CSV 파일 저장 완료: Dataset_csv/Fall/Coffee_room_01/video (14).csv\n"
     ]
    },
    {
     "name": "stderr",
     "output_type": "stream",
     "text": [
      "I0000 00:00:1742532469.562796       1 gl_context.cc:344] GL version: 2.1 (2.1 Metal - 88.1), renderer: Apple M1\n"
     ]
    },
    {
     "name": "stdout",
     "output_type": "stream",
     "text": [
      "모든 프레임 처리 완료, 총 프레임 수: 30\n",
      "CSV 파일 저장 완료: Dataset_csv/Fall/Coffee_room_01/video (4).csv\n"
     ]
    },
    {
     "name": "stderr",
     "output_type": "stream",
     "text": [
      "I0000 00:00:1742532470.533366       1 gl_context.cc:344] GL version: 2.1 (2.1 Metal - 88.1), renderer: Apple M1\n"
     ]
    },
    {
     "name": "stdout",
     "output_type": "stream",
     "text": [
      "모든 프레임 처리 완료, 총 프레임 수: 30\n",
      "CSV 파일 저장 완료: Dataset_csv/Fall/Coffee_room_01/video (22).csv\n"
     ]
    },
    {
     "name": "stderr",
     "output_type": "stream",
     "text": [
      "I0000 00:00:1742532471.565854       1 gl_context.cc:344] GL version: 2.1 (2.1 Metal - 88.1), renderer: Apple M1\n"
     ]
    },
    {
     "name": "stdout",
     "output_type": "stream",
     "text": [
      "모든 프레임 처리 완료, 총 프레임 수: 30\n",
      "CSV 파일 저장 완료: Dataset_csv/Fall/Coffee_room_01/video (34).csv\n"
     ]
    },
    {
     "name": "stderr",
     "output_type": "stream",
     "text": [
      "I0000 00:00:1742532472.765717       1 gl_context.cc:344] GL version: 2.1 (2.1 Metal - 88.1), renderer: Apple M1\n"
     ]
    },
    {
     "name": "stdout",
     "output_type": "stream",
     "text": [
      "모든 프레임 처리 완료, 총 프레임 수: 30\n",
      "CSV 파일 저장 완료: Dataset_csv/Fall/Coffee_room_01/video (18).csv\n"
     ]
    },
    {
     "name": "stderr",
     "output_type": "stream",
     "text": [
      "I0000 00:00:1742532474.312528       1 gl_context.cc:344] GL version: 2.1 (2.1 Metal - 88.1), renderer: Apple M1\n"
     ]
    },
    {
     "name": "stdout",
     "output_type": "stream",
     "text": [
      "모든 프레임 처리 완료, 총 프레임 수: 30\n",
      "CSV 파일 저장 완료: Dataset_csv/Fall/Coffee_room_01/video (8).csv\n"
     ]
    },
    {
     "name": "stderr",
     "output_type": "stream",
     "text": [
      "I0000 00:00:1742532475.308422       1 gl_context.cc:344] GL version: 2.1 (2.1 Metal - 88.1), renderer: Apple M1\n"
     ]
    },
    {
     "name": "stdout",
     "output_type": "stream",
     "text": [
      "모든 프레임 처리 완료, 총 프레임 수: 30\n",
      "CSV 파일 저장 완료: Dataset_csv/Fall/Coffee_room_01/video (21).csv\n"
     ]
    },
    {
     "name": "stderr",
     "output_type": "stream",
     "text": [
      "I0000 00:00:1742532476.281637       1 gl_context.cc:344] GL version: 2.1 (2.1 Metal - 88.1), renderer: Apple M1\n"
     ]
    },
    {
     "name": "stdout",
     "output_type": "stream",
     "text": [
      "모든 프레임 처리 완료, 총 프레임 수: 30\n",
      "CSV 파일 저장 완료: Dataset_csv/Fall/Coffee_room_01/video (37).csv\n"
     ]
    },
    {
     "name": "stderr",
     "output_type": "stream",
     "text": [
      "I0000 00:00:1742532477.374583       1 gl_context.cc:344] GL version: 2.1 (2.1 Metal - 88.1), renderer: Apple M1\n"
     ]
    },
    {
     "name": "stdout",
     "output_type": "stream",
     "text": [
      "모든 프레임 처리 완료, 총 프레임 수: 30\n",
      "CSV 파일 저장 완료: Dataset_csv/Fall/Coffee_room_01/video (40).csv\n"
     ]
    },
    {
     "name": "stderr",
     "output_type": "stream",
     "text": [
      "I0000 00:00:1742532478.382535       1 gl_context.cc:344] GL version: 2.1 (2.1 Metal - 88.1), renderer: Apple M1\n"
     ]
    },
    {
     "name": "stdout",
     "output_type": "stream",
     "text": [
      "모든 프레임 처리 완료, 총 프레임 수: 30\n",
      "CSV 파일 저장 완료: Dataset_csv/Fall/Coffee_room_01/video (17).csv\n"
     ]
    },
    {
     "name": "stderr",
     "output_type": "stream",
     "text": [
      "I0000 00:00:1742532479.376678       1 gl_context.cc:344] GL version: 2.1 (2.1 Metal - 88.1), renderer: Apple M1\n"
     ]
    },
    {
     "name": "stdout",
     "output_type": "stream",
     "text": [
      "모든 프레임 처리 완료, 총 프레임 수: 30\n",
      "CSV 파일 저장 완료: Dataset_csv/Fall/Coffee_room_01/video (7).csv\n"
     ]
    },
    {
     "name": "stderr",
     "output_type": "stream",
     "text": [
      "I0000 00:00:1742532480.376999       1 gl_context.cc:344] GL version: 2.1 (2.1 Metal - 88.1), renderer: Apple M1\n"
     ]
    },
    {
     "name": "stdout",
     "output_type": "stream",
     "text": [
      "모든 프레임 처리 완료, 총 프레임 수: 30\n",
      "CSV 파일 저장 완료: Dataset_csv/Fall/Coffee_room_01/video (6).csv\n"
     ]
    },
    {
     "name": "stderr",
     "output_type": "stream",
     "text": [
      "I0000 00:00:1742532481.501820       1 gl_context.cc:344] GL version: 2.1 (2.1 Metal - 88.1), renderer: Apple M1\n"
     ]
    },
    {
     "name": "stdout",
     "output_type": "stream",
     "text": [
      "모든 프레임 처리 완료, 총 프레임 수: 30\n",
      "CSV 파일 저장 완료: Dataset_csv/Fall/Coffee_room_01/video (16).csv\n"
     ]
    },
    {
     "name": "stderr",
     "output_type": "stream",
     "text": [
      "I0000 00:00:1742532482.872765       1 gl_context.cc:344] GL version: 2.1 (2.1 Metal - 88.1), renderer: Apple M1\n"
     ]
    },
    {
     "name": "stdout",
     "output_type": "stream",
     "text": [
      "모든 프레임 처리 완료, 총 프레임 수: 30\n",
      "CSV 파일 저장 완료: Dataset_csv/Fall/Coffee_room_01/video (41).csv\n"
     ]
    },
    {
     "name": "stderr",
     "output_type": "stream",
     "text": [
      "I0000 00:00:1742532483.839498       1 gl_context.cc:344] GL version: 2.1 (2.1 Metal - 88.1), renderer: Apple M1\n"
     ]
    },
    {
     "name": "stdout",
     "output_type": "stream",
     "text": [
      "모든 프레임 처리 완료, 총 프레임 수: 30\n",
      "CSV 파일 저장 완료: Dataset_csv/Fall/Coffee_room_01/video (36).csv\n"
     ]
    },
    {
     "name": "stderr",
     "output_type": "stream",
     "text": [
      "I0000 00:00:1742532485.456160       1 gl_context.cc:344] GL version: 2.1 (2.1 Metal - 88.1), renderer: Apple M1\n"
     ]
    },
    {
     "name": "stdout",
     "output_type": "stream",
     "text": [
      "모든 프레임 처리 완료, 총 프레임 수: 30\n",
      "CSV 파일 저장 완료: Dataset_csv/Fall/Coffee_room_01/video (20).csv\n"
     ]
    },
    {
     "name": "stderr",
     "output_type": "stream",
     "text": [
      "I0000 00:00:1742532486.481206       1 gl_context.cc:344] GL version: 2.1 (2.1 Metal - 88.1), renderer: Apple M1\n"
     ]
    },
    {
     "name": "stdout",
     "output_type": "stream",
     "text": [
      "모든 프레임 처리 완료, 총 프레임 수: 30\n",
      "CSV 파일 저장 완료: Dataset_csv/Fall/Coffee_room_01/video (46).csv\n"
     ]
    },
    {
     "name": "stderr",
     "output_type": "stream",
     "text": [
      "I0000 00:00:1742532488.874860       1 gl_context.cc:344] GL version: 2.1 (2.1 Metal - 88.1), renderer: Apple M1\n"
     ]
    },
    {
     "name": "stdout",
     "output_type": "stream",
     "text": [
      "모든 프레임 처리 완료, 총 프레임 수: 30\n",
      "CSV 파일 저장 완료: Dataset_csv/Fall/Coffee_room_01/video (11).csv\n"
     ]
    },
    {
     "name": "stderr",
     "output_type": "stream",
     "text": [
      "I0000 00:00:1742532491.660260       1 gl_context.cc:344] GL version: 2.1 (2.1 Metal - 88.1), renderer: Apple M1\n"
     ]
    },
    {
     "name": "stdout",
     "output_type": "stream",
     "text": [
      "모든 프레임 처리 완료, 총 프레임 수: 30\n",
      "CSV 파일 저장 완료: Dataset_csv/Fall/Coffee_room_01/video (1).csv\n"
     ]
    },
    {
     "name": "stderr",
     "output_type": "stream",
     "text": [
      "I0000 00:00:1742532495.526542       1 gl_context.cc:344] GL version: 2.1 (2.1 Metal - 88.1), renderer: Apple M1\n"
     ]
    },
    {
     "name": "stdout",
     "output_type": "stream",
     "text": [
      "모든 프레임 처리 완료, 총 프레임 수: 30\n",
      "CSV 파일 저장 완료: Dataset_csv/Fall/Coffee_room_01/video (27).csv\n"
     ]
    },
    {
     "name": "stderr",
     "output_type": "stream",
     "text": [
      "I0000 00:00:1742532498.128762       1 gl_context.cc:344] GL version: 2.1 (2.1 Metal - 88.1), renderer: Apple M1\n"
     ]
    },
    {
     "name": "stdout",
     "output_type": "stream",
     "text": [
      "모든 프레임 처리 완료, 총 프레임 수: 30\n",
      "CSV 파일 저장 완료: Dataset_csv/Fall/Coffee_room_01/video (31).csv\n"
     ]
    },
    {
     "name": "stderr",
     "output_type": "stream",
     "text": [
      "I0000 00:00:1742532499.360928       1 gl_context.cc:344] GL version: 2.1 (2.1 Metal - 88.1), renderer: Apple M1\n"
     ]
    },
    {
     "name": "stdout",
     "output_type": "stream",
     "text": [
      "모든 프레임 처리 완료, 총 프레임 수: 30\n",
      "CSV 파일 저장 완료: Dataset_csv/Fall/Coffee_room_01/video (30).csv\n"
     ]
    },
    {
     "name": "stderr",
     "output_type": "stream",
     "text": [
      "I0000 00:00:1742532500.345122       1 gl_context.cc:344] GL version: 2.1 (2.1 Metal - 88.1), renderer: Apple M1\n"
     ]
    },
    {
     "name": "stdout",
     "output_type": "stream",
     "text": [
      "모든 프레임 처리 완료, 총 프레임 수: 30\n",
      "CSV 파일 저장 완료: Dataset_csv/Fall/Coffee_room_01/video (10).csv\n"
     ]
    },
    {
     "name": "stderr",
     "output_type": "stream",
     "text": [
      "I0000 00:00:1742532501.331279       1 gl_context.cc:344] GL version: 2.1 (2.1 Metal - 88.1), renderer: Apple M1\n",
      "3it [01:32, 34.71s/it]"
     ]
    },
    {
     "name": "stdout",
     "output_type": "stream",
     "text": [
      "모든 프레임 처리 완료, 총 프레임 수: 30\n",
      "CSV 파일 저장 완료: Dataset_csv/Fall/Coffee_room_01/video (47).csv\n"
     ]
    },
    {
     "name": "stderr",
     "output_type": "stream",
     "text": [
      "I0000 00:00:1742532502.674612       1 gl_context.cc:344] GL version: 2.1 (2.1 Metal - 88.1), renderer: Apple M1\n"
     ]
    },
    {
     "name": "stdout",
     "output_type": "stream",
     "text": [
      "모든 프레임 처리 완료, 총 프레임 수: 30\n",
      "CSV 파일 저장 완료: Dataset_csv/Fall/Home_02/video (52).csv\n"
     ]
    },
    {
     "name": "stderr",
     "output_type": "stream",
     "text": [
      "I0000 00:00:1742532503.709236       1 gl_context.cc:344] GL version: 2.1 (2.1 Metal - 88.1), renderer: Apple M1\n"
     ]
    },
    {
     "name": "stdout",
     "output_type": "stream",
     "text": [
      "모든 프레임 처리 완료, 총 프레임 수: 30\n",
      "CSV 파일 저장 완료: Dataset_csv/Fall/Home_02/video (44).csv\n"
     ]
    },
    {
     "name": "stderr",
     "output_type": "stream",
     "text": [
      "I0000 00:00:1742532504.692882       1 gl_context.cc:344] GL version: 2.1 (2.1 Metal - 88.1), renderer: Apple M1\n"
     ]
    },
    {
     "name": "stdout",
     "output_type": "stream",
     "text": [
      "모든 프레임 처리 완료, 총 프레임 수: 30\n",
      "CSV 파일 저장 완료: Dataset_csv/Fall/Home_02/video (48).csv\n"
     ]
    },
    {
     "name": "stderr",
     "output_type": "stream",
     "text": [
      "I0000 00:00:1742532505.639518       1 gl_context.cc:344] GL version: 2.1 (2.1 Metal - 88.1), renderer: Apple M1\n"
     ]
    },
    {
     "name": "stdout",
     "output_type": "stream",
     "text": [
      "모든 프레임 처리 완료, 총 프레임 수: 30\n",
      "CSV 파일 저장 완료: Dataset_csv/Fall/Home_02/video (33).csv\n"
     ]
    },
    {
     "name": "stderr",
     "output_type": "stream",
     "text": [
      "I0000 00:00:1742532506.491887       1 gl_context.cc:344] GL version: 2.1 (2.1 Metal - 88.1), renderer: Apple M1\n"
     ]
    },
    {
     "name": "stdout",
     "output_type": "stream",
     "text": [
      "모든 프레임 처리 완료, 총 프레임 수: 30\n",
      "CSV 파일 저장 완료: Dataset_csv/Fall/Home_02/video (32).csv\n"
     ]
    },
    {
     "name": "stderr",
     "output_type": "stream",
     "text": [
      "I0000 00:00:1742532507.692330       1 gl_context.cc:344] GL version: 2.1 (2.1 Metal - 88.1), renderer: Apple M1\n"
     ]
    },
    {
     "name": "stdout",
     "output_type": "stream",
     "text": [
      "모든 프레임 처리 완료, 총 프레임 수: 30\n",
      "CSV 파일 저장 완료: Dataset_csv/Fall/Home_02/video (49).csv\n"
     ]
    },
    {
     "name": "stderr",
     "output_type": "stream",
     "text": [
      "I0000 00:00:1742532508.408627       1 gl_context.cc:344] GL version: 2.1 (2.1 Metal - 88.1), renderer: Apple M1\n"
     ]
    },
    {
     "name": "stdout",
     "output_type": "stream",
     "text": [
      "모든 프레임 처리 완료, 총 프레임 수: 30\n",
      "CSV 파일 저장 완료: Dataset_csv/Fall/Home_02/video (45).csv\n"
     ]
    },
    {
     "name": "stderr",
     "output_type": "stream",
     "text": [
      "I0000 00:00:1742532509.609484       1 gl_context.cc:344] GL version: 2.1 (2.1 Metal - 88.1), renderer: Apple M1\n"
     ]
    },
    {
     "name": "stdout",
     "output_type": "stream",
     "text": [
      "모든 프레임 처리 완료, 총 프레임 수: 30\n",
      "CSV 파일 저장 완료: Dataset_csv/Fall/Home_02/video (53).csv\n"
     ]
    },
    {
     "name": "stderr",
     "output_type": "stream",
     "text": [
      "I0000 00:00:1742532510.646242       1 gl_context.cc:344] GL version: 2.1 (2.1 Metal - 88.1), renderer: Apple M1\n"
     ]
    },
    {
     "name": "stdout",
     "output_type": "stream",
     "text": [
      "모든 프레임 처리 완료, 총 프레임 수: 30\n",
      "CSV 파일 저장 완료: Dataset_csv/Fall/Home_02/video (58).csv\n"
     ]
    },
    {
     "name": "stderr",
     "output_type": "stream",
     "text": [
      "I0000 00:00:1742532511.840280       1 gl_context.cc:344] GL version: 2.1 (2.1 Metal - 88.1), renderer: Apple M1\n"
     ]
    },
    {
     "name": "stdout",
     "output_type": "stream",
     "text": [
      "모든 프레임 처리 완료, 총 프레임 수: 30\n",
      "CSV 파일 저장 완료: Dataset_csv/Fall/Home_02/video (35).csv\n"
     ]
    },
    {
     "name": "stderr",
     "output_type": "stream",
     "text": [
      "I0000 00:00:1742532513.212130       1 gl_context.cc:344] GL version: 2.1 (2.1 Metal - 88.1), renderer: Apple M1\n"
     ]
    },
    {
     "name": "stdout",
     "output_type": "stream",
     "text": [
      "모든 프레임 처리 완료, 총 프레임 수: 30\n",
      "CSV 파일 저장 완료: Dataset_csv/Fall/Home_02/video (54).csv\n"
     ]
    },
    {
     "name": "stderr",
     "output_type": "stream",
     "text": [
      "I0000 00:00:1742532514.194847       1 gl_context.cc:344] GL version: 2.1 (2.1 Metal - 88.1), renderer: Apple M1\n"
     ]
    },
    {
     "name": "stdout",
     "output_type": "stream",
     "text": [
      "모든 프레임 처리 완료, 총 프레임 수: 30\n",
      "CSV 파일 저장 완료: Dataset_csv/Fall/Home_02/video (42).csv\n"
     ]
    },
    {
     "name": "stderr",
     "output_type": "stream",
     "text": [
      "I0000 00:00:1742532514.830350       1 gl_context.cc:344] GL version: 2.1 (2.1 Metal - 88.1), renderer: Apple M1\n"
     ]
    },
    {
     "name": "stdout",
     "output_type": "stream",
     "text": [
      "모든 프레임 처리 완료, 총 프레임 수: 30\n",
      "CSV 파일 저장 완료: Dataset_csv/Fall/Home_02/video (39).csv\n"
     ]
    },
    {
     "name": "stderr",
     "output_type": "stream",
     "text": [
      "I0000 00:00:1742532515.810854       1 gl_context.cc:344] GL version: 2.1 (2.1 Metal - 88.1), renderer: Apple M1\n"
     ]
    },
    {
     "name": "stdout",
     "output_type": "stream",
     "text": [
      "모든 프레임 처리 완료, 총 프레임 수: 30\n",
      "CSV 파일 저장 완료: Dataset_csv/Fall/Home_02/video (38).csv\n"
     ]
    },
    {
     "name": "stderr",
     "output_type": "stream",
     "text": [
      "I0000 00:00:1742532516.896694       1 gl_context.cc:344] GL version: 2.1 (2.1 Metal - 88.1), renderer: Apple M1\n"
     ]
    },
    {
     "name": "stdout",
     "output_type": "stream",
     "text": [
      "모든 프레임 처리 완료, 총 프레임 수: 30\n",
      "CSV 파일 저장 완료: Dataset_csv/Fall/Home_02/video (43).csv\n"
     ]
    },
    {
     "name": "stderr",
     "output_type": "stream",
     "text": [
      "I0000 00:00:1742532517.528134       1 gl_context.cc:344] GL version: 2.1 (2.1 Metal - 88.1), renderer: Apple M1\n"
     ]
    },
    {
     "name": "stdout",
     "output_type": "stream",
     "text": [
      "모든 프레임 처리 완료, 총 프레임 수: 30\n",
      "CSV 파일 저장 완료: Dataset_csv/Fall/Home_02/video (55).csv\n"
     ]
    },
    {
     "name": "stderr",
     "output_type": "stream",
     "text": [
      "I0000 00:00:1742532518.260794       1 gl_context.cc:344] GL version: 2.1 (2.1 Metal - 88.1), renderer: Apple M1\n"
     ]
    },
    {
     "name": "stdout",
     "output_type": "stream",
     "text": [
      "모든 프레임 처리 완료, 총 프레임 수: 30\n",
      "CSV 파일 저장 완료: Dataset_csv/Fall/Home_02/video (34).csv\n"
     ]
    },
    {
     "name": "stderr",
     "output_type": "stream",
     "text": [
      "I0000 00:00:1742532519.468024       1 gl_context.cc:344] GL version: 2.1 (2.1 Metal - 88.1), renderer: Apple M1\n"
     ]
    },
    {
     "name": "stdout",
     "output_type": "stream",
     "text": [
      "모든 프레임 처리 완료, 총 프레임 수: 30\n",
      "CSV 파일 저장 완료: Dataset_csv/Fall/Home_02/video (59).csv\n"
     ]
    },
    {
     "name": "stderr",
     "output_type": "stream",
     "text": [
      "I0000 00:00:1742532520.102719       1 gl_context.cc:344] GL version: 2.1 (2.1 Metal - 88.1), renderer: Apple M1\n"
     ]
    },
    {
     "name": "stdout",
     "output_type": "stream",
     "text": [
      "모든 프레임 처리 완료, 총 프레임 수: 30\n",
      "CSV 파일 저장 완료: Dataset_csv/Fall/Home_02/video (60).csv\n"
     ]
    },
    {
     "name": "stderr",
     "output_type": "stream",
     "text": [
      "I0000 00:00:1742532520.747332       1 gl_context.cc:344] GL version: 2.1 (2.1 Metal - 88.1), renderer: Apple M1\n"
     ]
    },
    {
     "name": "stdout",
     "output_type": "stream",
     "text": [
      "모든 프레임 처리 완료, 총 프레임 수: 30\n",
      "CSV 파일 저장 완료: Dataset_csv/Fall/Home_02/video (37).csv\n"
     ]
    },
    {
     "name": "stderr",
     "output_type": "stream",
     "text": [
      "I0000 00:00:1742532521.729758       1 gl_context.cc:344] GL version: 2.1 (2.1 Metal - 88.1), renderer: Apple M1\n"
     ]
    },
    {
     "name": "stdout",
     "output_type": "stream",
     "text": [
      "모든 프레임 처리 완료, 총 프레임 수: 30\n",
      "CSV 파일 저장 완료: Dataset_csv/Fall/Home_02/video (40).csv\n"
     ]
    },
    {
     "name": "stderr",
     "output_type": "stream",
     "text": [
      "I0000 00:00:1742532522.476217       1 gl_context.cc:344] GL version: 2.1 (2.1 Metal - 88.1), renderer: Apple M1\n"
     ]
    },
    {
     "name": "stdout",
     "output_type": "stream",
     "text": [
      "모든 프레임 처리 완료, 총 프레임 수: 30\n",
      "CSV 파일 저장 완료: Dataset_csv/Fall/Home_02/video (56).csv\n"
     ]
    },
    {
     "name": "stderr",
     "output_type": "stream",
     "text": [
      "I0000 00:00:1742532523.483670       1 gl_context.cc:344] GL version: 2.1 (2.1 Metal - 88.1), renderer: Apple M1\n"
     ]
    },
    {
     "name": "stdout",
     "output_type": "stream",
     "text": [
      "모든 프레임 처리 완료, 총 프레임 수: 30\n",
      "CSV 파일 저장 완료: Dataset_csv/Fall/Home_02/video (57).csv\n"
     ]
    },
    {
     "name": "stderr",
     "output_type": "stream",
     "text": [
      "I0000 00:00:1742532524.248082       1 gl_context.cc:344] GL version: 2.1 (2.1 Metal - 88.1), renderer: Apple M1\n"
     ]
    },
    {
     "name": "stdout",
     "output_type": "stream",
     "text": [
      "모든 프레임 처리 완료, 총 프레임 수: 30\n",
      "CSV 파일 저장 완료: Dataset_csv/Fall/Home_02/video (41).csv\n"
     ]
    },
    {
     "name": "stderr",
     "output_type": "stream",
     "text": [
      "I0000 00:00:1742532524.883494       1 gl_context.cc:344] GL version: 2.1 (2.1 Metal - 88.1), renderer: Apple M1\n"
     ]
    },
    {
     "name": "stdout",
     "output_type": "stream",
     "text": [
      "모든 프레임 처리 완료, 총 프레임 수: 30\n",
      "CSV 파일 저장 완료: Dataset_csv/Fall/Home_02/video (36).csv\n"
     ]
    },
    {
     "name": "stderr",
     "output_type": "stream",
     "text": [
      "I0000 00:00:1742532525.991656       1 gl_context.cc:344] GL version: 2.1 (2.1 Metal - 88.1), renderer: Apple M1\n"
     ]
    },
    {
     "name": "stdout",
     "output_type": "stream",
     "text": [
      "모든 프레임 처리 완료, 총 프레임 수: 30\n",
      "CSV 파일 저장 완료: Dataset_csv/Fall/Home_02/video (46).csv\n"
     ]
    },
    {
     "name": "stderr",
     "output_type": "stream",
     "text": [
      "I0000 00:00:1742532526.843625       1 gl_context.cc:344] GL version: 2.1 (2.1 Metal - 88.1), renderer: Apple M1\n"
     ]
    },
    {
     "name": "stdout",
     "output_type": "stream",
     "text": [
      "모든 프레임 처리 완료, 총 프레임 수: 30\n",
      "CSV 파일 저장 완료: Dataset_csv/Fall/Home_02/video (50).csv\n"
     ]
    },
    {
     "name": "stderr",
     "output_type": "stream",
     "text": [
      "I0000 00:00:1742532527.493059       1 gl_context.cc:344] GL version: 2.1 (2.1 Metal - 88.1), renderer: Apple M1\n"
     ]
    },
    {
     "name": "stdout",
     "output_type": "stream",
     "text": [
      "모든 프레임 처리 완료, 총 프레임 수: 30\n",
      "CSV 파일 저장 완료: Dataset_csv/Fall/Home_02/video (31).csv\n"
     ]
    },
    {
     "name": "stderr",
     "output_type": "stream",
     "text": [
      "I0000 00:00:1742532528.478530       1 gl_context.cc:344] GL version: 2.1 (2.1 Metal - 88.1), renderer: Apple M1\n"
     ]
    },
    {
     "name": "stdout",
     "output_type": "stream",
     "text": [
      "모든 프레임 처리 완료, 총 프레임 수: 30\n",
      "CSV 파일 저장 완료: Dataset_csv/Fall/Home_02/video (51).csv\n"
     ]
    },
    {
     "name": "stderr",
     "output_type": "stream",
     "text": [
      "I0000 00:00:1742532529.415681       1 gl_context.cc:344] GL version: 2.1 (2.1 Metal - 88.1), renderer: Apple M1\n",
      "4it [02:00, 30.09s/it]"
     ]
    },
    {
     "name": "stdout",
     "output_type": "stream",
     "text": [
      "모든 프레임 처리 완료, 총 프레임 수: 30\n",
      "CSV 파일 저장 완료: Dataset_csv/Fall/Home_02/video (47).csv\n"
     ]
    },
    {
     "name": "stderr",
     "output_type": "stream",
     "text": [
      "\n"
     ]
    }
   ],
   "source": [
    "# 비디오 파일이 있는 폴더 경로와 CSV 파일을 저장할 폴더 경로를 설정합니다.\n",
    "video_folder = \"FallDataset_mp4\"  # 실제 비디오 파일 경로로 변경하세요.\n",
    "output_folder = \"Dataset_csv/Fall\" # 실제 출력 경로로 변경하세요.\n",
    "\n",
    "# 비디오 파일 확장자 목록을 설정합니다.\n",
    "video_extensions = [\".mp4\", \".avi\", \".mov\"]\n",
    "\n",
    "# 폴더와 하위 폴더를 순회하면서 비디오 파일을 찾습니다.\n",
    "for root, _, files in tqdm(os.walk(video_folder)):\n",
    "    for file in files:\n",
    "        if any(file.lower().endswith(ext) for ext in video_extensions):\n",
    "            video_path = os.path.join(root, file)\n",
    "            relative_path = os.path.relpath(root, video_folder)\n",
    "            output_csv_subfolder = os.path.join(output_folder, relative_path)\n",
    "            output_csv_name = os.path.splitext(file)[0] + \".csv\"\n",
    "            skeleton_csv(video_path, output_csv_subfolder, output_csv_name)"
   ]
  },
  {
   "cell_type": "markdown",
   "metadata": {},
   "source": [
    "# No Fall"
   ]
  },
  {
   "cell_type": "code",
   "execution_count": 3,
   "metadata": {},
   "outputs": [
    {
     "name": "stderr",
     "output_type": "stream",
     "text": [
      "0it [00:00, ?it/s]I0000 00:00:1742532530.148182       1 gl_context.cc:344] GL version: 2.1 (2.1 Metal - 88.1), renderer: Apple M1\n"
     ]
    },
    {
     "name": "stdout",
     "output_type": "stream",
     "text": [
      "모든 프레임 처리 완료, 총 프레임 수: 30\n",
      "CSV 파일 저장 완료: Dataset_csv/NoFall/Coffee_room_01/video (12)_nofall_clip1.csv\n"
     ]
    },
    {
     "name": "stderr",
     "output_type": "stream",
     "text": [
      "I0000 00:00:1742532531.113377       1 gl_context.cc:344] GL version: 2.1 (2.1 Metal - 88.1), renderer: Apple M1\n"
     ]
    },
    {
     "name": "stdout",
     "output_type": "stream",
     "text": [
      "모든 프레임 처리 완료, 총 프레임 수: 30\n",
      "CSV 파일 저장 완료: Dataset_csv/NoFall/Coffee_room_01/video (40)_nofall_clip1.csv\n"
     ]
    },
    {
     "name": "stderr",
     "output_type": "stream",
     "text": [
      "I0000 00:00:1742532532.116879       1 gl_context.cc:344] GL version: 2.1 (2.1 Metal - 88.1), renderer: Apple M1\n"
     ]
    },
    {
     "name": "stdout",
     "output_type": "stream",
     "text": [
      "모든 프레임 처리 완료, 총 프레임 수: 30\n",
      "CSV 파일 저장 완료: Dataset_csv/NoFall/Coffee_room_01/video (9)_nofall_clip1.csv\n"
     ]
    },
    {
     "name": "stderr",
     "output_type": "stream",
     "text": [
      "I0000 00:00:1742532533.090691       1 gl_context.cc:344] GL version: 2.1 (2.1 Metal - 88.1), renderer: Apple M1\n"
     ]
    },
    {
     "name": "stdout",
     "output_type": "stream",
     "text": [
      "모든 프레임 처리 완료, 총 프레임 수: 30\n",
      "CSV 파일 저장 완료: Dataset_csv/NoFall/Coffee_room_01/video (45)_nofall_clip1.csv\n"
     ]
    },
    {
     "name": "stderr",
     "output_type": "stream",
     "text": [
      "I0000 00:00:1742532534.075471       1 gl_context.cc:344] GL version: 2.1 (2.1 Metal - 88.1), renderer: Apple M1\n"
     ]
    },
    {
     "name": "stdout",
     "output_type": "stream",
     "text": [
      "모든 프레임 처리 완료, 총 프레임 수: 30\n",
      "CSV 파일 저장 완료: Dataset_csv/NoFall/Coffee_room_01/video (23)_nofall_clip1.csv\n"
     ]
    },
    {
     "name": "stderr",
     "output_type": "stream",
     "text": [
      "I0000 00:00:1742532535.045804       1 gl_context.cc:344] GL version: 2.1 (2.1 Metal - 88.1), renderer: Apple M1\n"
     ]
    },
    {
     "name": "stdout",
     "output_type": "stream",
     "text": [
      "모든 프레임 처리 완료, 총 프레임 수: 30\n",
      "CSV 파일 저장 완료: Dataset_csv/NoFall/Coffee_room_01/video (13)_nofall_clip1.csv\n"
     ]
    },
    {
     "name": "stderr",
     "output_type": "stream",
     "text": [
      "I0000 00:00:1742532536.043023       1 gl_context.cc:344] GL version: 2.1 (2.1 Metal - 88.1), renderer: Apple M1\n"
     ]
    },
    {
     "name": "stdout",
     "output_type": "stream",
     "text": [
      "모든 프레임 처리 완료, 총 프레임 수: 30\n",
      "CSV 파일 저장 완료: Dataset_csv/NoFall/Coffee_room_01/video (41)_nofall_clip1.csv\n"
     ]
    },
    {
     "name": "stderr",
     "output_type": "stream",
     "text": [
      "I0000 00:00:1742532537.165345       1 gl_context.cc:344] GL version: 2.1 (2.1 Metal - 88.1), renderer: Apple M1\n"
     ]
    },
    {
     "name": "stdout",
     "output_type": "stream",
     "text": [
      "모든 프레임 처리 완료, 총 프레임 수: 30\n",
      "CSV 파일 저장 완료: Dataset_csv/NoFall/Coffee_room_01/video (27)_nofall_clip1.csv\n"
     ]
    },
    {
     "name": "stderr",
     "output_type": "stream",
     "text": [
      "I0000 00:00:1742532538.158729       1 gl_context.cc:344] GL version: 2.1 (2.1 Metal - 88.1), renderer: Apple M1\n"
     ]
    },
    {
     "name": "stdout",
     "output_type": "stream",
     "text": [
      "모든 프레임 처리 완료, 총 프레임 수: 30\n",
      "CSV 파일 저장 완료: Dataset_csv/NoFall/Coffee_room_01/video (16)_nofall_clip1.csv\n"
     ]
    },
    {
     "name": "stderr",
     "output_type": "stream",
     "text": [
      "I0000 00:00:1742532539.124603       1 gl_context.cc:344] GL version: 2.1 (2.1 Metal - 88.1), renderer: Apple M1\n"
     ]
    },
    {
     "name": "stdout",
     "output_type": "stream",
     "text": [
      "모든 프레임 처리 완료, 총 프레임 수: 30\n",
      "CSV 파일 저장 완료: Dataset_csv/NoFall/Coffee_room_01/video (8)_nofall_clip1.csv\n"
     ]
    },
    {
     "name": "stderr",
     "output_type": "stream",
     "text": [
      "I0000 00:00:1742532539.882917       1 gl_context.cc:344] GL version: 2.1 (2.1 Metal - 88.1), renderer: Apple M1\n"
     ]
    },
    {
     "name": "stdout",
     "output_type": "stream",
     "text": [
      "모든 프레임 처리 완료, 총 프레임 수: 30\n",
      "CSV 파일 저장 완료: Dataset_csv/NoFall/Coffee_room_01/video (44)_nofall_clip1.csv\n"
     ]
    },
    {
     "name": "stderr",
     "output_type": "stream",
     "text": [
      "I0000 00:00:1742532540.845904       1 gl_context.cc:344] GL version: 2.1 (2.1 Metal - 88.1), renderer: Apple M1\n"
     ]
    },
    {
     "name": "stdout",
     "output_type": "stream",
     "text": [
      "모든 프레임 처리 완료, 총 프레임 수: 30\n",
      "CSV 파일 저장 완료: Dataset_csv/NoFall/Coffee_room_01/video (22)_nofall_clip1.csv\n"
     ]
    },
    {
     "name": "stderr",
     "output_type": "stream",
     "text": [
      "I0000 00:00:1742532541.814382       1 gl_context.cc:344] GL version: 2.1 (2.1 Metal - 88.1), renderer: Apple M1\n"
     ]
    },
    {
     "name": "stdout",
     "output_type": "stream",
     "text": [
      "모든 프레임 처리 완료, 총 프레임 수: 30\n",
      "CSV 파일 저장 완료: Dataset_csv/NoFall/Coffee_room_01/video (38)_nofall_clip1.csv\n"
     ]
    },
    {
     "name": "stderr",
     "output_type": "stream",
     "text": [
      "I0000 00:00:1742532542.827569       1 gl_context.cc:344] GL version: 2.1 (2.1 Metal - 88.1), renderer: Apple M1\n"
     ]
    },
    {
     "name": "stdout",
     "output_type": "stream",
     "text": [
      "모든 프레임 처리 완료, 총 프레임 수: 30\n",
      "CSV 파일 저장 완료: Dataset_csv/NoFall/Coffee_room_01/video (10)_nofall_clip1.csv\n"
     ]
    },
    {
     "name": "stderr",
     "output_type": "stream",
     "text": [
      "I0000 00:00:1742532543.827830       1 gl_context.cc:344] GL version: 2.1 (2.1 Metal - 88.1), renderer: Apple M1\n"
     ]
    },
    {
     "name": "stdout",
     "output_type": "stream",
     "text": [
      "모든 프레임 처리 완료, 총 프레임 수: 30\n",
      "CSV 파일 저장 완료: Dataset_csv/NoFall/Coffee_room_01/video (42)_nofall_clip1.csv\n"
     ]
    },
    {
     "name": "stderr",
     "output_type": "stream",
     "text": [
      "I0000 00:00:1742532544.827680       1 gl_context.cc:344] GL version: 2.1 (2.1 Metal - 88.1), renderer: Apple M1\n"
     ]
    },
    {
     "name": "stdout",
     "output_type": "stream",
     "text": [
      "모든 프레임 처리 완료, 총 프레임 수: 30\n",
      "CSV 파일 저장 완료: Dataset_csv/NoFall/Coffee_room_01/video (24)_nofall_clip1.csv\n"
     ]
    },
    {
     "name": "stderr",
     "output_type": "stream",
     "text": [
      "I0000 00:00:1742532545.812874       1 gl_context.cc:344] GL version: 2.1 (2.1 Metal - 88.1), renderer: Apple M1\n"
     ]
    },
    {
     "name": "stdout",
     "output_type": "stream",
     "text": [
      "모든 프레임 처리 완료, 총 프레임 수: 30\n",
      "CSV 파일 저장 완료: Dataset_csv/NoFall/Coffee_room_01/video (15)_nofall_clip1.csv\n"
     ]
    },
    {
     "name": "stderr",
     "output_type": "stream",
     "text": [
      "I0000 00:00:1742532546.842994       1 gl_context.cc:344] GL version: 2.1 (2.1 Metal - 88.1), renderer: Apple M1\n"
     ]
    },
    {
     "name": "stdout",
     "output_type": "stream",
     "text": [
      "모든 프레임 처리 완료, 총 프레임 수: 30\n",
      "CSV 파일 저장 완료: Dataset_csv/NoFall/Coffee_room_01/video (47)_nofall_clip1.csv\n"
     ]
    },
    {
     "name": "stderr",
     "output_type": "stream",
     "text": [
      "I0000 00:00:1742532547.845781       1 gl_context.cc:344] GL version: 2.1 (2.1 Metal - 88.1), renderer: Apple M1\n"
     ]
    },
    {
     "name": "stdout",
     "output_type": "stream",
     "text": [
      "모든 프레임 처리 완료, 총 프레임 수: 30\n",
      "CSV 파일 저장 완료: Dataset_csv/NoFall/Coffee_room_01/video (21)_nofall_clip1.csv\n"
     ]
    },
    {
     "name": "stderr",
     "output_type": "stream",
     "text": [
      "I0000 00:00:1742532548.864998       1 gl_context.cc:344] GL version: 2.1 (2.1 Metal - 88.1), renderer: Apple M1\n"
     ]
    },
    {
     "name": "stdout",
     "output_type": "stream",
     "text": [
      "모든 프레임 처리 완료, 총 프레임 수: 30\n",
      "CSV 파일 저장 완료: Dataset_csv/NoFall/Coffee_room_01/video (39)_nofall_clip1.csv\n"
     ]
    },
    {
     "name": "stderr",
     "output_type": "stream",
     "text": [
      "I0000 00:00:1742532549.810980       1 gl_context.cc:344] GL version: 2.1 (2.1 Metal - 88.1), renderer: Apple M1\n"
     ]
    },
    {
     "name": "stdout",
     "output_type": "stream",
     "text": [
      "모든 프레임 처리 완료, 총 프레임 수: 30\n",
      "CSV 파일 저장 완료: Dataset_csv/NoFall/Coffee_room_01/video (11)_nofall_clip1.csv\n"
     ]
    },
    {
     "name": "stderr",
     "output_type": "stream",
     "text": [
      "I0000 00:00:1742532550.798943       1 gl_context.cc:344] GL version: 2.1 (2.1 Metal - 88.1), renderer: Apple M1\n"
     ]
    },
    {
     "name": "stdout",
     "output_type": "stream",
     "text": [
      "모든 프레임 처리 완료, 총 프레임 수: 30\n",
      "CSV 파일 저장 완료: Dataset_csv/NoFall/Coffee_room_01/video (43)_nofall_clip1.csv\n"
     ]
    },
    {
     "name": "stderr",
     "output_type": "stream",
     "text": [
      "I0000 00:00:1742532551.846320       1 gl_context.cc:344] GL version: 2.1 (2.1 Metal - 88.1), renderer: Apple M1\n"
     ]
    },
    {
     "name": "stdout",
     "output_type": "stream",
     "text": [
      "모든 프레임 처리 완료, 총 프레임 수: 30\n",
      "CSV 파일 저장 완료: Dataset_csv/NoFall/Coffee_room_01/video (25)_nofall_clip1.csv\n"
     ]
    },
    {
     "name": "stderr",
     "output_type": "stream",
     "text": [
      "I0000 00:00:1742532552.858352       1 gl_context.cc:344] GL version: 2.1 (2.1 Metal - 88.1), renderer: Apple M1\n"
     ]
    },
    {
     "name": "stdout",
     "output_type": "stream",
     "text": [
      "모든 프레임 처리 완료, 총 프레임 수: 30\n",
      "CSV 파일 저장 완료: Dataset_csv/NoFall/Coffee_room_01/video (14)_nofall_clip1.csv\n"
     ]
    },
    {
     "name": "stderr",
     "output_type": "stream",
     "text": [
      "I0000 00:00:1742532553.835249       1 gl_context.cc:344] GL version: 2.1 (2.1 Metal - 88.1), renderer: Apple M1\n"
     ]
    },
    {
     "name": "stdout",
     "output_type": "stream",
     "text": [
      "모든 프레임 처리 완료, 총 프레임 수: 30\n",
      "CSV 파일 저장 완료: Dataset_csv/NoFall/Coffee_room_01/video (46)_nofall_clip1.csv\n"
     ]
    },
    {
     "name": "stderr",
     "output_type": "stream",
     "text": [
      "I0000 00:00:1742532554.812501       1 gl_context.cc:344] GL version: 2.1 (2.1 Metal - 88.1), renderer: Apple M1\n"
     ]
    },
    {
     "name": "stdout",
     "output_type": "stream",
     "text": [
      "모든 프레임 처리 완료, 총 프레임 수: 30\n",
      "CSV 파일 저장 완료: Dataset_csv/NoFall/Coffee_room_01/video (20)_nofall_clip1.csv\n"
     ]
    },
    {
     "name": "stderr",
     "output_type": "stream",
     "text": [
      "I0000 00:00:1742532555.832644       1 gl_context.cc:344] GL version: 2.1 (2.1 Metal - 88.1), renderer: Apple M1\n"
     ]
    },
    {
     "name": "stdout",
     "output_type": "stream",
     "text": [
      "모든 프레임 처리 완료, 총 프레임 수: 30\n",
      "CSV 파일 저장 완료: Dataset_csv/NoFall/Coffee_room_01/video (3)_nofall_clip1.csv\n"
     ]
    },
    {
     "name": "stderr",
     "output_type": "stream",
     "text": [
      "I0000 00:00:1742532556.912333       1 gl_context.cc:344] GL version: 2.1 (2.1 Metal - 88.1), renderer: Apple M1\n"
     ]
    },
    {
     "name": "stdout",
     "output_type": "stream",
     "text": [
      "모든 프레임 처리 완료, 총 프레임 수: 30\n",
      "CSV 파일 저장 완료: Dataset_csv/NoFall/Coffee_room_01/video (35)_nofall_clip1.csv\n"
     ]
    },
    {
     "name": "stderr",
     "output_type": "stream",
     "text": [
      "I0000 00:00:1742532557.891741       1 gl_context.cc:344] GL version: 2.1 (2.1 Metal - 88.1), renderer: Apple M1\n"
     ]
    },
    {
     "name": "stdout",
     "output_type": "stream",
     "text": [
      "모든 프레임 처리 완료, 총 프레임 수: 30\n",
      "CSV 파일 저장 완료: Dataset_csv/NoFall/Coffee_room_01/video (29)_nofall_clip1.csv\n"
     ]
    },
    {
     "name": "stderr",
     "output_type": "stream",
     "text": [
      "I0000 00:00:1742532558.861383       1 gl_context.cc:344] GL version: 2.1 (2.1 Metal - 88.1), renderer: Apple M1\n"
     ]
    },
    {
     "name": "stdout",
     "output_type": "stream",
     "text": [
      "모든 프레임 처리 완료, 총 프레임 수: 30\n",
      "CSV 파일 저장 완료: Dataset_csv/NoFall/Coffee_room_01/video (6)_nofall_clip1.csv\n"
     ]
    },
    {
     "name": "stderr",
     "output_type": "stream",
     "text": [
      "I0000 00:00:1742532559.833426       1 gl_context.cc:344] GL version: 2.1 (2.1 Metal - 88.1), renderer: Apple M1\n"
     ]
    },
    {
     "name": "stdout",
     "output_type": "stream",
     "text": [
      "모든 프레임 처리 완료, 총 프레임 수: 30\n",
      "CSV 파일 저장 완료: Dataset_csv/NoFall/Coffee_room_01/video (18)_nofall_clip1.csv\n"
     ]
    },
    {
     "name": "stderr",
     "output_type": "stream",
     "text": [
      "I0000 00:00:1742532560.798385       1 gl_context.cc:344] GL version: 2.1 (2.1 Metal - 88.1), renderer: Apple M1\n"
     ]
    },
    {
     "name": "stdout",
     "output_type": "stream",
     "text": [
      "모든 프레임 처리 완료, 총 프레임 수: 30\n",
      "CSV 파일 저장 완료: Dataset_csv/NoFall/Coffee_room_01/video (30)_nofall_clip1.csv\n"
     ]
    },
    {
     "name": "stderr",
     "output_type": "stream",
     "text": [
      "I0000 00:00:1742532561.958630       1 gl_context.cc:344] GL version: 2.1 (2.1 Metal - 88.1), renderer: Apple M1\n"
     ]
    },
    {
     "name": "stdout",
     "output_type": "stream",
     "text": [
      "모든 프레임 처리 완료, 총 프레임 수: 30\n",
      "CSV 파일 저장 완료: Dataset_csv/NoFall/Coffee_room_01/video (2)_nofall_clip1.csv\n"
     ]
    },
    {
     "name": "stderr",
     "output_type": "stream",
     "text": [
      "I0000 00:00:1742532563.031319       1 gl_context.cc:344] GL version: 2.1 (2.1 Metal - 88.1), renderer: Apple M1\n"
     ]
    },
    {
     "name": "stdout",
     "output_type": "stream",
     "text": [
      "모든 프레임 처리 완료, 총 프레임 수: 30\n",
      "CSV 파일 저장 완료: Dataset_csv/NoFall/Coffee_room_01/video (34)_nofall_clip1.csv\n"
     ]
    },
    {
     "name": "stderr",
     "output_type": "stream",
     "text": [
      "I0000 00:00:1742532564.002814       1 gl_context.cc:344] GL version: 2.1 (2.1 Metal - 88.1), renderer: Apple M1\n"
     ]
    },
    {
     "name": "stdout",
     "output_type": "stream",
     "text": [
      "모든 프레임 처리 완료, 총 프레임 수: 30\n",
      "CSV 파일 저장 완료: Dataset_csv/NoFall/Coffee_room_01/video (28)_nofall_clip1.csv\n"
     ]
    },
    {
     "name": "stderr",
     "output_type": "stream",
     "text": [
      "I0000 00:00:1742532564.977631       1 gl_context.cc:344] GL version: 2.1 (2.1 Metal - 88.1), renderer: Apple M1\n"
     ]
    },
    {
     "name": "stdout",
     "output_type": "stream",
     "text": [
      "모든 프레임 처리 완료, 총 프레임 수: 30\n",
      "CSV 파일 저장 완료: Dataset_csv/NoFall/Coffee_room_01/video (19)_nofall_clip1.csv\n"
     ]
    },
    {
     "name": "stderr",
     "output_type": "stream",
     "text": [
      "I0000 00:00:1742532565.959256       1 gl_context.cc:344] GL version: 2.1 (2.1 Metal - 88.1), renderer: Apple M1\n"
     ]
    },
    {
     "name": "stdout",
     "output_type": "stream",
     "text": [
      "모든 프레임 처리 완료, 총 프레임 수: 30\n",
      "CSV 파일 저장 완료: Dataset_csv/NoFall/Coffee_room_01/video (7)_nofall_clip1.csv\n"
     ]
    },
    {
     "name": "stderr",
     "output_type": "stream",
     "text": [
      "I0000 00:00:1742532566.946269       1 gl_context.cc:344] GL version: 2.1 (2.1 Metal - 88.1), renderer: Apple M1\n"
     ]
    },
    {
     "name": "stdout",
     "output_type": "stream",
     "text": [
      "모든 프레임 처리 완료, 총 프레임 수: 30\n",
      "CSV 파일 저장 완료: Dataset_csv/NoFall/Coffee_room_01/video (31)_nofall_clip1.csv\n"
     ]
    },
    {
     "name": "stderr",
     "output_type": "stream",
     "text": [
      "I0000 00:00:1742532567.976584       1 gl_context.cc:344] GL version: 2.1 (2.1 Metal - 88.1), renderer: Apple M1\n"
     ]
    },
    {
     "name": "stdout",
     "output_type": "stream",
     "text": [
      "모든 프레임 처리 완료, 총 프레임 수: 30\n",
      "CSV 파일 저장 완료: Dataset_csv/NoFall/Coffee_room_01/video (1)_nofall_clip1.csv\n"
     ]
    },
    {
     "name": "stderr",
     "output_type": "stream",
     "text": [
      "I0000 00:00:1742532568.947987       1 gl_context.cc:344] GL version: 2.1 (2.1 Metal - 88.1), renderer: Apple M1\n"
     ]
    },
    {
     "name": "stdout",
     "output_type": "stream",
     "text": [
      "모든 프레임 처리 완료, 총 프레임 수: 30\n",
      "CSV 파일 저장 완료: Dataset_csv/NoFall/Coffee_room_01/video (37)_nofall_clip1.csv\n"
     ]
    },
    {
     "name": "stderr",
     "output_type": "stream",
     "text": [
      "I0000 00:00:1742532569.924289       1 gl_context.cc:344] GL version: 2.1 (2.1 Metal - 88.1), renderer: Apple M1\n"
     ]
    },
    {
     "name": "stdout",
     "output_type": "stream",
     "text": [
      "모든 프레임 처리 완료, 총 프레임 수: 30\n",
      "CSV 파일 저장 완료: Dataset_csv/NoFall/Coffee_room_01/video (4)_nofall_clip1.csv\n"
     ]
    },
    {
     "name": "stderr",
     "output_type": "stream",
     "text": [
      "I0000 00:00:1742532570.962741       1 gl_context.cc:344] GL version: 2.1 (2.1 Metal - 88.1), renderer: Apple M1\n"
     ]
    },
    {
     "name": "stdout",
     "output_type": "stream",
     "text": [
      "모든 프레임 처리 완료, 총 프레임 수: 30\n",
      "CSV 파일 저장 완료: Dataset_csv/NoFall/Coffee_room_01/video (32)_nofall_clip1.csv\n"
     ]
    },
    {
     "name": "stderr",
     "output_type": "stream",
     "text": [
      "I0000 00:00:1742532571.935132       1 gl_context.cc:344] GL version: 2.1 (2.1 Metal - 88.1), renderer: Apple M1\n"
     ]
    },
    {
     "name": "stdout",
     "output_type": "stream",
     "text": [
      "모든 프레임 처리 완료, 총 프레임 수: 30\n",
      "CSV 파일 저장 완료: Dataset_csv/NoFall/Coffee_room_01/video (48)_nofall_clip1.csv\n"
     ]
    },
    {
     "name": "stderr",
     "output_type": "stream",
     "text": [
      "I0000 00:00:1742532573.042264       1 gl_context.cc:344] GL version: 2.1 (2.1 Metal - 88.1), renderer: Apple M1\n"
     ]
    },
    {
     "name": "stdout",
     "output_type": "stream",
     "text": [
      "모든 프레임 처리 완료, 총 프레임 수: 30\n",
      "CSV 파일 저장 완료: Dataset_csv/NoFall/Coffee_room_01/video (36)_nofall_clip1.csv\n"
     ]
    },
    {
     "name": "stderr",
     "output_type": "stream",
     "text": [
      "I0000 00:00:1742532574.009151       1 gl_context.cc:344] GL version: 2.1 (2.1 Metal - 88.1), renderer: Apple M1\n"
     ]
    },
    {
     "name": "stdout",
     "output_type": "stream",
     "text": [
      "모든 프레임 처리 완료, 총 프레임 수: 30\n",
      "CSV 파일 저장 완료: Dataset_csv/NoFall/Coffee_room_01/video (5)_nofall_clip1.csv\n"
     ]
    },
    {
     "name": "stderr",
     "output_type": "stream",
     "text": [
      "I0000 00:00:1742532575.032699       1 gl_context.cc:344] GL version: 2.1 (2.1 Metal - 88.1), renderer: Apple M1\n",
      "3it [00:45, 15.29s/it]"
     ]
    },
    {
     "name": "stdout",
     "output_type": "stream",
     "text": [
      "모든 프레임 처리 완료, 총 프레임 수: 30\n",
      "CSV 파일 저장 완료: Dataset_csv/NoFall/Coffee_room_01/video (33)_nofall_clip1.csv\n"
     ]
    },
    {
     "name": "stderr",
     "output_type": "stream",
     "text": [
      "\n"
     ]
    }
   ],
   "source": [
    "# 비디오 파일이 있는 폴더 경로와 CSV 파일을 저장할 폴더 경로를 설정합니다.\n",
    "video_folder = \"NoFallDataset_mp4\"  # 실제 비디오 파일 경로로 변경하세요.\n",
    "output_folder = \"Dataset_csv/NoFall\" # 실제 출력 경로로 변경하세요.\n",
    "# 비디오 파일 확장자 목록을 설정합니다.\n",
    "video_extensions = [\".mp4\", \".avi\", \".mov\"]\n",
    "\n",
    "# 폴더와 하위 폴더를 순회하면서 비디오 파일을 찾습니다.\n",
    "for root, _, files in tqdm(os.walk(video_folder)):\n",
    "    for file in files:\n",
    "        if any(file.lower().endswith(ext) for ext in video_extensions):\n",
    "            video_path = os.path.join(root, file)\n",
    "            relative_path = os.path.relpath(root, video_folder)\n",
    "            output_csv_subfolder = os.path.join(output_folder, relative_path)\n",
    "            output_csv_name = os.path.splitext(file)[0] + \".csv\"\n",
    "            skeleton_csv(video_path, output_csv_subfolder, output_csv_name)"
   ]
  }
 ],
 "metadata": {
  "kernelspec": {
   "display_name": "pose",
   "language": "python",
   "name": "python3"
  },
  "language_info": {
   "codemirror_mode": {
    "name": "ipython",
    "version": 3
   },
   "file_extension": ".py",
   "mimetype": "text/x-python",
   "name": "python",
   "nbconvert_exporter": "python",
   "pygments_lexer": "ipython3",
   "version": "3.8.18"
  }
 },
 "nbformat": 4,
 "nbformat_minor": 2
}
