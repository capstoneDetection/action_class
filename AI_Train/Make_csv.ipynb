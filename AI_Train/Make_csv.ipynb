{
 "cells": [
  {
   "cell_type": "code",
   "execution_count": 1,
   "metadata": {},
   "outputs": [],
   "source": [
    "from Skeleton_functions.video_to_csv import skeleton_csv\n",
    "import os\n",
    "from tqdm import tqdm"
   ]
  },
  {
   "cell_type": "markdown",
   "metadata": {},
   "source": [
    "# Fall"
   ]
  },
  {
   "cell_type": "code",
   "execution_count": null,
   "metadata": {},
   "outputs": [
    {
     "name": "stderr",
     "output_type": "stream",
     "text": [
      "0it [00:00, ?it/s]WARNING: All log messages before absl::InitializeLog() is called are written to STDERR\n",
      "I0000 00:00:1742532409.913034       1 gl_context.cc:344] GL version: 2.1 (2.1 Metal - 88.1), renderer: Apple M1\n",
      "INFO: Created TensorFlow Lite XNNPACK delegate for CPU.\n"
     ]
    },
    {
     "name": "stdout",
     "output_type": "stream",
     "text": [
      "모든 프레임 처리 완료, 총 프레임 수: 30\n",
      "CSV 파일 저장 완료: Dataset_csv/Fall/Home_01/video (3).csv\n"
     ]
    },
    {
     "name": "stderr",
     "output_type": "stream",
     "text": [
      "I0000 00:00:1742532411.077159       1 gl_context.cc:344] GL version: 2.1 (2.1 Metal - 88.1), renderer: Apple M1\n"
     ]
    },
    {
     "name": "stdout",
     "output_type": "stream",
     "text": [
      "모든 프레임 처리 완료, 총 프레임 수: 30\n",
      "CSV 파일 저장 완료: Dataset_csv/Fall/Home_01/video (13).csv\n"
     ]
    },
    {
     "name": "stderr",
     "output_type": "stream",
     "text": [
      "I0000 00:00:1742532412.135946       1 gl_context.cc:344] GL version: 2.1 (2.1 Metal - 88.1), renderer: Apple M1\n"
     ]
    },
    {
     "name": "stdout",
     "output_type": "stream",
     "text": [
      "모든 프레임 처리 완료, 총 프레임 수: 30\n",
      "CSV 파일 저장 완료: Dataset_csv/Fall/Home_01/video (29).csv\n"
     ]
    },
    {
     "name": "stderr",
     "output_type": "stream",
     "text": [
      "I0000 00:00:1742532413.108956       1 gl_context.cc:344] GL version: 2.1 (2.1 Metal - 88.1), renderer: Apple M1\n"
     ]
    },
    {
     "name": "stdout",
     "output_type": "stream",
     "text": [
      "모든 프레임 처리 완료, 총 프레임 수: 30\n",
      "CSV 파일 저장 완료: Dataset_csv/Fall/Home_01/video (25).csv\n"
     ]
    },
    {
     "name": "stderr",
     "output_type": "stream",
     "text": [
      "I0000 00:00:1742532414.094597       1 gl_context.cc:344] GL version: 2.1 (2.1 Metal - 88.1), renderer: Apple M1\n"
     ]
    }
   ],
   "source": [
    "# 비디오 파일이 있는 폴더 경로와 CSV 파일을 저장할 폴더 경로를 설정합니다.\n",
    "video_folder = \"FallDataset_mp4\"  # 실제 비디오 파일 경로로 변경하세요.\n",
    "output_folder = \"Dataset_csv/Fall\" # 실제 출력 경로로 변경하세요.\n",
    "\n",
    "# 비디오 파일 확장자 목록을 설정합니다.\n",
    "video_extensions = [\".mp4\", \".avi\", \".mov\"]\n",
    "\n",
    "# 폴더와 하위 폴더를 순회하면서 비디오 파일을 찾습니다.\n",
    "for root, _, files in tqdm(os.walk(video_folder)):\n",
    "    for file in files:\n",
    "        if any(file.lower().endswith(ext) for ext in video_extensions):\n",
    "            video_path = os.path.join(root, file)\n",
    "            relative_path = os.path.relpath(root, video_folder)\n",
    "            output_csv_subfolder = os.path.join(output_folder, relative_path)\n",
    "            output_csv_name = os.path.splitext(file)[0] + \".csv\"\n",
    "            skeleton_csv(video_path, output_csv_subfolder, output_csv_name)"
   ]
  },
  {
   "cell_type": "markdown",
   "metadata": {},
   "source": [
    "# No Fall"
   ]
  },
  {
   "cell_type": "code",
   "execution_count": null,
   "metadata": {},
   "outputs": [
    {
     "name": "stderr",
     "output_type": "stream",
     "text": [
      "I0000 00:00:1742530730.225277       1 gl_context.cc:344] GL version: 2.1 (2.1 Metal - 88.1), renderer: Apple M1\n"
     ]
    },
    {
     "name": "stdout",
     "output_type": "stream",
     "text": [
      "모든 프레임 처리 완료, 총 프레임 수: 30\n",
      "CSV 파일 저장 완료: Dataset_csv/NoFall/Coffee_room_01/video (12)_nofall_clip1.csv\n"
     ]
    },
    {
     "name": "stderr",
     "output_type": "stream",
     "text": [
      "I0000 00:00:1742530731.318793       1 gl_context.cc:344] GL version: 2.1 (2.1 Metal - 88.1), renderer: Apple M1\n"
     ]
    },
    {
     "name": "stdout",
     "output_type": "stream",
     "text": [
      "모든 프레임 처리 완료, 총 프레임 수: 30\n",
      "CSV 파일 저장 완료: Dataset_csv/NoFall/Coffee_room_01/video (40)_nofall_clip1.csv\n"
     ]
    },
    {
     "name": "stderr",
     "output_type": "stream",
     "text": [
      "I0000 00:00:1742530732.323420       1 gl_context.cc:344] GL version: 2.1 (2.1 Metal - 88.1), renderer: Apple M1\n"
     ]
    },
    {
     "name": "stdout",
     "output_type": "stream",
     "text": [
      "모든 프레임 처리 완료, 총 프레임 수: 30\n",
      "CSV 파일 저장 완료: Dataset_csv/NoFall/Coffee_room_01/video (9)_nofall_clip1.csv\n"
     ]
    },
    {
     "name": "stderr",
     "output_type": "stream",
     "text": [
      "I0000 00:00:1742530733.310610       1 gl_context.cc:344] GL version: 2.1 (2.1 Metal - 88.1), renderer: Apple M1\n"
     ]
    },
    {
     "name": "stdout",
     "output_type": "stream",
     "text": [
      "모든 프레임 처리 완료, 총 프레임 수: 30\n",
      "CSV 파일 저장 완료: Dataset_csv/NoFall/Coffee_room_01/video (45)_nofall_clip1.csv\n"
     ]
    },
    {
     "name": "stderr",
     "output_type": "stream",
     "text": [
      "I0000 00:00:1742530734.944438       1 gl_context.cc:344] GL version: 2.1 (2.1 Metal - 88.1), renderer: Apple M1\n"
     ]
    },
    {
     "name": "stdout",
     "output_type": "stream",
     "text": [
      "모든 프레임 처리 완료, 총 프레임 수: 30\n",
      "CSV 파일 저장 완료: Dataset_csv/NoFall/Coffee_room_01/video (23)_nofall_clip1.csv\n"
     ]
    },
    {
     "name": "stderr",
     "output_type": "stream",
     "text": [
      "I0000 00:00:1742530736.801391       1 gl_context.cc:344] GL version: 2.1 (2.1 Metal - 88.1), renderer: Apple M1\n"
     ]
    },
    {
     "name": "stdout",
     "output_type": "stream",
     "text": [
      "모든 프레임 처리 완료, 총 프레임 수: 30\n",
      "CSV 파일 저장 완료: Dataset_csv/NoFall/Coffee_room_01/video (13)_nofall_clip1.csv\n"
     ]
    },
    {
     "name": "stderr",
     "output_type": "stream",
     "text": [
      "I0000 00:00:1742530737.984953       1 gl_context.cc:344] GL version: 2.1 (2.1 Metal - 88.1), renderer: Apple M1\n"
     ]
    },
    {
     "name": "stdout",
     "output_type": "stream",
     "text": [
      "모든 프레임 처리 완료, 총 프레임 수: 30\n",
      "CSV 파일 저장 완료: Dataset_csv/NoFall/Coffee_room_01/video (41)_nofall_clip1.csv\n"
     ]
    },
    {
     "name": "stderr",
     "output_type": "stream",
     "text": [
      "I0000 00:00:1742530738.953667       1 gl_context.cc:344] GL version: 2.1 (2.1 Metal - 88.1), renderer: Apple M1\n"
     ]
    },
    {
     "name": "stdout",
     "output_type": "stream",
     "text": [
      "모든 프레임 처리 완료, 총 프레임 수: 30\n",
      "CSV 파일 저장 완료: Dataset_csv/NoFall/Coffee_room_01/video (27)_nofall_clip1.csv\n"
     ]
    },
    {
     "name": "stderr",
     "output_type": "stream",
     "text": [
      "I0000 00:00:1742530739.936025       1 gl_context.cc:344] GL version: 2.1 (2.1 Metal - 88.1), renderer: Apple M1\n"
     ]
    },
    {
     "name": "stdout",
     "output_type": "stream",
     "text": [
      "모든 프레임 처리 완료, 총 프레임 수: 30\n",
      "CSV 파일 저장 완료: Dataset_csv/NoFall/Coffee_room_01/video (16)_nofall_clip1.csv\n"
     ]
    },
    {
     "name": "stderr",
     "output_type": "stream",
     "text": [
      "I0000 00:00:1742530740.920800       1 gl_context.cc:344] GL version: 2.1 (2.1 Metal - 88.1), renderer: Apple M1\n"
     ]
    },
    {
     "name": "stdout",
     "output_type": "stream",
     "text": [
      "모든 프레임 처리 완료, 총 프레임 수: 30\n",
      "CSV 파일 저장 완료: Dataset_csv/NoFall/Coffee_room_01/video (8)_nofall_clip1.csv\n"
     ]
    },
    {
     "name": "stderr",
     "output_type": "stream",
     "text": [
      "I0000 00:00:1742530741.821565       1 gl_context.cc:344] GL version: 2.1 (2.1 Metal - 88.1), renderer: Apple M1\n"
     ]
    },
    {
     "name": "stdout",
     "output_type": "stream",
     "text": [
      "모든 프레임 처리 완료, 총 프레임 수: 30\n",
      "CSV 파일 저장 완료: Dataset_csv/NoFall/Coffee_room_01/video (44)_nofall_clip1.csv\n"
     ]
    },
    {
     "name": "stderr",
     "output_type": "stream",
     "text": [
      "I0000 00:00:1742530742.803404       1 gl_context.cc:344] GL version: 2.1 (2.1 Metal - 88.1), renderer: Apple M1\n"
     ]
    },
    {
     "name": "stdout",
     "output_type": "stream",
     "text": [
      "모든 프레임 처리 완료, 총 프레임 수: 30\n",
      "CSV 파일 저장 완료: Dataset_csv/NoFall/Coffee_room_01/video (22)_nofall_clip1.csv\n"
     ]
    },
    {
     "name": "stderr",
     "output_type": "stream",
     "text": [
      "I0000 00:00:1742530743.902145       1 gl_context.cc:344] GL version: 2.1 (2.1 Metal - 88.1), renderer: Apple M1\n"
     ]
    },
    {
     "name": "stdout",
     "output_type": "stream",
     "text": [
      "모든 프레임 처리 완료, 총 프레임 수: 30\n",
      "CSV 파일 저장 완료: Dataset_csv/NoFall/Coffee_room_01/video (38)_nofall_clip1.csv\n"
     ]
    },
    {
     "name": "stderr",
     "output_type": "stream",
     "text": [
      "I0000 00:00:1742530744.894194       1 gl_context.cc:344] GL version: 2.1 (2.1 Metal - 88.1), renderer: Apple M1\n"
     ]
    },
    {
     "name": "stdout",
     "output_type": "stream",
     "text": [
      "모든 프레임 처리 완료, 총 프레임 수: 30\n",
      "CSV 파일 저장 완료: Dataset_csv/NoFall/Coffee_room_01/video (10)_nofall_clip1.csv\n"
     ]
    },
    {
     "name": "stderr",
     "output_type": "stream",
     "text": [
      "I0000 00:00:1742530745.726718       1 gl_context.cc:344] GL version: 2.1 (2.1 Metal - 88.1), renderer: Apple M1\n"
     ]
    },
    {
     "name": "stdout",
     "output_type": "stream",
     "text": [
      "모든 프레임 처리 완료, 총 프레임 수: 30\n",
      "CSV 파일 저장 완료: Dataset_csv/NoFall/Coffee_room_01/video (42)_nofall_clip1.csv\n"
     ]
    },
    {
     "name": "stderr",
     "output_type": "stream",
     "text": [
      "I0000 00:00:1742530746.701975       1 gl_context.cc:344] GL version: 2.1 (2.1 Metal - 88.1), renderer: Apple M1\n"
     ]
    },
    {
     "name": "stdout",
     "output_type": "stream",
     "text": [
      "모든 프레임 처리 완료, 총 프레임 수: 30\n",
      "CSV 파일 저장 완료: Dataset_csv/NoFall/Coffee_room_01/video (24)_nofall_clip1.csv\n"
     ]
    },
    {
     "name": "stderr",
     "output_type": "stream",
     "text": [
      "I0000 00:00:1742530747.684655       1 gl_context.cc:344] GL version: 2.1 (2.1 Metal - 88.1), renderer: Apple M1\n"
     ]
    },
    {
     "name": "stdout",
     "output_type": "stream",
     "text": [
      "모든 프레임 처리 완료, 총 프레임 수: 30\n",
      "CSV 파일 저장 완료: Dataset_csv/NoFall/Coffee_room_01/video (15)_nofall_clip1.csv\n"
     ]
    },
    {
     "name": "stderr",
     "output_type": "stream",
     "text": [
      "I0000 00:00:1742530748.672212       1 gl_context.cc:344] GL version: 2.1 (2.1 Metal - 88.1), renderer: Apple M1\n"
     ]
    },
    {
     "name": "stdout",
     "output_type": "stream",
     "text": [
      "모든 프레임 처리 완료, 총 프레임 수: 30\n",
      "CSV 파일 저장 완료: Dataset_csv/NoFall/Coffee_room_01/video (47)_nofall_clip1.csv\n"
     ]
    },
    {
     "name": "stderr",
     "output_type": "stream",
     "text": [
      "I0000 00:00:1742530749.653320       1 gl_context.cc:344] GL version: 2.1 (2.1 Metal - 88.1), renderer: Apple M1\n"
     ]
    },
    {
     "name": "stdout",
     "output_type": "stream",
     "text": [
      "모든 프레임 처리 완료, 총 프레임 수: 30\n",
      "CSV 파일 저장 완료: Dataset_csv/NoFall/Coffee_room_01/video (21)_nofall_clip1.csv\n"
     ]
    },
    {
     "name": "stderr",
     "output_type": "stream",
     "text": [
      "I0000 00:00:1742530750.701395       1 gl_context.cc:344] GL version: 2.1 (2.1 Metal - 88.1), renderer: Apple M1\n"
     ]
    },
    {
     "name": "stdout",
     "output_type": "stream",
     "text": [
      "모든 프레임 처리 완료, 총 프레임 수: 30\n",
      "CSV 파일 저장 완료: Dataset_csv/NoFall/Coffee_room_01/video (39)_nofall_clip1.csv\n"
     ]
    },
    {
     "name": "stderr",
     "output_type": "stream",
     "text": [
      "I0000 00:00:1742530751.651727       1 gl_context.cc:344] GL version: 2.1 (2.1 Metal - 88.1), renderer: Apple M1\n"
     ]
    },
    {
     "name": "stdout",
     "output_type": "stream",
     "text": [
      "모든 프레임 처리 완료, 총 프레임 수: 30\n",
      "CSV 파일 저장 완료: Dataset_csv/NoFall/Coffee_room_01/video (11)_nofall_clip1.csv\n"
     ]
    },
    {
     "name": "stderr",
     "output_type": "stream",
     "text": [
      "I0000 00:00:1742530752.634495       1 gl_context.cc:344] GL version: 2.1 (2.1 Metal - 88.1), renderer: Apple M1\n"
     ]
    },
    {
     "name": "stdout",
     "output_type": "stream",
     "text": [
      "모든 프레임 처리 완료, 총 프레임 수: 30\n",
      "CSV 파일 저장 완료: Dataset_csv/NoFall/Coffee_room_01/video (43)_nofall_clip1.csv\n"
     ]
    },
    {
     "name": "stderr",
     "output_type": "stream",
     "text": [
      "I0000 00:00:1742530753.608236       1 gl_context.cc:344] GL version: 2.1 (2.1 Metal - 88.1), renderer: Apple M1\n"
     ]
    },
    {
     "name": "stdout",
     "output_type": "stream",
     "text": [
      "모든 프레임 처리 완료, 총 프레임 수: 30\n",
      "CSV 파일 저장 완료: Dataset_csv/NoFall/Coffee_room_01/video (25)_nofall_clip1.csv\n"
     ]
    },
    {
     "name": "stderr",
     "output_type": "stream",
     "text": [
      "I0000 00:00:1742530754.584821       1 gl_context.cc:344] GL version: 2.1 (2.1 Metal - 88.1), renderer: Apple M1\n"
     ]
    },
    {
     "name": "stdout",
     "output_type": "stream",
     "text": [
      "모든 프레임 처리 완료, 총 프레임 수: 30\n",
      "CSV 파일 저장 완료: Dataset_csv/NoFall/Coffee_room_01/video (14)_nofall_clip1.csv\n"
     ]
    },
    {
     "name": "stderr",
     "output_type": "stream",
     "text": [
      "I0000 00:00:1742530755.568080       1 gl_context.cc:344] GL version: 2.1 (2.1 Metal - 88.1), renderer: Apple M1\n"
     ]
    },
    {
     "name": "stdout",
     "output_type": "stream",
     "text": [
      "모든 프레임 처리 완료, 총 프레임 수: 30\n",
      "CSV 파일 저장 완료: Dataset_csv/NoFall/Coffee_room_01/video (46)_nofall_clip1.csv\n"
     ]
    },
    {
     "name": "stderr",
     "output_type": "stream",
     "text": [
      "I0000 00:00:1742530756.545397       1 gl_context.cc:344] GL version: 2.1 (2.1 Metal - 88.1), renderer: Apple M1\n"
     ]
    },
    {
     "name": "stdout",
     "output_type": "stream",
     "text": [
      "모든 프레임 처리 완료, 총 프레임 수: 30\n",
      "CSV 파일 저장 완료: Dataset_csv/NoFall/Coffee_room_01/video (20)_nofall_clip1.csv\n"
     ]
    },
    {
     "name": "stderr",
     "output_type": "stream",
     "text": [
      "I0000 00:00:1742530757.617791       1 gl_context.cc:344] GL version: 2.1 (2.1 Metal - 88.1), renderer: Apple M1\n"
     ]
    },
    {
     "name": "stdout",
     "output_type": "stream",
     "text": [
      "모든 프레임 처리 완료, 총 프레임 수: 30\n",
      "CSV 파일 저장 완료: Dataset_csv/NoFall/Coffee_room_01/video (3)_nofall_clip1.csv\n"
     ]
    },
    {
     "name": "stderr",
     "output_type": "stream",
     "text": [
      "I0000 00:00:1742530758.625097       1 gl_context.cc:344] GL version: 2.1 (2.1 Metal - 88.1), renderer: Apple M1\n"
     ]
    },
    {
     "name": "stdout",
     "output_type": "stream",
     "text": [
      "모든 프레임 처리 완료, 총 프레임 수: 30\n",
      "CSV 파일 저장 완료: Dataset_csv/NoFall/Coffee_room_01/video (35)_nofall_clip1.csv\n"
     ]
    },
    {
     "name": "stderr",
     "output_type": "stream",
     "text": [
      "I0000 00:00:1742530759.635409       1 gl_context.cc:344] GL version: 2.1 (2.1 Metal - 88.1), renderer: Apple M1\n"
     ]
    },
    {
     "name": "stdout",
     "output_type": "stream",
     "text": [
      "모든 프레임 처리 완료, 총 프레임 수: 30\n",
      "CSV 파일 저장 완료: Dataset_csv/NoFall/Coffee_room_01/video (29)_nofall_clip1.csv\n"
     ]
    },
    {
     "name": "stderr",
     "output_type": "stream",
     "text": [
      "I0000 00:00:1742530760.612853       1 gl_context.cc:344] GL version: 2.1 (2.1 Metal - 88.1), renderer: Apple M1\n"
     ]
    },
    {
     "name": "stdout",
     "output_type": "stream",
     "text": [
      "모든 프레임 처리 완료, 총 프레임 수: 30\n",
      "CSV 파일 저장 완료: Dataset_csv/NoFall/Coffee_room_01/video (6)_nofall_clip1.csv\n"
     ]
    },
    {
     "name": "stderr",
     "output_type": "stream",
     "text": [
      "I0000 00:00:1742530761.600480       1 gl_context.cc:344] GL version: 2.1 (2.1 Metal - 88.1), renderer: Apple M1\n"
     ]
    },
    {
     "name": "stdout",
     "output_type": "stream",
     "text": [
      "모든 프레임 처리 완료, 총 프레임 수: 30\n",
      "CSV 파일 저장 완료: Dataset_csv/NoFall/Coffee_room_01/video (18)_nofall_clip1.csv\n"
     ]
    },
    {
     "name": "stderr",
     "output_type": "stream",
     "text": [
      "I0000 00:00:1742530762.584745       1 gl_context.cc:344] GL version: 2.1 (2.1 Metal - 88.1), renderer: Apple M1\n"
     ]
    },
    {
     "name": "stdout",
     "output_type": "stream",
     "text": [
      "모든 프레임 처리 완료, 총 프레임 수: 30\n",
      "CSV 파일 저장 완료: Dataset_csv/NoFall/Coffee_room_01/video (30)_nofall_clip1.csv\n"
     ]
    },
    {
     "name": "stderr",
     "output_type": "stream",
     "text": [
      "I0000 00:00:1742530763.639419       1 gl_context.cc:344] GL version: 2.1 (2.1 Metal - 88.1), renderer: Apple M1\n"
     ]
    },
    {
     "name": "stdout",
     "output_type": "stream",
     "text": [
      "모든 프레임 처리 완료, 총 프레임 수: 30\n",
      "CSV 파일 저장 완료: Dataset_csv/NoFall/Coffee_room_01/video (2)_nofall_clip1.csv\n"
     ]
    },
    {
     "name": "stderr",
     "output_type": "stream",
     "text": [
      "I0000 00:00:1742530764.621902       1 gl_context.cc:344] GL version: 2.1 (2.1 Metal - 88.1), renderer: Apple M1\n"
     ]
    },
    {
     "name": "stdout",
     "output_type": "stream",
     "text": [
      "모든 프레임 처리 완료, 총 프레임 수: 30\n",
      "CSV 파일 저장 완료: Dataset_csv/NoFall/Coffee_room_01/video (34)_nofall_clip1.csv\n"
     ]
    },
    {
     "name": "stderr",
     "output_type": "stream",
     "text": [
      "I0000 00:00:1742530765.602217       1 gl_context.cc:344] GL version: 2.1 (2.1 Metal - 88.1), renderer: Apple M1\n"
     ]
    },
    {
     "name": "stdout",
     "output_type": "stream",
     "text": [
      "모든 프레임 처리 완료, 총 프레임 수: 30\n",
      "CSV 파일 저장 완료: Dataset_csv/NoFall/Coffee_room_01/video (28)_nofall_clip1.csv\n"
     ]
    },
    {
     "name": "stderr",
     "output_type": "stream",
     "text": [
      "I0000 00:00:1742530766.583290       1 gl_context.cc:344] GL version: 2.1 (2.1 Metal - 88.1), renderer: Apple M1\n"
     ]
    },
    {
     "name": "stdout",
     "output_type": "stream",
     "text": [
      "모든 프레임 처리 완료, 총 프레임 수: 30\n",
      "CSV 파일 저장 완료: Dataset_csv/NoFall/Coffee_room_01/video (19)_nofall_clip1.csv\n"
     ]
    },
    {
     "name": "stderr",
     "output_type": "stream",
     "text": [
      "I0000 00:00:1742530767.570974       1 gl_context.cc:344] GL version: 2.1 (2.1 Metal - 88.1), renderer: Apple M1\n"
     ]
    },
    {
     "name": "stdout",
     "output_type": "stream",
     "text": [
      "모든 프레임 처리 완료, 총 프레임 수: 30\n",
      "CSV 파일 저장 완료: Dataset_csv/NoFall/Coffee_room_01/video (7)_nofall_clip1.csv\n"
     ]
    },
    {
     "name": "stderr",
     "output_type": "stream",
     "text": [
      "I0000 00:00:1742530768.553149       1 gl_context.cc:344] GL version: 2.1 (2.1 Metal - 88.1), renderer: Apple M1\n"
     ]
    },
    {
     "name": "stdout",
     "output_type": "stream",
     "text": [
      "모든 프레임 처리 완료, 총 프레임 수: 30\n",
      "CSV 파일 저장 완료: Dataset_csv/NoFall/Coffee_room_01/video (31)_nofall_clip1.csv\n"
     ]
    },
    {
     "name": "stderr",
     "output_type": "stream",
     "text": [
      "I0000 00:00:1742530769.542058       1 gl_context.cc:344] GL version: 2.1 (2.1 Metal - 88.1), renderer: Apple M1\n"
     ]
    },
    {
     "name": "stdout",
     "output_type": "stream",
     "text": [
      "모든 프레임 처리 완료, 총 프레임 수: 30\n",
      "CSV 파일 저장 완료: Dataset_csv/NoFall/Coffee_room_01/video (1)_nofall_clip1.csv\n"
     ]
    },
    {
     "name": "stderr",
     "output_type": "stream",
     "text": [
      "I0000 00:00:1742530770.617780       1 gl_context.cc:344] GL version: 2.1 (2.1 Metal - 88.1), renderer: Apple M1\n"
     ]
    },
    {
     "name": "stdout",
     "output_type": "stream",
     "text": [
      "모든 프레임 처리 완료, 총 프레임 수: 30\n",
      "CSV 파일 저장 완료: Dataset_csv/NoFall/Coffee_room_01/video (37)_nofall_clip1.csv\n"
     ]
    },
    {
     "name": "stderr",
     "output_type": "stream",
     "text": [
      "I0000 00:00:1742530771.631702       1 gl_context.cc:344] GL version: 2.1 (2.1 Metal - 88.1), renderer: Apple M1\n"
     ]
    },
    {
     "name": "stdout",
     "output_type": "stream",
     "text": [
      "모든 프레임 처리 완료, 총 프레임 수: 30\n",
      "CSV 파일 저장 완료: Dataset_csv/NoFall/Coffee_room_01/video (4)_nofall_clip1.csv\n"
     ]
    },
    {
     "name": "stderr",
     "output_type": "stream",
     "text": [
      "I0000 00:00:1742530772.608831       1 gl_context.cc:344] GL version: 2.1 (2.1 Metal - 88.1), renderer: Apple M1\n"
     ]
    },
    {
     "name": "stdout",
     "output_type": "stream",
     "text": [
      "모든 프레임 처리 완료, 총 프레임 수: 30\n",
      "CSV 파일 저장 완료: Dataset_csv/NoFall/Coffee_room_01/video (32)_nofall_clip1.csv\n"
     ]
    },
    {
     "name": "stderr",
     "output_type": "stream",
     "text": [
      "I0000 00:00:1742530773.592318       1 gl_context.cc:344] GL version: 2.1 (2.1 Metal - 88.1), renderer: Apple M1\n"
     ]
    },
    {
     "name": "stdout",
     "output_type": "stream",
     "text": [
      "모든 프레임 처리 완료, 총 프레임 수: 30\n",
      "CSV 파일 저장 완료: Dataset_csv/NoFall/Coffee_room_01/video (48)_nofall_clip1.csv\n"
     ]
    },
    {
     "name": "stderr",
     "output_type": "stream",
     "text": [
      "I0000 00:00:1742530774.712390       1 gl_context.cc:344] GL version: 2.1 (2.1 Metal - 88.1), renderer: Apple M1\n"
     ]
    },
    {
     "name": "stdout",
     "output_type": "stream",
     "text": [
      "모든 프레임 처리 완료, 총 프레임 수: 30\n",
      "CSV 파일 저장 완료: Dataset_csv/NoFall/Coffee_room_01/video (36)_nofall_clip1.csv\n"
     ]
    },
    {
     "name": "stderr",
     "output_type": "stream",
     "text": [
      "I0000 00:00:1742530775.777778       1 gl_context.cc:344] GL version: 2.1 (2.1 Metal - 88.1), renderer: Apple M1\n"
     ]
    },
    {
     "name": "stdout",
     "output_type": "stream",
     "text": [
      "모든 프레임 처리 완료, 총 프레임 수: 30\n",
      "CSV 파일 저장 완료: Dataset_csv/NoFall/Coffee_room_01/video (5)_nofall_clip1.csv\n"
     ]
    },
    {
     "name": "stderr",
     "output_type": "stream",
     "text": [
      "I0000 00:00:1742530776.862270       1 gl_context.cc:344] GL version: 2.1 (2.1 Metal - 88.1), renderer: Apple M1\n"
     ]
    },
    {
     "name": "stdout",
     "output_type": "stream",
     "text": [
      "모든 프레임 처리 완료, 총 프레임 수: 30\n",
      "CSV 파일 저장 완료: Dataset_csv/NoFall/Coffee_room_01/video (33)_nofall_clip1.csv\n"
     ]
    }
   ],
   "source": [
    "# 비디오 파일이 있는 폴더 경로와 CSV 파일을 저장할 폴더 경로를 설정합니다.\n",
    "video_folder = \"NoFallDataset_mp4\"  # 실제 비디오 파일 경로로 변경하세요.\n",
    "output_folder = \"Dataset_csv/NoFall\" # 실제 출력 경로로 변경하세요.\n",
    "# 비디오 파일 확장자 목록을 설정합니다.\n",
    "video_extensions = [\".mp4\", \".avi\", \".mov\"]\n",
    "\n",
    "# 폴더와 하위 폴더를 순회하면서 비디오 파일을 찾습니다.\n",
    "for root, _, files in tqdm(os.walk(video_folder)):\n",
    "    for file in files:\n",
    "        if any(file.lower().endswith(ext) for ext in video_extensions):\n",
    "            video_path = os.path.join(root, file)\n",
    "            relative_path = os.path.relpath(root, video_folder)\n",
    "            output_csv_subfolder = os.path.join(output_folder, relative_path)\n",
    "            output_csv_name = os.path.splitext(file)[0] + \".csv\"\n",
    "            skeleton_csv(video_path, output_csv_subfolder, output_csv_name)"
   ]
  }
 ],
 "metadata": {
  "kernelspec": {
   "display_name": "pose",
   "language": "python",
   "name": "python3"
  },
  "language_info": {
   "codemirror_mode": {
    "name": "ipython",
    "version": 3
   },
   "file_extension": ".py",
   "mimetype": "text/x-python",
   "name": "python",
   "nbconvert_exporter": "python",
   "pygments_lexer": "ipython3",
   "version": "3.8.18"
  }
 },
 "nbformat": 4,
 "nbformat_minor": 2
}
